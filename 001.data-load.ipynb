{
 "cells": [
  {
   "cell_type": "markdown",
   "id": "28601da8-bbd7-4be4-ae2e-1fa8e89356d8",
   "metadata": {},
   "source": [
    "# 1. Data load\n",
    "\n",
    "Load the [listings.csv](data/listings.md) file and parse the column types"
   ]
  },
  {
   "cell_type": "markdown",
   "id": "6c1d0e37-819d-4728-955a-cc41a06ce4ed",
   "metadata": {
    "tags": []
   },
   "source": [
    "## 1.1. Init"
   ]
  },
  {
   "cell_type": "markdown",
   "id": "0033f89f-5656-4563-b0cb-718b641a4cc1",
   "metadata": {
    "tags": []
   },
   "source": [
    "### 1.1.1. Importing libraries"
   ]
  },
  {
   "cell_type": "code",
   "execution_count": 1,
   "id": "8fa6c143-a0e6-471d-8dee-1cacb0442ec4",
   "metadata": {},
   "outputs": [],
   "source": [
    "import json\n",
    "\n",
    "import pandas as pd\n",
    "\n",
    "import warnings\n",
    "\n",
    "%run ./scripts/pd_display.py"
   ]
  },
  {
   "cell_type": "markdown",
   "id": "fe14ff1f-4e94-4b38-8998-d7ce80ece3b8",
   "metadata": {},
   "source": [
    "### 1.1.2. Configuring libraries"
   ]
  },
  {
   "cell_type": "code",
   "execution_count": 2,
   "id": "db9ae54c-f9ac-4c50-a8ae-31a279fe8d53",
   "metadata": {
    "tags": []
   },
   "outputs": [],
   "source": [
    "warnings.filterwarnings(\"ignore\") # So it does not return a new error message with the kernel-id for every run at `pd.read_csv` (git)"
   ]
  },
  {
   "cell_type": "markdown",
   "id": "354d528b-ecd9-4460-a12b-45907b8ce038",
   "metadata": {},
   "source": [
    "## 1.2. Defining functions"
   ]
  },
  {
   "cell_type": "code",
   "execution_count": 3,
   "id": "757dc25b-dea8-4ab5-82dd-b6e600e5229a",
   "metadata": {
    "tags": []
   },
   "outputs": [],
   "source": [
    "def tf_to_bool(v):\n",
    "    \"changes t | f to type bool, returns None when neither t or f\"\n",
    "    match v:\n",
    "        case 't':\n",
    "            return True\n",
    "        case 'f':\n",
    "            return False\n",
    "        case _:\n",
    "            return None"
   ]
  },
  {
   "cell_type": "markdown",
   "id": "cdbe22c4-06e7-47ca-b477-bf6d19ef09c1",
   "metadata": {
    "tags": []
   },
   "source": [
    "## 1.3. Loading data"
   ]
  },
  {
   "cell_type": "markdown",
   "id": "08d9ce40-5b02-4216-8cfc-cdc69d4f1672",
   "metadata": {},
   "source": [
    "### 1.3.1. read from CSV"
   ]
  },
  {
   "cell_type": "code",
   "execution_count": 4,
   "id": "a87a54a1-b55e-4dba-a35c-6abd3b9b74bf",
   "metadata": {},
   "outputs": [],
   "source": [
    "dtype = {\n",
    "    'listing_id': 'Int64',\n",
    "    'name': 'string',\n",
    "    'host_id': 'Int64',\n",
    "    'host_since': 'string',\n",
    "    'host_location': 'string',\n",
    "    'host_response_time': 'category',\n",
    "    'host_response_rate': 'float',\n",
    "    'host_acceptance_rate': 'float',\n",
    "    'host_total_listings_count': 'Int64',\n",
    "    'neighbourhood': 'category',\n",
    "    'district': 'category',\n",
    "    'city': 'category',\n",
    "    'latitude': 'float',\n",
    "    'longitude': 'float',\n",
    "    'property_type': 'category',\n",
    "    'room_type': 'category',\n",
    "    'accommodates': 'Int64',\n",
    "    'bedrooms': 'Int64',\n",
    "    'price': 'Int64',\n",
    "    'minimum_nights': 'Int64',\n",
    "    'maximum_nights': 'Int64',\n",
    "    'review_scores_rating': 'Int64',\n",
    "    'review_scores_accuracy': 'Int64',\n",
    "    'review_scores_cleanliness': 'Int64',\n",
    "    'review_scores_checkin': 'Int64',\n",
    "    'review_scores_communication': 'Int64',\n",
    "    'review_scores_location': 'Int64',\n",
    "    'review_scores_value': 'Int64',\n",
    "}"
   ]
  },
  {
   "cell_type": "code",
   "execution_count": 5,
   "id": "b6ac2ffb-137a-4f99-8619-c0a845d80e5a",
   "metadata": {},
   "outputs": [],
   "source": [
    "converters = {\n",
    "    **{x: tf_to_bool for x in ['instant_bookable', 'host_identity_verified', 'host_has_profile_pic', 'host_is_superhost']},\n",
    "    'amenities': json.loads\n",
    "}"
   ]
  },
  {
   "cell_type": "code",
   "execution_count": 6,
   "id": "50bfb1db-554e-45b8-9157-a47e1abe75d2",
   "metadata": {
    "tags": []
   },
   "outputs": [],
   "source": [
    "df = pd.read_csv(\n",
    "    'data/listings.csv',\n",
    "    encoding=\"raw_unicode_escape\",  # unicode_escape DOES NOT WORK, because of the json.loads\n",
    "    dtype=dtype,\n",
    "    converters=converters\n",
    ")\n",
    "\n",
    "#\n",
    "# Warning: Columns (8,10,11) have mixed types. Specify dtype option on import or set low_memory=False.\n",
    "#"
   ]
  },
  {
   "cell_type": "markdown",
   "id": "752463ce-36f5-46ba-85c8-b49abb19ff0c",
   "metadata": {
    "tags": []
   },
   "source": [
    "### 1.3.2. boolean type fixes\n",
    "\n",
    "Fixing the `DtypeWarning` for the columns `(8,10,11)`, setting those types to type *bool*"
   ]
  },
  {
   "cell_type": "code",
   "execution_count": 7,
   "id": "50c84d02-2171-4f45-b01b-17a71467de2c",
   "metadata": {},
   "outputs": [],
   "source": [
    "for c in [\"host_has_profile_pic\", \"host_identity_verified\", \"host_is_superhost\"]:\n",
    "    df[c] = df[c].astype(bool)"
   ]
  },
  {
   "cell_type": "markdown",
   "id": "2626e2c8-ac99-467d-8322-79b7494699ba",
   "metadata": {},
   "source": [
    "### 1.3.3. `host_since` to `datetime`"
   ]
  },
  {
   "cell_type": "code",
   "execution_count": 8,
   "id": "bd2e21d3-67a3-4074-a72c-3380584ac9f1",
   "metadata": {},
   "outputs": [],
   "source": [
    "df[\"host_since\"] = pd.to_datetime(df[\"host_since\"], format='%Y-%m-%d')"
   ]
  },
  {
   "cell_type": "markdown",
   "id": "cbb286cd-de9f-4d2e-9a8c-9fb857dd0877",
   "metadata": {},
   "source": [
    "## 1.4 Store"
   ]
  },
  {
   "cell_type": "code",
   "execution_count": 9,
   "id": "b9d56f39-9c53-401b-8714-c860abbd51a6",
   "metadata": {
    "tags": []
   },
   "outputs": [],
   "source": [
    "df.to_pickle(\"./pickles/001.dataframe.data-load.pkl\")"
   ]
  }
 ],
 "metadata": {
  "kernelspec": {
   "display_name": "Python 3 (ipykernel)",
   "language": "python",
   "name": "python3"
  },
  "language_info": {
   "codemirror_mode": {
    "name": "ipython",
    "version": 3
   },
   "file_extension": ".py",
   "mimetype": "text/x-python",
   "name": "python",
   "nbconvert_exporter": "python",
   "pygments_lexer": "ipython3",
   "version": "3.11.3"
  },
  "toc-autonumbering": false,
  "toc-showcode": false,
  "toc-showmarkdowntxt": false,
  "toc-showtags": false
 },
 "nbformat": 4,
 "nbformat_minor": 5
}
