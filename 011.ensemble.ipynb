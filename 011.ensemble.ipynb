{
 "cells": [
  {
   "cell_type": "markdown",
   "id": "ef8b77ac-911e-4e25-8ba7-92c41d3ee053",
   "metadata": {},
   "source": [
    "To further enhance the precision of our predictions, I propose the creation of an ensemble of various pre-trained regression models. This will allow us to take advantage of the strengths of each individual model, while minimizing their weaknesses.\n",
    "\n",
    "However, given that the `grid-searched-2` model has an unusually high average prediction time, I think it would be best to exclude it from our ensemble. Instead, we can consider other models with similar characteristics that can produce predictions in a more timely manner."
   ]
  },
  {
   "cell_type": "code",
   "execution_count": 154,
   "id": "c137b0b2-a780-48ea-8c18-32dffabf6310",
   "metadata": {
    "tags": []
   },
   "outputs": [],
   "source": [
    "import joblib\n",
    "from tensorflow import keras\n",
    "\n",
    "import pandas as pd\n",
    "import numpy as np\n",
    "\n",
    "from sklearn.metrics import mean_absolute_error, r2_score\n",
    "\n",
    "from threading import Thread\n",
    "\n",
    "import matplotlib.pyplot as plt\n",
    "\n",
    "import seaborn as sns"
   ]
  },
  {
   "cell_type": "code",
   "execution_count": 138,
   "id": "ca94937f-6312-4c42-94aa-1a5d274aa429",
   "metadata": {
    "tags": []
   },
   "outputs": [],
   "source": [
    "%run ./scripts/atomic_benchmark_estimator.py"
   ]
  },
  {
   "cell_type": "markdown",
   "id": "d57fff23-6fc2-4566-99f8-21d6f3acb2de",
   "metadata": {},
   "source": [
    "To combine the values, we will use the r2 scores as weights."
   ]
  },
  {
   "cell_type": "code",
   "execution_count": 37,
   "id": "3c6d2e22-db1d-4b2f-b240-53b5ab1ed749",
   "metadata": {
    "tags": []
   },
   "outputs": [],
   "source": [
    "df_models = pd.read_pickle(\"./pickles/dataframe.store_model_performance.pickle\")\n",
    "df_models.sort_values(\"name\", inplace=True)"
   ]
  },
  {
   "cell_type": "code",
   "execution_count": 38,
   "id": "b1589ebc-ac2a-4e79-b44f-b9ebb6b07649",
   "metadata": {
    "tags": []
   },
   "outputs": [
    {
     "data": {
      "text/html": [
       "<div>\n",
       "<style scoped>\n",
       "    .dataframe tbody tr th:only-of-type {\n",
       "        vertical-align: middle;\n",
       "    }\n",
       "\n",
       "    .dataframe tbody tr th {\n",
       "        vertical-align: top;\n",
       "    }\n",
       "\n",
       "    .dataframe thead th {\n",
       "        text-align: right;\n",
       "    }\n",
       "</style>\n",
       "<table border=\"1\" class=\"dataframe\">\n",
       "  <thead>\n",
       "    <tr style=\"text-align: right;\">\n",
       "      <th></th>\n",
       "      <th>name</th>\n",
       "      <th>R2_score</th>\n",
       "    </tr>\n",
       "  </thead>\n",
       "  <tbody>\n",
       "    <tr>\n",
       "      <th>0</th>\n",
       "      <td>KNeighborsRegressor</td>\n",
       "      <td>0.078090</td>\n",
       "    </tr>\n",
       "    <tr>\n",
       "      <th>2</th>\n",
       "      <td>KNeighborsRegressor-grid-searched</td>\n",
       "      <td>0.108780</td>\n",
       "    </tr>\n",
       "    <tr>\n",
       "      <th>1</th>\n",
       "      <td>RandomForestRegressor</td>\n",
       "      <td>0.170053</td>\n",
       "    </tr>\n",
       "    <tr>\n",
       "      <th>4</th>\n",
       "      <td>grid-searched-2</td>\n",
       "      <td>0.097501</td>\n",
       "    </tr>\n",
       "    <tr>\n",
       "      <th>5</th>\n",
       "      <td>randomized-searched-3-hidden-layers</td>\n",
       "      <td>0.086073</td>\n",
       "    </tr>\n",
       "    <tr>\n",
       "      <th>3</th>\n",
       "      <td>sequential</td>\n",
       "      <td>0.081812</td>\n",
       "    </tr>\n",
       "  </tbody>\n",
       "</table>\n",
       "</div>"
      ],
      "text/plain": [
       "                                  name  R2_score\n",
       "0                  KNeighborsRegressor  0.078090\n",
       "2    KNeighborsRegressor-grid-searched  0.108780\n",
       "1                RandomForestRegressor  0.170053\n",
       "4                      grid-searched-2  0.097501\n",
       "5  randomized-searched-3-hidden-layers  0.086073\n",
       "3                           sequential  0.081812"
      ]
     },
     "execution_count": 38,
     "metadata": {},
     "output_type": "execute_result"
    }
   ],
   "source": [
    "df_models[[\"name\", \"R2_score\"]]"
   ]
  },
  {
   "cell_type": "code",
   "execution_count": 157,
   "id": "d6caa6d3-c662-4c5c-a7d1-2829a9ad0aea",
   "metadata": {
    "tags": []
   },
   "outputs": [],
   "source": [
    "class WeightedAverageEnsemble:\n",
    "    weights = np.array([\n",
    "        0.078090,\n",
    "        0.108780,\n",
    "        0.170053,\n",
    "        0.086073,\n",
    "        0.081812\n",
    "    ])\n",
    "\n",
    "    @staticmethod\n",
    "    def load_knn():\n",
    "        return joblib.load(\"./pickles/k-neighbors-regressor.joblib\")\n",
    "\n",
    "    @staticmethod\n",
    "    def load_knn_grid_searched():\n",
    "        return joblib.load(\"./pickles/k-neighbors-regressor-grid-search-cv.joblib\").best_estimator_\n",
    "\n",
    "    @staticmethod\n",
    "    def load_random_forest():\n",
    "        model = joblib.load(\"./pickles/random-forest-regressor.joblib\")\n",
    "        model.verbose = 0\n",
    "        return model\n",
    "\n",
    "    @staticmethod\n",
    "    def load_sequential_randomized_search():\n",
    "        return keras.models.load_model(\"./pickles/009.sequential-randomized-search.h5\")\n",
    "\n",
    "    @staticmethod\n",
    "    def load_sequential():\n",
    "        return keras.models.load_model(\"./pickles/sequential.h5\")\n",
    "    \n",
    "    def __init__(self):\n",
    "        self.models = [\n",
    "            WeightedAverageEnsemble.load_knn(),\n",
    "            WeightedAverageEnsemble.load_knn_grid_searched(),\n",
    "            WeightedAverageEnsemble.load_random_forest(),\n",
    "            WeightedAverageEnsemble.load_sequential_randomized_search(),\n",
    "            WeightedAverageEnsemble.load_sequential(),\n",
    "        ]\n",
    "\n",
    "    @staticmethod\n",
    "    def predict_values(model, data, datalist, index):\n",
    "        if isinstance(model, keras.models.Sequential):\n",
    "            out = model.predict(data, verbose=0)\n",
    "        else:\n",
    "            out = model.predict(data)\n",
    "\n",
    "        datalist[index] = out.ravel()\n",
    "\n",
    "    def predict(self, inp):\n",
    "        inp = pd.DataFrame(inp)\n",
    "\n",
    "        if inp.shape[1] != WeightedAverageEnsemble.load_sequential().layers[0].input_shape[1]:\n",
    "            raise ValueError(\"Shape of input data does not equal the input shape of the model\")\n",
    "\n",
    "        threads = []\n",
    "        datalist = [None] * len(self.models)\n",
    "        for i, model in enumerate(self.models):\n",
    "            thread = Thread(target=WeightedAverageEnsemble.predict_values, args=(model, inp, datalist, i))\n",
    "            thread.start()\n",
    "            threads.append(thread)\n",
    "        \n",
    "        for t in threads:\n",
    "            t.join()\n",
    "\n",
    "        out = np.zeros(inp.shape[0])\n",
    "        for data, weight in zip(datalist, WeightedAverageEnsemble.weights):\n",
    "            out += data * weight\n",
    "        \n",
    "        out /= WeightedAverageEnsemble.weights.sum()\n",
    "\n",
    "        return out"
   ]
  },
  {
   "cell_type": "code",
   "execution_count": 132,
   "id": "e673c0ca-4520-4246-ad3b-46c279b3ca4c",
   "metadata": {
    "tags": []
   },
   "outputs": [],
   "source": [
    "df = pd.read_pickle(\"./pickles/003.dataframe.data-preprocessing.pkl\")"
   ]
  },
  {
   "cell_type": "code",
   "execution_count": 133,
   "id": "aa235c50-1cf1-4908-81c8-c1bb04b2b2e7",
   "metadata": {
    "tags": []
   },
   "outputs": [
    {
     "data": {
      "text/plain": [
       "array([ 84.83150927,  90.82292502,  97.21792139,  71.32975609,\n",
       "       116.93680206,  77.19309904,  96.42994657,  72.29420661,\n",
       "        82.46214164,  90.76752691,  67.30439182,  93.47519913,\n",
       "        59.97111258, 118.40957421,  66.41306147,  66.83792919,\n",
       "        65.92095327,  68.56950476,  62.28646497,  69.58435229,\n",
       "        55.98355437,  78.0687612 ,  87.56819463, 109.24797385,\n",
       "        78.5082119 ,  73.81017038,  82.20837532,  80.89497197,\n",
       "        65.01523076,  78.57355731,  75.45058578,  99.17451332,\n",
       "        84.38154322,  79.03954828,  79.95159346,  75.90368666,\n",
       "        91.44797169,  61.12205474, 137.19057667,  99.28700128,\n",
       "        73.01230719,  84.17211805,  66.82161637, 136.49720184,\n",
       "       100.95229994,  68.60218302,  85.34907119,  86.83108734,\n",
       "        79.48716475,  73.25272699])"
      ]
     },
     "execution_count": 133,
     "metadata": {},
     "output_type": "execute_result"
    }
   ],
   "source": [
    "reg = WeightedAverageEnsemble()\n",
    "pred = reg.predict(df.iloc[:50, 1:])\n",
    "pred"
   ]
  },
  {
   "cell_type": "code",
   "execution_count": null,
   "id": "b7e20bd8-7bfc-4cdd-bd3b-744d856d9107",
   "metadata": {
    "tags": []
   },
   "outputs": [],
   "source": [
    "plt.figure(figsize=(14, 5))\n",
    "plt.plot(df.iloc[:50, 0], marker='o')\n",
    "plt.plot(pred, marker='o')\n",
    "plt.legend([\"true\", \"pred\"])"
   ]
  },
  {
   "cell_type": "code",
   "execution_count": 145,
   "id": "f98db8cf-dd3d-48bf-880c-6f455e522da3",
   "metadata": {
    "tags": []
   },
   "outputs": [
    {
     "name": "stdout",
     "output_type": "stream",
     "text": [
      "atomic_benchmark runtimes: 0.18556785583496094 0.19920611381530762 0.42569875717163086\n"
     ]
    }
   ],
   "source": [
    "results = atomic_benchmark_estimator(reg, df.iloc[:2000, 1:], verbose=True)"
   ]
  },
  {
   "cell_type": "code",
   "execution_count": 155,
   "id": "794a8098-013c-484a-a559-96baf2aa3501",
   "metadata": {
    "tags": []
   },
   "outputs": [
    {
     "data": {
      "text/plain": [
       "<Axes: >"
      ]
     },
     "execution_count": 155,
     "metadata": {},
     "output_type": "execute_result"
    },
    {
     "data": {
      "image/png": "[encoded data removed]",
      "text/plain": [
       "<Figure size 640x480 with 1 Axes>"
      ]
     },
     "metadata": {},
     "output_type": "display_data"
    }
   ],
   "source": [
    "sns.boxplot(results, orient=\"h\")"
   ]
  },
  {
   "cell_type": "code",
   "execution_count": 148,
   "id": "04ff98d2-fb65-42a8-897b-d38908743f29",
   "metadata": {
    "tags": []
   },
   "outputs": [],
   "source": [
    "prediction_all = reg.predict(df.iloc[:, 1:])"
   ]
  },
  {
   "cell_type": "code",
   "execution_count": 151,
   "id": "7df875c4-b955-4d75-bd09-6626d62ce1fc",
   "metadata": {
    "tags": []
   },
   "outputs": [
    {
     "data": {
      "text/plain": [
       "297.8838338807442"
      ]
     },
     "execution_count": 151,
     "metadata": {},
     "output_type": "execute_result"
    }
   ],
   "source": [
    "mean_absolute_error(df.iloc[:, 0], prediction_all)"
   ]
  },
  {
   "cell_type": "code",
   "execution_count": 152,
   "id": "c4131761-b065-4313-bf2c-a4b1646699f1",
   "metadata": {
    "tags": []
   },
   "outputs": [
    {
     "data": {
      "text/plain": [
       "0.3967383069074184"
      ]
     },
     "execution_count": 152,
     "metadata": {},
     "output_type": "execute_result"
    }
   ],
   "source": [
    "r2_score(df.iloc[:, 0], prediction_all)"
   ]
  }
 ],
 "metadata": {
  "kernelspec": {
   "display_name": "Python 3 (ipykernel)",
   "language": "python",
   "name": "python3"
  },
  "language_info": {
   "codemirror_mode": {
    "name": "ipython",
    "version": 3
   },
   "file_extension": ".py",
   "mimetype": "text/x-python",
   "name": "python",
   "nbconvert_exporter": "python",
   "pygments_lexer": "ipython3",
   "version": "3.10.9"
  }
 },
 "nbformat": 4,
 "nbformat_minor": 5
}
