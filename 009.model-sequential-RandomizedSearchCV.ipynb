{
 "cells": [
  {
   "cell_type": "markdown",
   "id": "676078e9-ce73-4aa6-9fa2-3ba629dbeef5",
   "metadata": {},
   "source": [
    "# 7. Sequential RandomizedSearchCV"
   ]
  },
  {
   "cell_type": "code",
   "execution_count": 2,
   "id": "77e5cc45-6563-411c-8e53-d357d9b8205b",
   "metadata": {
    "tags": []
   },
   "outputs": [],
   "source": [
    "import joblib\n",
    "import os\n",
    "\n",
    "import pandas as pd\n",
    "\n",
    "from sklearn.model_selection import RandomizedSearchCV, train_test_split\n",
    "from sklearn.metrics import mean_absolute_error, r2_score\n",
    "from sklearn.preprocessing import StandardScaler\n",
    "\n",
    "import tensorflow as tf\n",
    "from tensorflow import keras\n",
    "from tensorflow.keras import layers\n",
    "\n",
    "from keras.layers import Dense\n",
    "from keras.callbacks import EarlyStopping\n",
    "\n",
    "from scikeras.wrappers import KerasRegressor\n",
    "\n",
    "import matplotlib.pyplot as plt\n",
    "\n",
    "import seaborn as sns"
   ]
  },
  {
   "cell_type": "code",
   "execution_count": 3,
   "id": "9dd6ce72-443d-4b77-b0b4-2091bafa3049",
   "metadata": {
    "tags": []
   },
   "outputs": [],
   "source": [
    "%run ./scripts/store_model_performance.py\n",
    "%run ./scripts/atomic_benchmark_estimator.py"
   ]
  },
  {
   "cell_type": "code",
   "execution_count": 4,
   "id": "bec1979e-987a-4c57-8126-d135afb33da1",
   "metadata": {
    "tags": []
   },
   "outputs": [
    {
     "data": {
      "text/html": [
       "<div>\n",
       "<style scoped>\n",
       "    .dataframe tbody tr th:only-of-type {\n",
       "        vertical-align: middle;\n",
       "    }\n",
       "\n",
       "    .dataframe tbody tr th {\n",
       "        vertical-align: top;\n",
       "    }\n",
       "\n",
       "    .dataframe thead th {\n",
       "        text-align: right;\n",
       "    }\n",
       "</style>\n",
       "<table border=\"1\" class=\"dataframe\">\n",
       "  <thead>\n",
       "    <tr style=\"text-align: right;\">\n",
       "      <th></th>\n",
       "      <th>price</th>\n",
       "      <th>host_is_superhost</th>\n",
       "      <th>host_total_listings_count</th>\n",
       "      <th>host_has_profile_pic</th>\n",
       "      <th>host_identity_verified</th>\n",
       "      <th>latitude</th>\n",
       "      <th>longitude</th>\n",
       "      <th>accommodates</th>\n",
       "      <th>bedrooms</th>\n",
       "      <th>review_scores_rating</th>\n",
       "      <th>...</th>\n",
       "      <th>Shampoo</th>\n",
       "      <th>Smoke alarm</th>\n",
       "      <th>Stove</th>\n",
       "      <th>TV</th>\n",
       "      <th>Washer</th>\n",
       "      <th>Wifi</th>\n",
       "      <th>Entire place</th>\n",
       "      <th>Hotel room</th>\n",
       "      <th>Private room</th>\n",
       "      <th>Shared room</th>\n",
       "    </tr>\n",
       "  </thead>\n",
       "  <tbody>\n",
       "    <tr>\n",
       "      <th>0</th>\n",
       "      <td>53</td>\n",
       "      <td>0</td>\n",
       "      <td>0.000138</td>\n",
       "      <td>1</td>\n",
       "      <td>0</td>\n",
       "      <td>0.543185</td>\n",
       "      <td>0.012963</td>\n",
       "      <td>0.066667</td>\n",
       "      <td>0.0</td>\n",
       "      <td>1.0</td>\n",
       "      <td>...</td>\n",
       "      <td>0</td>\n",
       "      <td>0</td>\n",
       "      <td>0</td>\n",
       "      <td>0</td>\n",
       "      <td>1</td>\n",
       "      <td>1</td>\n",
       "      <td>1.0</td>\n",
       "      <td>0.0</td>\n",
       "      <td>0.0</td>\n",
       "      <td>0.0</td>\n",
       "    </tr>\n",
       "    <tr>\n",
       "      <th>1</th>\n",
       "      <td>120</td>\n",
       "      <td>0</td>\n",
       "      <td>0.000138</td>\n",
       "      <td>1</td>\n",
       "      <td>1</td>\n",
       "      <td>0.543180</td>\n",
       "      <td>0.013029</td>\n",
       "      <td>0.066667</td>\n",
       "      <td>0.0</td>\n",
       "      <td>1.0</td>\n",
       "      <td>...</td>\n",
       "      <td>1</td>\n",
       "      <td>0</td>\n",
       "      <td>0</td>\n",
       "      <td>0</td>\n",
       "      <td>1</td>\n",
       "      <td>1</td>\n",
       "      <td>1.0</td>\n",
       "      <td>0.0</td>\n",
       "      <td>0.0</td>\n",
       "      <td>0.0</td>\n",
       "    </tr>\n",
       "    <tr>\n",
       "      <th>2</th>\n",
       "      <td>89</td>\n",
       "      <td>0</td>\n",
       "      <td>0.000138</td>\n",
       "      <td>1</td>\n",
       "      <td>0</td>\n",
       "      <td>0.543124</td>\n",
       "      <td>0.012873</td>\n",
       "      <td>0.066667</td>\n",
       "      <td>0.0</td>\n",
       "      <td>1.0</td>\n",
       "      <td>...</td>\n",
       "      <td>0</td>\n",
       "      <td>0</td>\n",
       "      <td>0</td>\n",
       "      <td>1</td>\n",
       "      <td>1</td>\n",
       "      <td>1</td>\n",
       "      <td>1.0</td>\n",
       "      <td>0.0</td>\n",
       "      <td>0.0</td>\n",
       "      <td>0.0</td>\n",
       "    </tr>\n",
       "    <tr>\n",
       "      <th>3</th>\n",
       "      <td>58</td>\n",
       "      <td>0</td>\n",
       "      <td>0.000138</td>\n",
       "      <td>1</td>\n",
       "      <td>1</td>\n",
       "      <td>0.542730</td>\n",
       "      <td>0.012810</td>\n",
       "      <td>0.066667</td>\n",
       "      <td>0.0</td>\n",
       "      <td>1.0</td>\n",
       "      <td>...</td>\n",
       "      <td>0</td>\n",
       "      <td>0</td>\n",
       "      <td>0</td>\n",
       "      <td>1</td>\n",
       "      <td>0</td>\n",
       "      <td>1</td>\n",
       "      <td>1.0</td>\n",
       "      <td>0.0</td>\n",
       "      <td>0.0</td>\n",
       "      <td>0.0</td>\n",
       "    </tr>\n",
       "    <tr>\n",
       "      <th>4</th>\n",
       "      <td>60</td>\n",
       "      <td>0</td>\n",
       "      <td>0.000138</td>\n",
       "      <td>1</td>\n",
       "      <td>0</td>\n",
       "      <td>0.542833</td>\n",
       "      <td>0.012610</td>\n",
       "      <td>0.066667</td>\n",
       "      <td>0.0</td>\n",
       "      <td>1.0</td>\n",
       "      <td>...</td>\n",
       "      <td>0</td>\n",
       "      <td>0</td>\n",
       "      <td>0</td>\n",
       "      <td>1</td>\n",
       "      <td>1</td>\n",
       "      <td>1</td>\n",
       "      <td>1.0</td>\n",
       "      <td>0.0</td>\n",
       "      <td>0.0</td>\n",
       "      <td>0.0</td>\n",
       "    </tr>\n",
       "    <tr>\n",
       "      <th>...</th>\n",
       "      <td>...</td>\n",
       "      <td>...</td>\n",
       "      <td>...</td>\n",
       "      <td>...</td>\n",
       "      <td>...</td>\n",
       "      <td>...</td>\n",
       "      <td>...</td>\n",
       "      <td>...</td>\n",
       "      <td>...</td>\n",
       "      <td>...</td>\n",
       "      <td>...</td>\n",
       "      <td>...</td>\n",
       "      <td>...</td>\n",
       "      <td>...</td>\n",
       "      <td>...</td>\n",
       "      <td>...</td>\n",
       "      <td>...</td>\n",
       "      <td>...</td>\n",
       "      <td>...</td>\n",
       "      <td>...</td>\n",
       "      <td>...</td>\n",
       "    </tr>\n",
       "    <tr>\n",
       "      <th>279707</th>\n",
       "      <td>120</td>\n",
       "      <td>0</td>\n",
       "      <td>0.000138</td>\n",
       "      <td>1</td>\n",
       "      <td>1</td>\n",
       "      <td>0.542522</td>\n",
       "      <td>0.012857</td>\n",
       "      <td>0.066667</td>\n",
       "      <td>0.0</td>\n",
       "      <td>1.0</td>\n",
       "      <td>...</td>\n",
       "      <td>0</td>\n",
       "      <td>1</td>\n",
       "      <td>0</td>\n",
       "      <td>1</td>\n",
       "      <td>1</td>\n",
       "      <td>1</td>\n",
       "      <td>1.0</td>\n",
       "      <td>0.0</td>\n",
       "      <td>0.0</td>\n",
       "      <td>0.0</td>\n",
       "    </tr>\n",
       "    <tr>\n",
       "      <th>279708</th>\n",
       "      <td>60</td>\n",
       "      <td>0</td>\n",
       "      <td>0.000138</td>\n",
       "      <td>1</td>\n",
       "      <td>1</td>\n",
       "      <td>0.543257</td>\n",
       "      <td>0.012956</td>\n",
       "      <td>0.066667</td>\n",
       "      <td>0.0</td>\n",
       "      <td>1.0</td>\n",
       "      <td>...</td>\n",
       "      <td>1</td>\n",
       "      <td>0</td>\n",
       "      <td>0</td>\n",
       "      <td>1</td>\n",
       "      <td>1</td>\n",
       "      <td>1</td>\n",
       "      <td>1.0</td>\n",
       "      <td>0.0</td>\n",
       "      <td>0.0</td>\n",
       "      <td>0.0</td>\n",
       "    </tr>\n",
       "    <tr>\n",
       "      <th>279709</th>\n",
       "      <td>50</td>\n",
       "      <td>0</td>\n",
       "      <td>0.000138</td>\n",
       "      <td>1</td>\n",
       "      <td>1</td>\n",
       "      <td>0.543189</td>\n",
       "      <td>0.013051</td>\n",
       "      <td>0.066667</td>\n",
       "      <td>0.0</td>\n",
       "      <td>1.0</td>\n",
       "      <td>...</td>\n",
       "      <td>1</td>\n",
       "      <td>0</td>\n",
       "      <td>0</td>\n",
       "      <td>0</td>\n",
       "      <td>1</td>\n",
       "      <td>1</td>\n",
       "      <td>1.0</td>\n",
       "      <td>0.0</td>\n",
       "      <td>0.0</td>\n",
       "      <td>0.0</td>\n",
       "    </tr>\n",
       "    <tr>\n",
       "      <th>279710</th>\n",
       "      <td>105</td>\n",
       "      <td>0</td>\n",
       "      <td>0.000138</td>\n",
       "      <td>1</td>\n",
       "      <td>1</td>\n",
       "      <td>0.542965</td>\n",
       "      <td>0.013229</td>\n",
       "      <td>0.066667</td>\n",
       "      <td>0.0</td>\n",
       "      <td>1.0</td>\n",
       "      <td>...</td>\n",
       "      <td>1</td>\n",
       "      <td>1</td>\n",
       "      <td>0</td>\n",
       "      <td>1</td>\n",
       "      <td>1</td>\n",
       "      <td>1</td>\n",
       "      <td>1.0</td>\n",
       "      <td>0.0</td>\n",
       "      <td>0.0</td>\n",
       "      <td>0.0</td>\n",
       "    </tr>\n",
       "    <tr>\n",
       "      <th>279711</th>\n",
       "      <td>70</td>\n",
       "      <td>0</td>\n",
       "      <td>0.000138</td>\n",
       "      <td>1</td>\n",
       "      <td>1</td>\n",
       "      <td>0.543024</td>\n",
       "      <td>0.013129</td>\n",
       "      <td>0.066667</td>\n",
       "      <td>0.0</td>\n",
       "      <td>1.0</td>\n",
       "      <td>...</td>\n",
       "      <td>1</td>\n",
       "      <td>0</td>\n",
       "      <td>0</td>\n",
       "      <td>0</td>\n",
       "      <td>1</td>\n",
       "      <td>1</td>\n",
       "      <td>1.0</td>\n",
       "      <td>0.0</td>\n",
       "      <td>0.0</td>\n",
       "      <td>0.0</td>\n",
       "    </tr>\n",
       "  </tbody>\n",
       "</table>\n",
       "<p>279599 rows × 64 columns</p>\n",
       "</div>"
      ],
      "text/plain": [
       "        price  host_is_superhost  host_total_listings_count   \n",
       "0          53                  0                   0.000138  \\\n",
       "1         120                  0                   0.000138   \n",
       "2          89                  0                   0.000138   \n",
       "3          58                  0                   0.000138   \n",
       "4          60                  0                   0.000138   \n",
       "...       ...                ...                        ...   \n",
       "279707    120                  0                   0.000138   \n",
       "279708     60                  0                   0.000138   \n",
       "279709     50                  0                   0.000138   \n",
       "279710    105                  0                   0.000138   \n",
       "279711     70                  0                   0.000138   \n",
       "\n",
       "        host_has_profile_pic  host_identity_verified  latitude  longitude   \n",
       "0                          1                       0  0.543185   0.012963  \\\n",
       "1                          1                       1  0.543180   0.013029   \n",
       "2                          1                       0  0.543124   0.012873   \n",
       "3                          1                       1  0.542730   0.012810   \n",
       "4                          1                       0  0.542833   0.012610   \n",
       "...                      ...                     ...       ...        ...   \n",
       "279707                     1                       1  0.542522   0.012857   \n",
       "279708                     1                       1  0.543257   0.012956   \n",
       "279709                     1                       1  0.543189   0.013051   \n",
       "279710                     1                       1  0.542965   0.013229   \n",
       "279711                     1                       1  0.543024   0.013129   \n",
       "\n",
       "        accommodates  bedrooms  review_scores_rating  ...  Shampoo   \n",
       "0           0.066667       0.0                   1.0  ...        0  \\\n",
       "1           0.066667       0.0                   1.0  ...        1   \n",
       "2           0.066667       0.0                   1.0  ...        0   \n",
       "3           0.066667       0.0                   1.0  ...        0   \n",
       "4           0.066667       0.0                   1.0  ...        0   \n",
       "...              ...       ...                   ...  ...      ...   \n",
       "279707      0.066667       0.0                   1.0  ...        0   \n",
       "279708      0.066667       0.0                   1.0  ...        1   \n",
       "279709      0.066667       0.0                   1.0  ...        1   \n",
       "279710      0.066667       0.0                   1.0  ...        1   \n",
       "279711      0.066667       0.0                   1.0  ...        1   \n",
       "\n",
       "        Smoke alarm  Stove  TV  Washer  Wifi  Entire place  Hotel room   \n",
       "0                 0      0   0       1     1           1.0         0.0  \\\n",
       "1                 0      0   0       1     1           1.0         0.0   \n",
       "2                 0      0   1       1     1           1.0         0.0   \n",
       "3                 0      0   1       0     1           1.0         0.0   \n",
       "4                 0      0   1       1     1           1.0         0.0   \n",
       "...             ...    ...  ..     ...   ...           ...         ...   \n",
       "279707            1      0   1       1     1           1.0         0.0   \n",
       "279708            0      0   1       1     1           1.0         0.0   \n",
       "279709            0      0   0       1     1           1.0         0.0   \n",
       "279710            1      0   1       1     1           1.0         0.0   \n",
       "279711            0      0   0       1     1           1.0         0.0   \n",
       "\n",
       "        Private room  Shared room  \n",
       "0                0.0          0.0  \n",
       "1                0.0          0.0  \n",
       "2                0.0          0.0  \n",
       "3                0.0          0.0  \n",
       "4                0.0          0.0  \n",
       "...              ...          ...  \n",
       "279707           0.0          0.0  \n",
       "279708           0.0          0.0  \n",
       "279709           0.0          0.0  \n",
       "279710           0.0          0.0  \n",
       "279711           0.0          0.0  \n",
       "\n",
       "[279599 rows x 64 columns]"
      ]
     },
     "execution_count": 4,
     "metadata": {},
     "output_type": "execute_result"
    }
   ],
   "source": [
    "df = pd.read_pickle(\"./pickles/003.dataframe.data-preprocessing.pkl\")\n",
    "df"
   ]
  },
  {
   "cell_type": "markdown",
   "id": "45996a5a-f612-4af0-ad2e-f079291e359d",
   "metadata": {
    "tags": []
   },
   "source": [
    "## 7.1. RandomizedSearchCV"
   ]
  },
  {
   "cell_type": "code",
   "execution_count": 5,
   "id": "f944d341-a870-408f-95f5-9c2d24b29ebb",
   "metadata": {
    "tags": []
   },
   "outputs": [
    {
     "data": {
      "text/plain": [
       "63"
      ]
     },
     "execution_count": 5,
     "metadata": {},
     "output_type": "execute_result"
    }
   ],
   "source": [
    "input_size = df.shape[1] - 1\n",
    "input_size"
   ]
  },
  {
   "cell_type": "code",
   "execution_count": 9,
   "id": "5bdaf10a-1a4d-410d-aaad-7d25832c5fe8",
   "metadata": {
    "tags": []
   },
   "outputs": [],
   "source": [
    "def create_model_3(first_n_nodes, n_nodes_1, n_nodes_2, n_nodes_3):\n",
    "    model = keras.models.Sequential()\n",
    "\n",
    "    model.add(Dense(first_n_nodes, input_shape=(input_size,), activation=\"tanh\"))\n",
    "\n",
    "    model.add(Dense(n_nodes_1, activation=\"tanh\"))\n",
    "    model.add(Dense(n_nodes_2, activation=\"tanh\"))\n",
    "    model.add(Dense(n_nodes_3, activation=\"tanh\"))\n",
    "\n",
    "    model.add(Dense(1, activation=\"linear\"))\n",
    "\n",
    "    model.compile(\n",
    "        optimizer=\"adam\",\n",
    "        loss=\"mae\",\n",
    "    )\n",
    "    \n",
    "    return model"
   ]
  },
  {
   "cell_type": "code",
   "execution_count": 6,
   "id": "c2937a7d-b47c-4569-9a1d-04e06038472f",
   "metadata": {
    "tags": []
   },
   "outputs": [
    {
     "data": {
      "text/plain": [
       "[5, 10, 32, 63, 126]"
      ]
     },
     "execution_count": 6,
     "metadata": {},
     "output_type": "execute_result"
    }
   ],
   "source": [
    "n_nodes = [5, 10, 32, 63, 126]\n",
    "n_nodes"
   ]
  },
  {
   "cell_type": "code",
   "execution_count": 7,
   "id": "b2144117-4b72-4d23-b3c0-09de6ec6d05e",
   "metadata": {
    "tags": []
   },
   "outputs": [],
   "source": [
    "params = {\n",
    "    \"batch_size\": list(range(10, 100, 30)),\n",
    "    **{k: n_nodes for k in [\"first_n_nodes\", \"n_nodes_1\", \"n_nodes_2\", \"n_nodes_3\"]}\n",
    "}"
   ]
  },
  {
   "cell_type": "code",
   "execution_count": 8,
   "id": "d31c7167-0005-40c7-9c30-da819dfdc82c",
   "metadata": {
    "tags": []
   },
   "outputs": [
    {
     "data": {
      "text/plain": [
       "<keras.callbacks.EarlyStopping at 0x2d32b5a0790>"
      ]
     },
     "execution_count": 8,
     "metadata": {},
     "output_type": "execute_result"
    }
   ],
   "source": [
    "early_stopping_monitor = EarlyStopping(patience=2, monitor=\"loss\")\n",
    "early_stopping_monitor"
   ]
  },
  {
   "cell_type": "code",
   "execution_count": 9,
   "id": "cdb14604-713e-4319-9a41-651210df2edc",
   "metadata": {
    "tags": []
   },
   "outputs": [],
   "source": [
    "keras_regressor = KerasRegressor(\n",
    "    model=create_model_3,\n",
    "    verbose=3,\n",
    "    epochs=40,\n",
    "    callbacks=[early_stopping_monitor],\n",
    "    **{n: params[n][0] for n in params},\n",
    ")"
   ]
  },
  {
   "cell_type": "code",
   "execution_count": 10,
   "id": "f048c803-8c9a-4f47-8062-a0b729d123ad",
   "metadata": {
    "tags": []
   },
   "outputs": [],
   "source": [
    "search = RandomizedSearchCV(\n",
    "    estimator=keras_regressor,\n",
    "    param_distributions=params,\n",
    "    n_jobs=10,\n",
    "    n_iter=15,\n",
    "    cv=6,\n",
    "    scoring=\"neg_mean_absolute_error\",\n",
    "    verbose=3,\n",
    "    error_score=\"raise\",\n",
    "    random_state=42\n",
    ")"
   ]
  },
  {
   "cell_type": "code",
   "execution_count": 11,
   "id": "7ee33880-b2f4-4350-906a-691990a00395",
   "metadata": {
    "tags": []
   },
   "outputs": [
    {
     "data": {
      "text/plain": [
       "array([[0.00000000e+00, 1.38217001e-04, 1.00000000e+00, ...,\n",
       "        0.00000000e+00, 0.00000000e+00, 0.00000000e+00],\n",
       "       [0.00000000e+00, 1.38217001e-04, 1.00000000e+00, ...,\n",
       "        0.00000000e+00, 0.00000000e+00, 0.00000000e+00],\n",
       "       [0.00000000e+00, 1.38217001e-04, 1.00000000e+00, ...,\n",
       "        0.00000000e+00, 0.00000000e+00, 0.00000000e+00],\n",
       "       ...,\n",
       "       [0.00000000e+00, 1.38217001e-04, 1.00000000e+00, ...,\n",
       "        0.00000000e+00, 0.00000000e+00, 0.00000000e+00],\n",
       "       [0.00000000e+00, 1.38217001e-04, 1.00000000e+00, ...,\n",
       "        0.00000000e+00, 0.00000000e+00, 0.00000000e+00],\n",
       "       [0.00000000e+00, 1.38217001e-04, 1.00000000e+00, ...,\n",
       "        0.00000000e+00, 0.00000000e+00, 0.00000000e+00]])"
      ]
     },
     "execution_count": 11,
     "metadata": {},
     "output_type": "execute_result"
    }
   ],
   "source": [
    "df.iloc[:, 1:].to_numpy()"
   ]
  },
  {
   "cell_type": "code",
   "execution_count": 12,
   "id": "c4d8f0cf-a61f-4cc3-9cca-9c06efcca198",
   "metadata": {
    "tags": []
   },
   "outputs": [
    {
     "data": {
      "text/plain": [
       "array([[53],\n",
       "       [120],\n",
       "       [89],\n",
       "       ...,\n",
       "       [50],\n",
       "       [105],\n",
       "       [70]], dtype=object)"
      ]
     },
     "execution_count": 12,
     "metadata": {},
     "output_type": "execute_result"
    }
   ],
   "source": [
    "df.iloc[:, :1].to_numpy()"
   ]
  },
  {
   "cell_type": "code",
   "execution_count": 13,
   "id": "7bb28e9e-1f06-49b3-a9b7-53010960912c",
   "metadata": {},
   "outputs": [
    {
     "name": "stdout",
     "output_type": "stream",
     "text": [
      "Fitting 6 folds for each of 15 candidates, totalling 90 fits\n"
     ]
    },
    {
     "name": "stderr",
     "output_type": "stream",
     "text": [
      "C:\\Users\\lande\\AppData\\Local\\Programs\\Python\\Python311\\Lib\\site-packages\\joblib\\externals\\loky\\process_executor.py:700: UserWarning: A worker stopped while some jobs were given to the executor. This can be caused by a too short worker timeout or by a memory leak.\n",
      "  warnings.warn(\n"
     ]
    },
    {
     "name": "stdout",
     "output_type": "stream",
     "text": [
      "Epoch 1/40\n",
      "Epoch 2/40\n",
      "Epoch 3/40\n",
      "Epoch 4/40\n",
      "Epoch 5/40\n",
      "Epoch 6/40\n",
      "Epoch 7/40\n",
      "Epoch 8/40\n",
      "Epoch 9/40\n",
      "Epoch 10/40\n",
      "Epoch 11/40\n",
      "Epoch 12/40\n",
      "Epoch 13/40\n",
      "Epoch 14/40\n",
      "Epoch 15/40\n",
      "Epoch 16/40\n",
      "Epoch 17/40\n",
      "Epoch 18/40\n",
      "Epoch 19/40\n",
      "Epoch 20/40\n",
      "Epoch 21/40\n",
      "Epoch 22/40\n",
      "Epoch 23/40\n",
      "Epoch 24/40\n",
      "Epoch 25/40\n",
      "Epoch 26/40\n",
      "Epoch 27/40\n",
      "Epoch 28/40\n",
      "Epoch 29/40\n",
      "Epoch 30/40\n",
      "Epoch 31/40\n",
      "Epoch 32/40\n",
      "Epoch 33/40\n",
      "Epoch 34/40\n",
      "Epoch 35/40\n",
      "Epoch 36/40\n",
      "Epoch 37/40\n",
      "Epoch 38/40\n",
      "Epoch 39/40\n",
      "Epoch 40/40\n"
     ]
    },
    {
     "data": {
      "text/html": [
       "<style>#sk-container-id-1 {color: black;background-color: white;}#sk-container-id-1 pre{padding: 0;}#sk-container-id-1 div.sk-toggleable {background-color: white;}#sk-container-id-1 label.sk-toggleable__label {cursor: pointer;display: block;width: 100%;margin-bottom: 0;padding: 0.3em;box-sizing: border-box;text-align: center;}#sk-container-id-1 label.sk-toggleable__label-arrow:before {content: \"▸\";float: left;margin-right: 0.25em;color: #696969;}#sk-container-id-1 label.sk-toggleable__label-arrow:hover:before {color: black;}#sk-container-id-1 div.sk-estimator:hover label.sk-toggleable__label-arrow:before {color: black;}#sk-container-id-1 div.sk-toggleable__content {max-height: 0;max-width: 0;overflow: hidden;text-align: left;background-color: #f0f8ff;}#sk-container-id-1 div.sk-toggleable__content pre {margin: 0.2em;color: black;border-radius: 0.25em;background-color: #f0f8ff;}#sk-container-id-1 input.sk-toggleable__control:checked~div.sk-toggleable__content {max-height: 200px;max-width: 100%;overflow: auto;}#sk-container-id-1 input.sk-toggleable__control:checked~label.sk-toggleable__label-arrow:before {content: \"▾\";}#sk-container-id-1 div.sk-estimator input.sk-toggleable__control:checked~label.sk-toggleable__label {background-color: #d4ebff;}#sk-container-id-1 div.sk-label input.sk-toggleable__control:checked~label.sk-toggleable__label {background-color: #d4ebff;}#sk-container-id-1 input.sk-hidden--visually {border: 0;clip: rect(1px 1px 1px 1px);clip: rect(1px, 1px, 1px, 1px);height: 1px;margin: -1px;overflow: hidden;padding: 0;position: absolute;width: 1px;}#sk-container-id-1 div.sk-estimator {font-family: monospace;background-color: #f0f8ff;border: 1px dotted black;border-radius: 0.25em;box-sizing: border-box;margin-bottom: 0.5em;}#sk-container-id-1 div.sk-estimator:hover {background-color: #d4ebff;}#sk-container-id-1 div.sk-parallel-item::after {content: \"\";width: 100%;border-bottom: 1px solid gray;flex-grow: 1;}#sk-container-id-1 div.sk-label:hover label.sk-toggleable__label {background-color: #d4ebff;}#sk-container-id-1 div.sk-serial::before {content: \"\";position: absolute;border-left: 1px solid gray;box-sizing: border-box;top: 0;bottom: 0;left: 50%;z-index: 0;}#sk-container-id-1 div.sk-serial {display: flex;flex-direction: column;align-items: center;background-color: white;padding-right: 0.2em;padding-left: 0.2em;position: relative;}#sk-container-id-1 div.sk-item {position: relative;z-index: 1;}#sk-container-id-1 div.sk-parallel {display: flex;align-items: stretch;justify-content: center;background-color: white;position: relative;}#sk-container-id-1 div.sk-item::before, #sk-container-id-1 div.sk-parallel-item::before {content: \"\";position: absolute;border-left: 1px solid gray;box-sizing: border-box;top: 0;bottom: 0;left: 50%;z-index: -1;}#sk-container-id-1 div.sk-parallel-item {display: flex;flex-direction: column;z-index: 1;position: relative;background-color: white;}#sk-container-id-1 div.sk-parallel-item:first-child::after {align-self: flex-end;width: 50%;}#sk-container-id-1 div.sk-parallel-item:last-child::after {align-self: flex-start;width: 50%;}#sk-container-id-1 div.sk-parallel-item:only-child::after {width: 0;}#sk-container-id-1 div.sk-dashed-wrapped {border: 1px dashed gray;margin: 0 0.4em 0.5em 0.4em;box-sizing: border-box;padding-bottom: 0.4em;background-color: white;}#sk-container-id-1 div.sk-label label {font-family: monospace;font-weight: bold;display: inline-block;line-height: 1.2em;}#sk-container-id-1 div.sk-label-container {text-align: center;}#sk-container-id-1 div.sk-container {/* jupyter's `normalize.less` sets `[hidden] { display: none; }` but bootstrap.min.css set `[hidden] { display: none !important; }` so we also need the `!important` here to be able to override the default hidden behavior on the sphinx rendered scikit-learn.org. See: https://github.com/scikit-learn/scikit-learn/issues/21755 */display: inline-block !important;position: relative;}#sk-container-id-1 div.sk-text-repr-fallback {display: none;}</style><div id=\"sk-container-id-1\" class=\"sk-top-container\"><div class=\"sk-text-repr-fallback\"><pre>RandomizedSearchCV(cv=6, error_score=&#x27;raise&#x27;,\n",
       "                   estimator=KerasRegressor(batch_size=10, callbacks=[&lt;keras.callbacks.EarlyStopping object at 0x000002D32B5A0790&gt;], epochs=40, first_n_nodes=5, model=&lt;function create_model_3 at 0x000002D32B59E0C0&gt;, n_nodes_1=5, n_nodes_2=5, n_nodes_3=5, verbose=3),\n",
       "                   n_iter=15, n_jobs=10,\n",
       "                   param_distributions={&#x27;batch_size&#x27;: [10, 40, 70],\n",
       "                                        &#x27;first_n_nodes&#x27;: [5, 10, 32, 63, 126],\n",
       "                                        &#x27;n_nodes_1&#x27;: [5, 10, 32, 63, 126],\n",
       "                                        &#x27;n_nodes_2&#x27;: [5, 10, 32, 63, 126],\n",
       "                                        &#x27;n_nodes_3&#x27;: [5, 10, 32, 63, 126]},\n",
       "                   random_state=42, scoring=&#x27;neg_mean_absolute_error&#x27;,\n",
       "                   verbose=3)</pre><b>In a Jupyter environment, please rerun this cell to show the HTML representation or trust the notebook. <br />On GitHub, the HTML representation is unable to render, please try loading this page with nbviewer.org.</b></div><div class=\"sk-container\" hidden><div class=\"sk-item sk-dashed-wrapped\"><div class=\"sk-label-container\"><div class=\"sk-label sk-toggleable\"><input class=\"sk-toggleable__control sk-hidden--visually\" id=\"sk-estimator-id-1\" type=\"checkbox\" ><label for=\"sk-estimator-id-1\" class=\"sk-toggleable__label sk-toggleable__label-arrow\">RandomizedSearchCV</label><div class=\"sk-toggleable__content\"><pre>RandomizedSearchCV(cv=6, error_score=&#x27;raise&#x27;,\n",
       "                   estimator=KerasRegressor(batch_size=10, callbacks=[&lt;keras.callbacks.EarlyStopping object at 0x000002D32B5A0790&gt;], epochs=40, first_n_nodes=5, model=&lt;function create_model_3 at 0x000002D32B59E0C0&gt;, n_nodes_1=5, n_nodes_2=5, n_nodes_3=5, verbose=3),\n",
       "                   n_iter=15, n_jobs=10,\n",
       "                   param_distributions={&#x27;batch_size&#x27;: [10, 40, 70],\n",
       "                                        &#x27;first_n_nodes&#x27;: [5, 10, 32, 63, 126],\n",
       "                                        &#x27;n_nodes_1&#x27;: [5, 10, 32, 63, 126],\n",
       "                                        &#x27;n_nodes_2&#x27;: [5, 10, 32, 63, 126],\n",
       "                                        &#x27;n_nodes_3&#x27;: [5, 10, 32, 63, 126]},\n",
       "                   random_state=42, scoring=&#x27;neg_mean_absolute_error&#x27;,\n",
       "                   verbose=3)</pre></div></div></div><div class=\"sk-parallel\"><div class=\"sk-parallel-item\"><div class=\"sk-item\"><div class=\"sk-label-container\"><div class=\"sk-label sk-toggleable\"><input class=\"sk-toggleable__control sk-hidden--visually\" id=\"sk-estimator-id-2\" type=\"checkbox\" ><label for=\"sk-estimator-id-2\" class=\"sk-toggleable__label sk-toggleable__label-arrow\">estimator: KerasRegressor</label><div class=\"sk-toggleable__content\"><pre>KerasRegressor(\n",
       "\tmodel=&lt;function create_model_3 at 0x000002D32B59E0C0&gt;\n",
       "\tbuild_fn=None\n",
       "\twarm_start=False\n",
       "\trandom_state=None\n",
       "\toptimizer=rmsprop\n",
       "\tloss=None\n",
       "\tmetrics=None\n",
       "\tbatch_size=10\n",
       "\tvalidation_batch_size=None\n",
       "\tverbose=3\n",
       "\tcallbacks=[&lt;keras.callbacks.EarlyStopping object at 0x000002D32B5A0790&gt;]\n",
       "\tvalidation_split=0.0\n",
       "\tshuffle=True\n",
       "\trun_eagerly=False\n",
       "\tepochs=40\n",
       "\tfirst_n_nodes=5\n",
       "\tn_nodes_1=5\n",
       "\tn_nodes_2=5\n",
       "\tn_nodes_3=5\n",
       ")</pre></div></div></div><div class=\"sk-serial\"><div class=\"sk-item\"><div class=\"sk-estimator sk-toggleable\"><input class=\"sk-toggleable__control sk-hidden--visually\" id=\"sk-estimator-id-3\" type=\"checkbox\" ><label for=\"sk-estimator-id-3\" class=\"sk-toggleable__label sk-toggleable__label-arrow\">KerasRegressor</label><div class=\"sk-toggleable__content\"><pre>KerasRegressor(\n",
       "\tmodel=&lt;function create_model_3 at 0x000002D32B59E0C0&gt;\n",
       "\tbuild_fn=None\n",
       "\twarm_start=False\n",
       "\trandom_state=None\n",
       "\toptimizer=rmsprop\n",
       "\tloss=None\n",
       "\tmetrics=None\n",
       "\tbatch_size=10\n",
       "\tvalidation_batch_size=None\n",
       "\tverbose=3\n",
       "\tcallbacks=[&lt;keras.callbacks.EarlyStopping object at 0x000002D32B5A0790&gt;]\n",
       "\tvalidation_split=0.0\n",
       "\tshuffle=True\n",
       "\trun_eagerly=False\n",
       "\tepochs=40\n",
       "\tfirst_n_nodes=5\n",
       "\tn_nodes_1=5\n",
       "\tn_nodes_2=5\n",
       "\tn_nodes_3=5\n",
       ")</pre></div></div></div></div></div></div></div></div></div></div>"
      ],
      "text/plain": [
       "RandomizedSearchCV(cv=6, error_score='raise',\n",
       "                   estimator=KerasRegressor(batch_size=10, callbacks=[<keras.callbacks.EarlyStopping object at 0x000002D32B5A0790>], epochs=40, first_n_nodes=5, model=<function create_model_3 at 0x000002D32B59E0C0>, n_nodes_1=5, n_nodes_2=5, n_nodes_3=5, verbose=3),\n",
       "                   n_iter=15, n_jobs=10,\n",
       "                   param_distributions={'batch_size': [10, 40, 70],\n",
       "                                        'first_n_nodes': [5, 10, 32, 63, 126],\n",
       "                                        'n_nodes_1': [5, 10, 32, 63, 126],\n",
       "                                        'n_nodes_2': [5, 10, 32, 63, 126],\n",
       "                                        'n_nodes_3': [5, 10, 32, 63, 126]},\n",
       "                   random_state=42, scoring='neg_mean_absolute_error',\n",
       "                   verbose=3)"
      ]
     },
     "execution_count": 13,
     "metadata": {},
     "output_type": "execute_result"
    }
   ],
   "source": [
    "search.fit(df.iloc[:, 1:].to_numpy(), df.iloc[:, :1].to_numpy(), verbose=3)"
   ]
  },
  {
   "cell_type": "code",
   "execution_count": 14,
   "id": "42d340b3-e7ac-44f0-a583-a1a51f00cc25",
   "metadata": {
    "tags": []
   },
   "outputs": [
    {
     "data": {
      "text/plain": [
       "{'n_nodes_3': 126,\n",
       " 'n_nodes_2': 63,\n",
       " 'n_nodes_1': 10,\n",
       " 'first_n_nodes': 63,\n",
       " 'batch_size': 40}"
      ]
     },
     "execution_count": 14,
     "metadata": {},
     "output_type": "execute_result"
    }
   ],
   "source": [
    "search.best_params_"
   ]
  },
  {
   "cell_type": "code",
   "execution_count": 29,
   "id": "fbf0e648-1fa4-4a41-ab07-59408c12495a",
   "metadata": {
    "tags": []
   },
   "outputs": [
    {
     "data": {
      "text/html": [
       "<div>\n",
       "<style scoped>\n",
       "    .dataframe tbody tr th:only-of-type {\n",
       "        vertical-align: middle;\n",
       "    }\n",
       "\n",
       "    .dataframe tbody tr th {\n",
       "        vertical-align: top;\n",
       "    }\n",
       "\n",
       "    .dataframe thead th {\n",
       "        text-align: right;\n",
       "    }\n",
       "</style>\n",
       "<table border=\"1\" class=\"dataframe\">\n",
       "  <thead>\n",
       "    <tr style=\"text-align: right;\">\n",
       "      <th></th>\n",
       "      <th>mean_fit_time</th>\n",
       "      <th>std_fit_time</th>\n",
       "      <th>mean_score_time</th>\n",
       "      <th>std_score_time</th>\n",
       "      <th>param_n_nodes_3</th>\n",
       "      <th>param_n_nodes_2</th>\n",
       "      <th>param_n_nodes_1</th>\n",
       "      <th>param_first_n_nodes</th>\n",
       "      <th>param_batch_size</th>\n",
       "      <th>params</th>\n",
       "      <th>split0_test_score</th>\n",
       "      <th>split1_test_score</th>\n",
       "      <th>split2_test_score</th>\n",
       "      <th>split3_test_score</th>\n",
       "      <th>split4_test_score</th>\n",
       "      <th>split5_test_score</th>\n",
       "      <th>mean_test_score</th>\n",
       "      <th>std_test_score</th>\n",
       "      <th>rank_test_score</th>\n",
       "    </tr>\n",
       "  </thead>\n",
       "  <tbody>\n",
       "    <tr>\n",
       "      <th>7</th>\n",
       "      <td>296.505198</td>\n",
       "      <td>12.579308</td>\n",
       "      <td>3.112833</td>\n",
       "      <td>0.429981</td>\n",
       "      <td>126</td>\n",
       "      <td>63</td>\n",
       "      <td>10</td>\n",
       "      <td>63</td>\n",
       "      <td>40</td>\n",
       "      <td>{'n_nodes_3': 126, 'n_nodes_2': 63, 'n_nodes_1...</td>\n",
       "      <td>-186.424852</td>\n",
       "      <td>-489.524570</td>\n",
       "      <td>-412.051405</td>\n",
       "      <td>-326.633738</td>\n",
       "      <td>-469.168962</td>\n",
       "      <td>-191.187342</td>\n",
       "      <td>-345.831812</td>\n",
       "      <td>122.432806</td>\n",
       "      <td>1</td>\n",
       "    </tr>\n",
       "    <tr>\n",
       "      <th>6</th>\n",
       "      <td>239.481273</td>\n",
       "      <td>3.235245</td>\n",
       "      <td>1.914994</td>\n",
       "      <td>0.424711</td>\n",
       "      <td>126</td>\n",
       "      <td>126</td>\n",
       "      <td>63</td>\n",
       "      <td>63</td>\n",
       "      <td>70</td>\n",
       "      <td>{'n_nodes_3': 126, 'n_nodes_2': 126, 'n_nodes_...</td>\n",
       "      <td>-185.573152</td>\n",
       "      <td>-493.177282</td>\n",
       "      <td>-411.266806</td>\n",
       "      <td>-328.856297</td>\n",
       "      <td>-473.193277</td>\n",
       "      <td>-187.015348</td>\n",
       "      <td>-346.513694</td>\n",
       "      <td>124.769290</td>\n",
       "      <td>2</td>\n",
       "    </tr>\n",
       "    <tr>\n",
       "      <th>1</th>\n",
       "      <td>154.744326</td>\n",
       "      <td>2.618644</td>\n",
       "      <td>1.340162</td>\n",
       "      <td>0.246758</td>\n",
       "      <td>126</td>\n",
       "      <td>10</td>\n",
       "      <td>63</td>\n",
       "      <td>10</td>\n",
       "      <td>70</td>\n",
       "      <td>{'n_nodes_3': 126, 'n_nodes_2': 10, 'n_nodes_1...</td>\n",
       "      <td>-187.295518</td>\n",
       "      <td>-504.935018</td>\n",
       "      <td>-415.858712</td>\n",
       "      <td>-326.296187</td>\n",
       "      <td>-478.174307</td>\n",
       "      <td>-189.452695</td>\n",
       "      <td>-350.335406</td>\n",
       "      <td>127.527947</td>\n",
       "      <td>3</td>\n",
       "    </tr>\n",
       "    <tr>\n",
       "      <th>11</th>\n",
       "      <td>305.350532</td>\n",
       "      <td>8.578520</td>\n",
       "      <td>2.493365</td>\n",
       "      <td>0.286830</td>\n",
       "      <td>63</td>\n",
       "      <td>32</td>\n",
       "      <td>126</td>\n",
       "      <td>126</td>\n",
       "      <td>40</td>\n",
       "      <td>{'n_nodes_3': 63, 'n_nodes_2': 32, 'n_nodes_1'...</td>\n",
       "      <td>-187.893898</td>\n",
       "      <td>-503.340187</td>\n",
       "      <td>-415.447661</td>\n",
       "      <td>-325.037219</td>\n",
       "      <td>-484.362166</td>\n",
       "      <td>-188.470188</td>\n",
       "      <td>-350.758553</td>\n",
       "      <td>128.348326</td>\n",
       "      <td>4</td>\n",
       "    </tr>\n",
       "    <tr>\n",
       "      <th>3</th>\n",
       "      <td>160.223588</td>\n",
       "      <td>3.076567</td>\n",
       "      <td>1.822494</td>\n",
       "      <td>0.377481</td>\n",
       "      <td>126</td>\n",
       "      <td>63</td>\n",
       "      <td>10</td>\n",
       "      <td>5</td>\n",
       "      <td>70</td>\n",
       "      <td>{'n_nodes_3': 126, 'n_nodes_2': 63, 'n_nodes_1...</td>\n",
       "      <td>-188.728259</td>\n",
       "      <td>-501.971764</td>\n",
       "      <td>-419.424981</td>\n",
       "      <td>-335.071863</td>\n",
       "      <td>-488.852507</td>\n",
       "      <td>-187.950492</td>\n",
       "      <td>-353.666644</td>\n",
       "      <td>128.844910</td>\n",
       "      <td>5</td>\n",
       "    </tr>\n",
       "    <tr>\n",
       "      <th>8</th>\n",
       "      <td>164.703493</td>\n",
       "      <td>6.131506</td>\n",
       "      <td>1.775646</td>\n",
       "      <td>0.587658</td>\n",
       "      <td>63</td>\n",
       "      <td>32</td>\n",
       "      <td>5</td>\n",
       "      <td>63</td>\n",
       "      <td>70</td>\n",
       "      <td>{'n_nodes_3': 63, 'n_nodes_2': 32, 'n_nodes_1'...</td>\n",
       "      <td>-185.265660</td>\n",
       "      <td>-515.910261</td>\n",
       "      <td>-414.645305</td>\n",
       "      <td>-324.160581</td>\n",
       "      <td>-494.742171</td>\n",
       "      <td>-188.103293</td>\n",
       "      <td>-353.804545</td>\n",
       "      <td>133.281845</td>\n",
       "      <td>6</td>\n",
       "    </tr>\n",
       "    <tr>\n",
       "      <th>14</th>\n",
       "      <td>752.875559</td>\n",
       "      <td>35.088759</td>\n",
       "      <td>2.708219</td>\n",
       "      <td>0.429640</td>\n",
       "      <td>32</td>\n",
       "      <td>32</td>\n",
       "      <td>63</td>\n",
       "      <td>5</td>\n",
       "      <td>10</td>\n",
       "      <td>{'n_nodes_3': 32, 'n_nodes_2': 32, 'n_nodes_1'...</td>\n",
       "      <td>-195.686921</td>\n",
       "      <td>-513.266239</td>\n",
       "      <td>-418.961837</td>\n",
       "      <td>-333.734636</td>\n",
       "      <td>-490.454054</td>\n",
       "      <td>-189.395515</td>\n",
       "      <td>-356.916534</td>\n",
       "      <td>129.565170</td>\n",
       "      <td>7</td>\n",
       "    </tr>\n",
       "    <tr>\n",
       "      <th>13</th>\n",
       "      <td>140.081473</td>\n",
       "      <td>1.378546</td>\n",
       "      <td>1.506573</td>\n",
       "      <td>0.158876</td>\n",
       "      <td>32</td>\n",
       "      <td>10</td>\n",
       "      <td>126</td>\n",
       "      <td>10</td>\n",
       "      <td>70</td>\n",
       "      <td>{'n_nodes_3': 32, 'n_nodes_2': 10, 'n_nodes_1'...</td>\n",
       "      <td>-188.148275</td>\n",
       "      <td>-539.349077</td>\n",
       "      <td>-425.431795</td>\n",
       "      <td>-330.888609</td>\n",
       "      <td>-511.646453</td>\n",
       "      <td>-189.052194</td>\n",
       "      <td>-364.086067</td>\n",
       "      <td>140.799813</td>\n",
       "      <td>8</td>\n",
       "    </tr>\n",
       "    <tr>\n",
       "      <th>2</th>\n",
       "      <td>207.160739</td>\n",
       "      <td>88.594728</td>\n",
       "      <td>3.504156</td>\n",
       "      <td>1.600028</td>\n",
       "      <td>5</td>\n",
       "      <td>32</td>\n",
       "      <td>126</td>\n",
       "      <td>10</td>\n",
       "      <td>40</td>\n",
       "      <td>{'n_nodes_3': 5, 'n_nodes_2': 32, 'n_nodes_1':...</td>\n",
       "      <td>-198.192854</td>\n",
       "      <td>-586.787482</td>\n",
       "      <td>-581.616857</td>\n",
       "      <td>-478.744683</td>\n",
       "      <td>-553.395366</td>\n",
       "      <td>-203.359755</td>\n",
       "      <td>-433.682833</td>\n",
       "      <td>168.419823</td>\n",
       "      <td>9</td>\n",
       "    </tr>\n",
       "    <tr>\n",
       "      <th>5</th>\n",
       "      <td>209.288223</td>\n",
       "      <td>116.996910</td>\n",
       "      <td>3.816240</td>\n",
       "      <td>1.108736</td>\n",
       "      <td>5</td>\n",
       "      <td>126</td>\n",
       "      <td>63</td>\n",
       "      <td>63</td>\n",
       "      <td>40</td>\n",
       "      <td>{'n_nodes_3': 5, 'n_nodes_2': 126, 'n_nodes_1'...</td>\n",
       "      <td>-198.386335</td>\n",
       "      <td>-792.002244</td>\n",
       "      <td>-581.614342</td>\n",
       "      <td>-478.744987</td>\n",
       "      <td>-556.429251</td>\n",
       "      <td>-199.703136</td>\n",
       "      <td>-467.813382</td>\n",
       "      <td>212.326551</td>\n",
       "      <td>10</td>\n",
       "    </tr>\n",
       "    <tr>\n",
       "      <th>10</th>\n",
       "      <td>412.769227</td>\n",
       "      <td>370.996246</td>\n",
       "      <td>8.925683</td>\n",
       "      <td>1.973091</td>\n",
       "      <td>10</td>\n",
       "      <td>63</td>\n",
       "      <td>63</td>\n",
       "      <td>63</td>\n",
       "      <td>10</td>\n",
       "      <td>{'n_nodes_3': 10, 'n_nodes_2': 63, 'n_nodes_1'...</td>\n",
       "      <td>-308.720195</td>\n",
       "      <td>-792.064470</td>\n",
       "      <td>-581.623109</td>\n",
       "      <td>-327.967514</td>\n",
       "      <td>-712.212795</td>\n",
       "      <td>-192.238353</td>\n",
       "      <td>-485.804406</td>\n",
       "      <td>222.369639</td>\n",
       "      <td>11</td>\n",
       "    </tr>\n",
       "    <tr>\n",
       "      <th>12</th>\n",
       "      <td>401.196580</td>\n",
       "      <td>302.365364</td>\n",
       "      <td>9.331189</td>\n",
       "      <td>5.635108</td>\n",
       "      <td>5</td>\n",
       "      <td>10</td>\n",
       "      <td>63</td>\n",
       "      <td>32</td>\n",
       "      <td>10</td>\n",
       "      <td>{'n_nodes_3': 5, 'n_nodes_2': 10, 'n_nodes_1':...</td>\n",
       "      <td>-308.771726</td>\n",
       "      <td>-791.978095</td>\n",
       "      <td>-581.626891</td>\n",
       "      <td>-328.027352</td>\n",
       "      <td>-712.213973</td>\n",
       "      <td>-192.657740</td>\n",
       "      <td>-485.879296</td>\n",
       "      <td>222.244112</td>\n",
       "      <td>12</td>\n",
       "    </tr>\n",
       "    <tr>\n",
       "      <th>9</th>\n",
       "      <td>164.044855</td>\n",
       "      <td>28.727863</td>\n",
       "      <td>9.679268</td>\n",
       "      <td>1.431486</td>\n",
       "      <td>10</td>\n",
       "      <td>126</td>\n",
       "      <td>126</td>\n",
       "      <td>5</td>\n",
       "      <td>10</td>\n",
       "      <td>{'n_nodes_3': 10, 'n_nodes_2': 126, 'n_nodes_1...</td>\n",
       "      <td>-308.642726</td>\n",
       "      <td>-791.967645</td>\n",
       "      <td>-581.618015</td>\n",
       "      <td>-478.743024</td>\n",
       "      <td>-712.222538</td>\n",
       "      <td>-310.512618</td>\n",
       "      <td>-530.617761</td>\n",
       "      <td>184.524281</td>\n",
       "      <td>13</td>\n",
       "    </tr>\n",
       "    <tr>\n",
       "      <th>0</th>\n",
       "      <td>53.211683</td>\n",
       "      <td>9.216121</td>\n",
       "      <td>3.271488</td>\n",
       "      <td>0.546291</td>\n",
       "      <td>10</td>\n",
       "      <td>5</td>\n",
       "      <td>5</td>\n",
       "      <td>126</td>\n",
       "      <td>40</td>\n",
       "      <td>{'n_nodes_3': 10, 'n_nodes_2': 5, 'n_nodes_1':...</td>\n",
       "      <td>-308.846505</td>\n",
       "      <td>-791.952869</td>\n",
       "      <td>-581.620673</td>\n",
       "      <td>-478.747143</td>\n",
       "      <td>-712.214962</td>\n",
       "      <td>-310.489482</td>\n",
       "      <td>-530.645272</td>\n",
       "      <td>184.483235</td>\n",
       "      <td>14</td>\n",
       "    </tr>\n",
       "    <tr>\n",
       "      <th>4</th>\n",
       "      <td>90.761229</td>\n",
       "      <td>12.557912</td>\n",
       "      <td>3.418320</td>\n",
       "      <td>1.206702</td>\n",
       "      <td>5</td>\n",
       "      <td>10</td>\n",
       "      <td>5</td>\n",
       "      <td>126</td>\n",
       "      <td>40</td>\n",
       "      <td>{'n_nodes_3': 5, 'n_nodes_2': 10, 'n_nodes_1':...</td>\n",
       "      <td>-308.794020</td>\n",
       "      <td>-792.017082</td>\n",
       "      <td>-581.618313</td>\n",
       "      <td>-478.743555</td>\n",
       "      <td>-712.212911</td>\n",
       "      <td>-310.502847</td>\n",
       "      <td>-530.648121</td>\n",
       "      <td>184.505978</td>\n",
       "      <td>15</td>\n",
       "    </tr>\n",
       "  </tbody>\n",
       "</table>\n",
       "</div>"
      ],
      "text/plain": [
       "    mean_fit_time  std_fit_time  mean_score_time  std_score_time   \n",
       "7      296.505198     12.579308         3.112833        0.429981  \\\n",
       "6      239.481273      3.235245         1.914994        0.424711   \n",
       "1      154.744326      2.618644         1.340162        0.246758   \n",
       "11     305.350532      8.578520         2.493365        0.286830   \n",
       "3      160.223588      3.076567         1.822494        0.377481   \n",
       "8      164.703493      6.131506         1.775646        0.587658   \n",
       "14     752.875559     35.088759         2.708219        0.429640   \n",
       "13     140.081473      1.378546         1.506573        0.158876   \n",
       "2      207.160739     88.594728         3.504156        1.600028   \n",
       "5      209.288223    116.996910         3.816240        1.108736   \n",
       "10     412.769227    370.996246         8.925683        1.973091   \n",
       "12     401.196580    302.365364         9.331189        5.635108   \n",
       "9      164.044855     28.727863         9.679268        1.431486   \n",
       "0       53.211683      9.216121         3.271488        0.546291   \n",
       "4       90.761229     12.557912         3.418320        1.206702   \n",
       "\n",
       "   param_n_nodes_3 param_n_nodes_2 param_n_nodes_1 param_first_n_nodes   \n",
       "7              126              63              10                  63  \\\n",
       "6              126             126              63                  63   \n",
       "1              126              10              63                  10   \n",
       "11              63              32             126                 126   \n",
       "3              126              63              10                   5   \n",
       "8               63              32               5                  63   \n",
       "14              32              32              63                   5   \n",
       "13              32              10             126                  10   \n",
       "2                5              32             126                  10   \n",
       "5                5             126              63                  63   \n",
       "10              10              63              63                  63   \n",
       "12               5              10              63                  32   \n",
       "9               10             126             126                   5   \n",
       "0               10               5               5                 126   \n",
       "4                5              10               5                 126   \n",
       "\n",
       "   param_batch_size                                             params   \n",
       "7                40  {'n_nodes_3': 126, 'n_nodes_2': 63, 'n_nodes_1...  \\\n",
       "6                70  {'n_nodes_3': 126, 'n_nodes_2': 126, 'n_nodes_...   \n",
       "1                70  {'n_nodes_3': 126, 'n_nodes_2': 10, 'n_nodes_1...   \n",
       "11               40  {'n_nodes_3': 63, 'n_nodes_2': 32, 'n_nodes_1'...   \n",
       "3                70  {'n_nodes_3': 126, 'n_nodes_2': 63, 'n_nodes_1...   \n",
       "8                70  {'n_nodes_3': 63, 'n_nodes_2': 32, 'n_nodes_1'...   \n",
       "14               10  {'n_nodes_3': 32, 'n_nodes_2': 32, 'n_nodes_1'...   \n",
       "13               70  {'n_nodes_3': 32, 'n_nodes_2': 10, 'n_nodes_1'...   \n",
       "2                40  {'n_nodes_3': 5, 'n_nodes_2': 32, 'n_nodes_1':...   \n",
       "5                40  {'n_nodes_3': 5, 'n_nodes_2': 126, 'n_nodes_1'...   \n",
       "10               10  {'n_nodes_3': 10, 'n_nodes_2': 63, 'n_nodes_1'...   \n",
       "12               10  {'n_nodes_3': 5, 'n_nodes_2': 10, 'n_nodes_1':...   \n",
       "9                10  {'n_nodes_3': 10, 'n_nodes_2': 126, 'n_nodes_1...   \n",
       "0                40  {'n_nodes_3': 10, 'n_nodes_2': 5, 'n_nodes_1':...   \n",
       "4                40  {'n_nodes_3': 5, 'n_nodes_2': 10, 'n_nodes_1':...   \n",
       "\n",
       "    split0_test_score  split1_test_score  split2_test_score   \n",
       "7         -186.424852        -489.524570        -412.051405  \\\n",
       "6         -185.573152        -493.177282        -411.266806   \n",
       "1         -187.295518        -504.935018        -415.858712   \n",
       "11        -187.893898        -503.340187        -415.447661   \n",
       "3         -188.728259        -501.971764        -419.424981   \n",
       "8         -185.265660        -515.910261        -414.645305   \n",
       "14        -195.686921        -513.266239        -418.961837   \n",
       "13        -188.148275        -539.349077        -425.431795   \n",
       "2         -198.192854        -586.787482        -581.616857   \n",
       "5         -198.386335        -792.002244        -581.614342   \n",
       "10        -308.720195        -792.064470        -581.623109   \n",
       "12        -308.771726        -791.978095        -581.626891   \n",
       "9         -308.642726        -791.967645        -581.618015   \n",
       "0         -308.846505        -791.952869        -581.620673   \n",
       "4         -308.794020        -792.017082        -581.618313   \n",
       "\n",
       "    split3_test_score  split4_test_score  split5_test_score  mean_test_score   \n",
       "7         -326.633738        -469.168962        -191.187342      -345.831812  \\\n",
       "6         -328.856297        -473.193277        -187.015348      -346.513694   \n",
       "1         -326.296187        -478.174307        -189.452695      -350.335406   \n",
       "11        -325.037219        -484.362166        -188.470188      -350.758553   \n",
       "3         -335.071863        -488.852507        -187.950492      -353.666644   \n",
       "8         -324.160581        -494.742171        -188.103293      -353.804545   \n",
       "14        -333.734636        -490.454054        -189.395515      -356.916534   \n",
       "13        -330.888609        -511.646453        -189.052194      -364.086067   \n",
       "2         -478.744683        -553.395366        -203.359755      -433.682833   \n",
       "5         -478.744987        -556.429251        -199.703136      -467.813382   \n",
       "10        -327.967514        -712.212795        -192.238353      -485.804406   \n",
       "12        -328.027352        -712.213973        -192.657740      -485.879296   \n",
       "9         -478.743024        -712.222538        -310.512618      -530.617761   \n",
       "0         -478.747143        -712.214962        -310.489482      -530.645272   \n",
       "4         -478.743555        -712.212911        -310.502847      -530.648121   \n",
       "\n",
       "    std_test_score  rank_test_score  \n",
       "7       122.432806                1  \n",
       "6       124.769290                2  \n",
       "1       127.527947                3  \n",
       "11      128.348326                4  \n",
       "3       128.844910                5  \n",
       "8       133.281845                6  \n",
       "14      129.565170                7  \n",
       "13      140.799813                8  \n",
       "2       168.419823                9  \n",
       "5       212.326551               10  \n",
       "10      222.369639               11  \n",
       "12      222.244112               12  \n",
       "9       184.524281               13  \n",
       "0       184.483235               14  \n",
       "4       184.505978               15  "
      ]
     },
     "execution_count": 29,
     "metadata": {},
     "output_type": "execute_result"
    }
   ],
   "source": [
    "pd.DataFrame(search.cv_results_).sort_values(\"mean_test_score\", ascending=False)"
   ]
  },
  {
   "cell_type": "markdown",
   "id": "8d1acb8b-c2c3-4022-9551-54cb842a8330",
   "metadata": {},
   "source": [
    "## 7.2. Recreate model"
   ]
  },
  {
   "cell_type": "markdown",
   "id": "172ed98b-570e-465e-9a23-a5f902e2a441",
   "metadata": {
    "tags": []
   },
   "source": [
    "### 7.2.1. split train val test"
   ]
  },
  {
   "cell_type": "code",
   "execution_count": 6,
   "id": "c499d06f-0397-4fca-a928-b3e4014e0686",
   "metadata": {
    "tags": []
   },
   "outputs": [
    {
     "data": {
      "text/plain": [
       "(223679, 27960, 27960, 279599)"
      ]
     },
     "execution_count": 6,
     "metadata": {},
     "output_type": "execute_result"
    }
   ],
   "source": [
    "train_size = .8\n",
    "validate_size = .1\n",
    "test_size = .1\n",
    "\n",
    "X_train_val, X_test, y_train_val, y_test = train_test_split(df.iloc[:, 1:], df.iloc[:, 0], random_state=42, train_size=train_size+test_size)\n",
    "X_train, X_val, y_train, y_val = train_test_split(X_train_val, y_train_val, random_state=42, train_size=train_size/(train_size+test_size))\n",
    "\n",
    "X_train.shape[0], X_val.shape[0], X_test.shape[0], df.shape[0]"
   ]
  },
  {
   "cell_type": "markdown",
   "id": "b7341f3a-03e4-4a73-949a-acc40fca7eab",
   "metadata": {},
   "source": [
    "### 7.2.2. Create"
   ]
  },
  {
   "cell_type": "code",
   "execution_count": 7,
   "id": "d84a836f-4932-437d-8775-632e0ae3dab7",
   "metadata": {
    "tags": []
   },
   "outputs": [],
   "source": [
    "model_path = \"./pickles/009.sequential-randomized-search.h5\""
   ]
  },
  {
   "cell_type": "code",
   "execution_count": 37,
   "id": "1439a79a-99cc-4cf6-abda-4d12939adca6",
   "metadata": {
    "tags": []
   },
   "outputs": [
    {
     "data": {
      "text/plain": [
       "{'n_nodes_3': 126,\n",
       " 'n_nodes_2': 63,\n",
       " 'n_nodes_1': 10,\n",
       " 'first_n_nodes': 63,\n",
       " 'batch_size': 40}"
      ]
     },
     "execution_count": 37,
     "metadata": {},
     "output_type": "execute_result"
    }
   ],
   "source": [
    "search.best_params_"
   ]
  },
  {
   "cell_type": "code",
   "execution_count": 34,
   "id": "abc321e8-9f96-4cfe-bf8a-defe9c47d619",
   "metadata": {},
   "outputs": [],
   "source": [
    "model = create_model_3(**{k: search.best_params_[k] for k in [\"first_n_nodes\", \"n_nodes_1\", \"n_nodes_2\", \"n_nodes_3\"]})"
   ]
  },
  {
   "cell_type": "code",
   "execution_count": 11,
   "id": "c3da214c-87e2-47b8-aeda-bf0e067a65f6",
   "metadata": {
    "tags": []
   },
   "outputs": [
    {
     "name": "stdout",
     "output_type": "stream",
     "text": [
      "Model: \"sequential\"\n",
      "_________________________________________________________________\n",
      " Layer (type)                Output Shape              Param #   \n",
      "=================================================================\n",
      " dense (Dense)               (None, 63)                4032      \n",
      "                                                                 \n",
      " dense_1 (Dense)             (None, 10)                640       \n",
      "                                                                 \n",
      " dense_2 (Dense)             (None, 63)                693       \n",
      "                                                                 \n",
      " dense_3 (Dense)             (None, 126)               8064      \n",
      "                                                                 \n",
      " dense_4 (Dense)             (None, 1)                 127       \n",
      "                                                                 \n",
      "=================================================================\n",
      "Total params: 13,556\n",
      "Trainable params: 13,556\n",
      "Non-trainable params: 0\n",
      "_________________________________________________________________\n"
     ]
    }
   ],
   "source": [
    "model.summary()"
   ]
  },
  {
   "cell_type": "markdown",
   "id": "7f434055-1643-4208-a460-33830014271f",
   "metadata": {},
   "source": [
    "### 7.2.3. Fit"
   ]
  },
  {
   "cell_type": "code",
   "execution_count": 12,
   "id": "e464832b-697d-43cf-a41a-941646d20d0d",
   "metadata": {
    "tags": []
   },
   "outputs": [],
   "source": [
    "early_stopping_cb = EarlyStopping(patience=2)  # monitor=\"loss\""
   ]
  },
  {
   "cell_type": "code",
   "execution_count": 40,
   "id": "59abf98f-7934-48cc-ba23-e39a26fa9421",
   "metadata": {
    "tags": []
   },
   "outputs": [
    {
     "name": "stdout",
     "output_type": "stream",
     "text": [
      "Epoch 1/60\n",
      "5592/5592 [==============================] - 4s 706us/step - loss: 531.1055 - val_loss: 526.8990\n",
      "Epoch 2/60\n",
      "5592/5592 [==============================] - 4s 687us/step - loss: 454.6498 - val_loss: 436.2779\n",
      "Epoch 3/60\n",
      "5592/5592 [==============================] - 4s 708us/step - loss: 399.4138 - val_loss: 406.7662\n",
      "Epoch 4/60\n",
      "5592/5592 [==============================] - 4s 721us/step - loss: 380.7707 - val_loss: 396.6760\n",
      "Epoch 5/60\n",
      "5592/5592 [==============================] - 4s 688us/step - loss: 372.5341 - val_loss: 388.3529\n",
      "Epoch 6/60\n",
      "5592/5592 [==============================] - 4s 708us/step - loss: 367.3177 - val_loss: 383.9034\n",
      "Epoch 7/60\n",
      "5592/5592 [==============================] - 4s 687us/step - loss: 363.0179 - val_loss: 383.8779\n",
      "Epoch 8/60\n",
      "5592/5592 [==============================] - 4s 676us/step - loss: 359.7411 - val_loss: 378.0482\n",
      "Epoch 9/60\n",
      "5592/5592 [==============================] - 4s 686us/step - loss: 357.1712 - val_loss: 375.0158\n",
      "Epoch 10/60\n",
      "5592/5592 [==============================] - 4s 718us/step - loss: 354.7951 - val_loss: 375.4530\n",
      "Epoch 11/60\n",
      "5592/5592 [==============================] - 4s 686us/step - loss: 352.7293 - val_loss: 375.3425\n"
     ]
    }
   ],
   "source": [
    "history = model.fit(\n",
    "    x=X_train.to_numpy().astype(np.float32),\n",
    "    y=y_train.to_numpy().astype(np.float32),\n",
    "    validation_data=(X_val.to_numpy().astype(np.float32), y_val.to_numpy().astype(np.float32)),\n",
    "\n",
    "    batch_size=search.best_params_[\"batch_size\"],\n",
    "    epochs=60,\n",
    "    callbacks=[early_stopping_cb],\n",
    ")"
   ]
  },
  {
   "cell_type": "code",
   "execution_count": 14,
   "id": "df75cfc1-cc24-4ee5-a1c4-e117ea935f07",
   "metadata": {
    "tags": []
   },
   "outputs": [],
   "source": [
    "model.save(model_path)"
   ]
  },
  {
   "cell_type": "code",
   "execution_count": 16,
   "id": "95e2e2da-bdd6-4bba-be71-3713471f638e",
   "metadata": {
    "tags": []
   },
   "outputs": [
    {
     "data": {
      "text/plain": [
       "<matplotlib.legend.Legend at 0x1ffe0979410>"
      ]
     },
     "execution_count": 16,
     "metadata": {},
     "output_type": "execute_result"
    },
    {
     "data": {
      "image/png": "[encoded data removed]",
      "text/plain": [
       "<Figure size 1500x700 with 1 Axes>"
      ]
     },
     "metadata": {},
     "output_type": "display_data"
    }
   ],
   "source": [
    "plt.figure(figsize=(15, 7))\n",
    "\n",
    "for d in history.history.values():\n",
    "    plt.plot(d)\n",
    "\n",
    "plt.legend(history.history.keys())"
   ]
  },
  {
   "cell_type": "markdown",
   "id": "aa122c50-6171-4ba9-b8d5-25f786b8103b",
   "metadata": {
    "tags": []
   },
   "source": [
    "### 7.2.4. Score"
   ]
  },
  {
   "cell_type": "code",
   "execution_count": 17,
   "id": "00aeb25e-161e-4f57-a54f-c336add8fde9",
   "metadata": {
    "tags": []
   },
   "outputs": [
    {
     "name": "stdout",
     "output_type": "stream",
     "text": [
      "874/874 [==============================] - 0s 442us/step\n"
     ]
    },
    {
     "data": {
      "text/plain": [
       "array([[175.83032 ],\n",
       "       [ 88.33397 ],\n",
       "       [554.2358  ],\n",
       "       ...,\n",
       "       [ 66.16587 ],\n",
       "       [ 64.86803 ],\n",
       "       [ 87.321045]], dtype=float32)"
      ]
     },
     "execution_count": 17,
     "metadata": {},
     "output_type": "execute_result"
    }
   ],
   "source": [
    "pred = model.predict(X_test)\n",
    "pred"
   ]
  },
  {
   "cell_type": "code",
   "execution_count": 18,
   "id": "3c8f0423-d832-4cfd-a97e-9ec2bc13fb17",
   "metadata": {
    "tags": []
   },
   "outputs": [
    {
     "data": {
      "text/plain": [
       "341.0579899204647"
      ]
     },
     "execution_count": 18,
     "metadata": {},
     "output_type": "execute_result"
    }
   ],
   "source": [
    "mae = mean_absolute_error(y_test, pred)\n",
    "mae"
   ]
  },
  {
   "cell_type": "code",
   "execution_count": 46,
   "id": "c8b59a0b-b1b9-4de0-a846-3e3da9a32906",
   "metadata": {
    "tags": []
   },
   "outputs": [
    {
     "data": {
      "text/plain": [
       "[<matplotlib.lines.Line2D at 0x2d352fd2590>]"
      ]
     },
     "execution_count": 46,
     "metadata": {},
     "output_type": "execute_result"
    },
    {
     "data": {
      "image/png": "[encoded data removed]",
      "text/plain": [
       "<Figure size 2500x700 with 1 Axes>"
      ]
     },
     "metadata": {},
     "output_type": "display_data"
    }
   ],
   "source": [
    "rng = slice(340, 380)\n",
    "\n",
    "plt.figure(figsize=(25, 7))\n",
    "plt.plot(y_test[rng].values)\n",
    "plt.plot(pred[rng])"
   ]
  },
  {
   "cell_type": "code",
   "execution_count": 20,
   "id": "dfd53f08-cf23-469b-800a-cec90c7fa965",
   "metadata": {
    "tags": []
   },
   "outputs": [
    {
     "name": "stdout",
     "output_type": "stream",
     "text": [
      "atomic_benchmark runtimes: 0.026999235153198242 0.03099989891052246 0.17746925354003906\n"
     ]
    }
   ],
   "source": [
    "results = atomic_benchmark_estimator(model, X_test[:5000], verbose=True, kwargs_estimator_predict=dict(verbose=0))"
   ]
  },
  {
   "cell_type": "code",
   "execution_count": 21,
   "id": "39003497-4574-42bf-bbbd-136cfdce3a81",
   "metadata": {
    "tags": []
   },
   "outputs": [
    {
     "data": {
      "text/plain": [
       "<Axes: >"
      ]
     },
     "execution_count": 21,
     "metadata": {},
     "output_type": "execute_result"
    },
    {
     "data": {
      "image/png": "[encoded data removed]",
      "text/plain": [
       "<Figure size 640x480 with 1 Axes>"
      ]
     },
     "metadata": {},
     "output_type": "display_data"
    }
   ],
   "source": [
    "sns.boxplot(results, orient=\"h\")"
   ]
  },
  {
   "cell_type": "code",
   "execution_count": 22,
   "id": "9aae6d6a-ad3a-43a0-a367-0528750cd938",
   "metadata": {
    "tags": []
   },
   "outputs": [
    {
     "data": {
      "text/plain": [
       "0.08607269842268472"
      ]
     },
     "execution_count": 22,
     "metadata": {},
     "output_type": "execute_result"
    }
   ],
   "source": [
    "score = r2_score(y_test, pred)\n",
    "score"
   ]
  },
  {
   "cell_type": "code",
   "execution_count": 31,
   "id": "04ec09ba-67b9-4141-a72a-5070e50fac9d",
   "metadata": {
    "tags": []
   },
   "outputs": [],
   "source": [
    "store_model_performance(\n",
    "    model_name=\"randomized-searched-3-hidden-layers\",\n",
    "    R2_score=score,\n",
    "    mae=mae,\n",
    "    avarage_predication_time=results.mean(),\n",
    "    parameters=search.best_params_,\n",
    ")"
   ]
  }
 ],
 "metadata": {
  "kernelspec": {
   "display_name": "Python 3 (ipykernel)",
   "language": "python",
   "name": "python3"
  },
  "language_info": {
   "codemirror_mode": {
    "name": "ipython",
    "version": 3
   },
   "file_extension": ".py",
   "mimetype": "text/x-python",
   "name": "python",
   "nbconvert_exporter": "python",
   "pygments_lexer": "ipython3",
   "version": "3.10.9"
  }
 },
 "nbformat": 4,
 "nbformat_minor": 5
}
