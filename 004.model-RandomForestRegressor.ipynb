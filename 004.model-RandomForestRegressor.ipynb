{
 "cells": [
  {
   "cell_type": "markdown",
   "id": "3cb2a075-4f9c-4bd8-93a1-08e86f2faf48",
   "metadata": {},
   "source": [
    "# 4. RandomForestRegressor"
   ]
  },
  {
   "cell_type": "code",
   "execution_count": 1,
   "id": "cb1dd251-78b1-476f-9636-19aa64f243a7",
   "metadata": {
    "tags": []
   },
   "outputs": [],
   "source": [
    "import joblib\n",
    "import os\n",
    "\n",
    "import pandas as pd\n",
    "\n",
    "from sklearn.ensemble import RandomForestRegressor\n",
    "from sklearn.model_selection import train_test_split\n",
    "from sklearn.metrics import mean_absolute_error\n",
    "\n",
    "import matplotlib.pyplot as plt\n",
    "import seaborn as sns"
   ]
  },
  {
   "cell_type": "code",
   "execution_count": 2,
   "id": "28f50830-712a-45b1-bbaf-d37518e4b09c",
   "metadata": {
    "tags": []
   },
   "outputs": [],
   "source": [
    "%run ./scripts/store_model_performance.py\n",
    "%run ./scripts/atomic_benchmark_estimator.py"
   ]
  },
  {
   "cell_type": "code",
   "execution_count": 3,
   "id": "e3cac85a-9320-4e96-8fee-d3db64a1cf9a",
   "metadata": {
    "tags": []
   },
   "outputs": [],
   "source": [
    "df = pd.read_pickle(\"./pickles/003.dataframe.data-preprocessing.pkl\")"
   ]
  },
  {
   "cell_type": "code",
   "execution_count": 4,
   "id": "da9abe1f-f831-489b-a319-f667230beffd",
   "metadata": {
    "tags": []
   },
   "outputs": [
    {
     "data": {
      "text/html": [
       "<div>\n",
       "<style scoped>\n",
       "    .dataframe tbody tr th:only-of-type {\n",
       "        vertical-align: middle;\n",
       "    }\n",
       "\n",
       "    .dataframe tbody tr th {\n",
       "        vertical-align: top;\n",
       "    }\n",
       "\n",
       "    .dataframe thead th {\n",
       "        text-align: right;\n",
       "    }\n",
       "</style>\n",
       "<table border=\"1\" class=\"dataframe\">\n",
       "  <thead>\n",
       "    <tr style=\"text-align: right;\">\n",
       "      <th></th>\n",
       "      <th>price</th>\n",
       "      <th>host_is_superhost</th>\n",
       "      <th>host_total_listings_count</th>\n",
       "      <th>host_has_profile_pic</th>\n",
       "      <th>host_identity_verified</th>\n",
       "      <th>latitude</th>\n",
       "      <th>longitude</th>\n",
       "      <th>accommodates</th>\n",
       "      <th>bedrooms</th>\n",
       "      <th>review_scores_rating</th>\n",
       "      <th>...</th>\n",
       "      <th>Shampoo</th>\n",
       "      <th>Smoke alarm</th>\n",
       "      <th>Stove</th>\n",
       "      <th>TV</th>\n",
       "      <th>Washer</th>\n",
       "      <th>Wifi</th>\n",
       "      <th>Entire place</th>\n",
       "      <th>Hotel room</th>\n",
       "      <th>Private room</th>\n",
       "      <th>Shared room</th>\n",
       "    </tr>\n",
       "  </thead>\n",
       "  <tbody>\n",
       "    <tr>\n",
       "      <th>0</th>\n",
       "      <td>53</td>\n",
       "      <td>0</td>\n",
       "      <td>0.000138</td>\n",
       "      <td>1</td>\n",
       "      <td>0</td>\n",
       "      <td>0.543185</td>\n",
       "      <td>0.012963</td>\n",
       "      <td>0.066667</td>\n",
       "      <td>0.0</td>\n",
       "      <td>1.0</td>\n",
       "      <td>...</td>\n",
       "      <td>0</td>\n",
       "      <td>0</td>\n",
       "      <td>0</td>\n",
       "      <td>0</td>\n",
       "      <td>1</td>\n",
       "      <td>1</td>\n",
       "      <td>1.0</td>\n",
       "      <td>0.0</td>\n",
       "      <td>0.0</td>\n",
       "      <td>0.0</td>\n",
       "    </tr>\n",
       "    <tr>\n",
       "      <th>1</th>\n",
       "      <td>120</td>\n",
       "      <td>0</td>\n",
       "      <td>0.000138</td>\n",
       "      <td>1</td>\n",
       "      <td>1</td>\n",
       "      <td>0.543180</td>\n",
       "      <td>0.013029</td>\n",
       "      <td>0.066667</td>\n",
       "      <td>0.0</td>\n",
       "      <td>1.0</td>\n",
       "      <td>...</td>\n",
       "      <td>1</td>\n",
       "      <td>0</td>\n",
       "      <td>0</td>\n",
       "      <td>0</td>\n",
       "      <td>1</td>\n",
       "      <td>1</td>\n",
       "      <td>1.0</td>\n",
       "      <td>0.0</td>\n",
       "      <td>0.0</td>\n",
       "      <td>0.0</td>\n",
       "    </tr>\n",
       "    <tr>\n",
       "      <th>2</th>\n",
       "      <td>89</td>\n",
       "      <td>0</td>\n",
       "      <td>0.000138</td>\n",
       "      <td>1</td>\n",
       "      <td>0</td>\n",
       "      <td>0.543124</td>\n",
       "      <td>0.012873</td>\n",
       "      <td>0.066667</td>\n",
       "      <td>0.0</td>\n",
       "      <td>1.0</td>\n",
       "      <td>...</td>\n",
       "      <td>0</td>\n",
       "      <td>0</td>\n",
       "      <td>0</td>\n",
       "      <td>1</td>\n",
       "      <td>1</td>\n",
       "      <td>1</td>\n",
       "      <td>1.0</td>\n",
       "      <td>0.0</td>\n",
       "      <td>0.0</td>\n",
       "      <td>0.0</td>\n",
       "    </tr>\n",
       "    <tr>\n",
       "      <th>3</th>\n",
       "      <td>58</td>\n",
       "      <td>0</td>\n",
       "      <td>0.000138</td>\n",
       "      <td>1</td>\n",
       "      <td>1</td>\n",
       "      <td>0.542730</td>\n",
       "      <td>0.012810</td>\n",
       "      <td>0.066667</td>\n",
       "      <td>0.0</td>\n",
       "      <td>1.0</td>\n",
       "      <td>...</td>\n",
       "      <td>0</td>\n",
       "      <td>0</td>\n",
       "      <td>0</td>\n",
       "      <td>1</td>\n",
       "      <td>0</td>\n",
       "      <td>1</td>\n",
       "      <td>1.0</td>\n",
       "      <td>0.0</td>\n",
       "      <td>0.0</td>\n",
       "      <td>0.0</td>\n",
       "    </tr>\n",
       "    <tr>\n",
       "      <th>4</th>\n",
       "      <td>60</td>\n",
       "      <td>0</td>\n",
       "      <td>0.000138</td>\n",
       "      <td>1</td>\n",
       "      <td>0</td>\n",
       "      <td>0.542833</td>\n",
       "      <td>0.012610</td>\n",
       "      <td>0.066667</td>\n",
       "      <td>0.0</td>\n",
       "      <td>1.0</td>\n",
       "      <td>...</td>\n",
       "      <td>0</td>\n",
       "      <td>0</td>\n",
       "      <td>0</td>\n",
       "      <td>1</td>\n",
       "      <td>1</td>\n",
       "      <td>1</td>\n",
       "      <td>1.0</td>\n",
       "      <td>0.0</td>\n",
       "      <td>0.0</td>\n",
       "      <td>0.0</td>\n",
       "    </tr>\n",
       "    <tr>\n",
       "      <th>...</th>\n",
       "      <td>...</td>\n",
       "      <td>...</td>\n",
       "      <td>...</td>\n",
       "      <td>...</td>\n",
       "      <td>...</td>\n",
       "      <td>...</td>\n",
       "      <td>...</td>\n",
       "      <td>...</td>\n",
       "      <td>...</td>\n",
       "      <td>...</td>\n",
       "      <td>...</td>\n",
       "      <td>...</td>\n",
       "      <td>...</td>\n",
       "      <td>...</td>\n",
       "      <td>...</td>\n",
       "      <td>...</td>\n",
       "      <td>...</td>\n",
       "      <td>...</td>\n",
       "      <td>...</td>\n",
       "      <td>...</td>\n",
       "      <td>...</td>\n",
       "    </tr>\n",
       "    <tr>\n",
       "      <th>279707</th>\n",
       "      <td>120</td>\n",
       "      <td>0</td>\n",
       "      <td>0.000138</td>\n",
       "      <td>1</td>\n",
       "      <td>1</td>\n",
       "      <td>0.542522</td>\n",
       "      <td>0.012857</td>\n",
       "      <td>0.066667</td>\n",
       "      <td>0.0</td>\n",
       "      <td>1.0</td>\n",
       "      <td>...</td>\n",
       "      <td>0</td>\n",
       "      <td>1</td>\n",
       "      <td>0</td>\n",
       "      <td>1</td>\n",
       "      <td>1</td>\n",
       "      <td>1</td>\n",
       "      <td>1.0</td>\n",
       "      <td>0.0</td>\n",
       "      <td>0.0</td>\n",
       "      <td>0.0</td>\n",
       "    </tr>\n",
       "    <tr>\n",
       "      <th>279708</th>\n",
       "      <td>60</td>\n",
       "      <td>0</td>\n",
       "      <td>0.000138</td>\n",
       "      <td>1</td>\n",
       "      <td>1</td>\n",
       "      <td>0.543257</td>\n",
       "      <td>0.012956</td>\n",
       "      <td>0.066667</td>\n",
       "      <td>0.0</td>\n",
       "      <td>1.0</td>\n",
       "      <td>...</td>\n",
       "      <td>1</td>\n",
       "      <td>0</td>\n",
       "      <td>0</td>\n",
       "      <td>1</td>\n",
       "      <td>1</td>\n",
       "      <td>1</td>\n",
       "      <td>1.0</td>\n",
       "      <td>0.0</td>\n",
       "      <td>0.0</td>\n",
       "      <td>0.0</td>\n",
       "    </tr>\n",
       "    <tr>\n",
       "      <th>279709</th>\n",
       "      <td>50</td>\n",
       "      <td>0</td>\n",
       "      <td>0.000138</td>\n",
       "      <td>1</td>\n",
       "      <td>1</td>\n",
       "      <td>0.543189</td>\n",
       "      <td>0.013051</td>\n",
       "      <td>0.066667</td>\n",
       "      <td>0.0</td>\n",
       "      <td>1.0</td>\n",
       "      <td>...</td>\n",
       "      <td>1</td>\n",
       "      <td>0</td>\n",
       "      <td>0</td>\n",
       "      <td>0</td>\n",
       "      <td>1</td>\n",
       "      <td>1</td>\n",
       "      <td>1.0</td>\n",
       "      <td>0.0</td>\n",
       "      <td>0.0</td>\n",
       "      <td>0.0</td>\n",
       "    </tr>\n",
       "    <tr>\n",
       "      <th>279710</th>\n",
       "      <td>105</td>\n",
       "      <td>0</td>\n",
       "      <td>0.000138</td>\n",
       "      <td>1</td>\n",
       "      <td>1</td>\n",
       "      <td>0.542965</td>\n",
       "      <td>0.013229</td>\n",
       "      <td>0.066667</td>\n",
       "      <td>0.0</td>\n",
       "      <td>1.0</td>\n",
       "      <td>...</td>\n",
       "      <td>1</td>\n",
       "      <td>1</td>\n",
       "      <td>0</td>\n",
       "      <td>1</td>\n",
       "      <td>1</td>\n",
       "      <td>1</td>\n",
       "      <td>1.0</td>\n",
       "      <td>0.0</td>\n",
       "      <td>0.0</td>\n",
       "      <td>0.0</td>\n",
       "    </tr>\n",
       "    <tr>\n",
       "      <th>279711</th>\n",
       "      <td>70</td>\n",
       "      <td>0</td>\n",
       "      <td>0.000138</td>\n",
       "      <td>1</td>\n",
       "      <td>1</td>\n",
       "      <td>0.543024</td>\n",
       "      <td>0.013129</td>\n",
       "      <td>0.066667</td>\n",
       "      <td>0.0</td>\n",
       "      <td>1.0</td>\n",
       "      <td>...</td>\n",
       "      <td>1</td>\n",
       "      <td>0</td>\n",
       "      <td>0</td>\n",
       "      <td>0</td>\n",
       "      <td>1</td>\n",
       "      <td>1</td>\n",
       "      <td>1.0</td>\n",
       "      <td>0.0</td>\n",
       "      <td>0.0</td>\n",
       "      <td>0.0</td>\n",
       "    </tr>\n",
       "  </tbody>\n",
       "</table>\n",
       "<p>279599 rows × 64 columns</p>\n",
       "</div>"
      ],
      "text/plain": [
       "        price  host_is_superhost  host_total_listings_count   \n",
       "0          53                  0                   0.000138  \\\n",
       "1         120                  0                   0.000138   \n",
       "2          89                  0                   0.000138   \n",
       "3          58                  0                   0.000138   \n",
       "4          60                  0                   0.000138   \n",
       "...       ...                ...                        ...   \n",
       "279707    120                  0                   0.000138   \n",
       "279708     60                  0                   0.000138   \n",
       "279709     50                  0                   0.000138   \n",
       "279710    105                  0                   0.000138   \n",
       "279711     70                  0                   0.000138   \n",
       "\n",
       "        host_has_profile_pic  host_identity_verified  latitude  longitude   \n",
       "0                          1                       0  0.543185   0.012963  \\\n",
       "1                          1                       1  0.543180   0.013029   \n",
       "2                          1                       0  0.543124   0.012873   \n",
       "3                          1                       1  0.542730   0.012810   \n",
       "4                          1                       0  0.542833   0.012610   \n",
       "...                      ...                     ...       ...        ...   \n",
       "279707                     1                       1  0.542522   0.012857   \n",
       "279708                     1                       1  0.543257   0.012956   \n",
       "279709                     1                       1  0.543189   0.013051   \n",
       "279710                     1                       1  0.542965   0.013229   \n",
       "279711                     1                       1  0.543024   0.013129   \n",
       "\n",
       "        accommodates  bedrooms  review_scores_rating  ...  Shampoo   \n",
       "0           0.066667       0.0                   1.0  ...        0  \\\n",
       "1           0.066667       0.0                   1.0  ...        1   \n",
       "2           0.066667       0.0                   1.0  ...        0   \n",
       "3           0.066667       0.0                   1.0  ...        0   \n",
       "4           0.066667       0.0                   1.0  ...        0   \n",
       "...              ...       ...                   ...  ...      ...   \n",
       "279707      0.066667       0.0                   1.0  ...        0   \n",
       "279708      0.066667       0.0                   1.0  ...        1   \n",
       "279709      0.066667       0.0                   1.0  ...        1   \n",
       "279710      0.066667       0.0                   1.0  ...        1   \n",
       "279711      0.066667       0.0                   1.0  ...        1   \n",
       "\n",
       "        Smoke alarm  Stove  TV  Washer  Wifi  Entire place  Hotel room   \n",
       "0                 0      0   0       1     1           1.0         0.0  \\\n",
       "1                 0      0   0       1     1           1.0         0.0   \n",
       "2                 0      0   1       1     1           1.0         0.0   \n",
       "3                 0      0   1       0     1           1.0         0.0   \n",
       "4                 0      0   1       1     1           1.0         0.0   \n",
       "...             ...    ...  ..     ...   ...           ...         ...   \n",
       "279707            1      0   1       1     1           1.0         0.0   \n",
       "279708            0      0   1       1     1           1.0         0.0   \n",
       "279709            0      0   0       1     1           1.0         0.0   \n",
       "279710            1      0   1       1     1           1.0         0.0   \n",
       "279711            0      0   0       1     1           1.0         0.0   \n",
       "\n",
       "        Private room  Shared room  \n",
       "0                0.0          0.0  \n",
       "1                0.0          0.0  \n",
       "2                0.0          0.0  \n",
       "3                0.0          0.0  \n",
       "4                0.0          0.0  \n",
       "...              ...          ...  \n",
       "279707           0.0          0.0  \n",
       "279708           0.0          0.0  \n",
       "279709           0.0          0.0  \n",
       "279710           0.0          0.0  \n",
       "279711           0.0          0.0  \n",
       "\n",
       "[279599 rows x 64 columns]"
      ]
     },
     "execution_count": 4,
     "metadata": {},
     "output_type": "execute_result"
    }
   ],
   "source": [
    "df"
   ]
  },
  {
   "cell_type": "markdown",
   "id": "5aa37202-5bfa-40cc-ba5c-5cc7b972e231",
   "metadata": {},
   "source": [
    "## 4.1. Split train test"
   ]
  },
  {
   "cell_type": "code",
   "execution_count": 5,
   "id": "16dd30bf-26a6-4538-ad18-1d64a5bfa39b",
   "metadata": {
    "tags": []
   },
   "outputs": [],
   "source": [
    "X_train, X_test, y_train, y_test = train_test_split(df.iloc[:, 1:], df.iloc[:, 0], random_state=42, train_size=.75)"
   ]
  },
  {
   "cell_type": "code",
   "execution_count": 6,
   "id": "c180a081-4596-4276-8034-f4484f77c409",
   "metadata": {
    "tags": []
   },
   "outputs": [
    {
     "data": {
      "text/plain": [
       "((209699, 63), (69900, 63), (209699,), (69900,))"
      ]
     },
     "execution_count": 6,
     "metadata": {},
     "output_type": "execute_result"
    }
   ],
   "source": [
    "X_train.shape, X_test.shape, y_train.shape, y_test.shape"
   ]
  },
  {
   "cell_type": "code",
   "execution_count": 7,
   "id": "bc16b011-7654-4907-a8c3-6e3445332b74",
   "metadata": {
    "tags": []
   },
   "outputs": [
    {
     "data": {
      "text/html": [
       "<div>\n",
       "<style scoped>\n",
       "    .dataframe tbody tr th:only-of-type {\n",
       "        vertical-align: middle;\n",
       "    }\n",
       "\n",
       "    .dataframe tbody tr th {\n",
       "        vertical-align: top;\n",
       "    }\n",
       "\n",
       "    .dataframe thead th {\n",
       "        text-align: right;\n",
       "    }\n",
       "</style>\n",
       "<table border=\"1\" class=\"dataframe\">\n",
       "  <thead>\n",
       "    <tr style=\"text-align: right;\">\n",
       "      <th></th>\n",
       "      <th>host_is_superhost</th>\n",
       "      <th>host_total_listings_count</th>\n",
       "      <th>host_has_profile_pic</th>\n",
       "      <th>host_identity_verified</th>\n",
       "      <th>latitude</th>\n",
       "      <th>longitude</th>\n",
       "      <th>accommodates</th>\n",
       "      <th>bedrooms</th>\n",
       "      <th>review_scores_rating</th>\n",
       "      <th>review_scores_accuracy</th>\n",
       "      <th>...</th>\n",
       "      <th>Shampoo</th>\n",
       "      <th>Smoke alarm</th>\n",
       "      <th>Stove</th>\n",
       "      <th>TV</th>\n",
       "      <th>Washer</th>\n",
       "      <th>Wifi</th>\n",
       "      <th>Entire place</th>\n",
       "      <th>Hotel room</th>\n",
       "      <th>Private room</th>\n",
       "      <th>Shared room</th>\n",
       "    </tr>\n",
       "  </thead>\n",
       "  <tbody>\n",
       "    <tr>\n",
       "      <th>160755</th>\n",
       "      <td>0</td>\n",
       "      <td>0.000968</td>\n",
       "      <td>1</td>\n",
       "      <td>1</td>\n",
       "      <td>0.465485</td>\n",
       "      <td>0.069388</td>\n",
       "      <td>0.000000</td>\n",
       "      <td>0.000000</td>\n",
       "      <td>0.98</td>\n",
       "      <td>1.0</td>\n",
       "      <td>...</td>\n",
       "      <td>1</td>\n",
       "      <td>0</td>\n",
       "      <td>1</td>\n",
       "      <td>1</td>\n",
       "      <td>0</td>\n",
       "      <td>1</td>\n",
       "      <td>0.0</td>\n",
       "      <td>0.0</td>\n",
       "      <td>1.0</td>\n",
       "      <td>0.0</td>\n",
       "    </tr>\n",
       "    <tr>\n",
       "      <th>220908</th>\n",
       "      <td>0</td>\n",
       "      <td>0.000000</td>\n",
       "      <td>1</td>\n",
       "      <td>1</td>\n",
       "      <td>0.543280</td>\n",
       "      <td>0.013114</td>\n",
       "      <td>0.066667</td>\n",
       "      <td>0.010521</td>\n",
       "      <td>0.93</td>\n",
       "      <td>0.9</td>\n",
       "      <td>...</td>\n",
       "      <td>1</td>\n",
       "      <td>1</td>\n",
       "      <td>0</td>\n",
       "      <td>0</td>\n",
       "      <td>1</td>\n",
       "      <td>1</td>\n",
       "      <td>1.0</td>\n",
       "      <td>0.0</td>\n",
       "      <td>0.0</td>\n",
       "      <td>0.0</td>\n",
       "    </tr>\n",
       "    <tr>\n",
       "      <th>24800</th>\n",
       "      <td>0</td>\n",
       "      <td>0.000138</td>\n",
       "      <td>1</td>\n",
       "      <td>1</td>\n",
       "      <td>0.453291</td>\n",
       "      <td>-0.410921</td>\n",
       "      <td>0.200000</td>\n",
       "      <td>0.000000</td>\n",
       "      <td>1.00</td>\n",
       "      <td>1.0</td>\n",
       "      <td>...</td>\n",
       "      <td>0</td>\n",
       "      <td>1</td>\n",
       "      <td>1</td>\n",
       "      <td>1</td>\n",
       "      <td>1</td>\n",
       "      <td>1</td>\n",
       "      <td>1.0</td>\n",
       "      <td>0.0</td>\n",
       "      <td>0.0</td>\n",
       "      <td>0.0</td>\n",
       "    </tr>\n",
       "    <tr>\n",
       "      <th>157756</th>\n",
       "      <td>1</td>\n",
       "      <td>0.001106</td>\n",
       "      <td>1</td>\n",
       "      <td>0</td>\n",
       "      <td>0.453011</td>\n",
       "      <td>-0.410409</td>\n",
       "      <td>0.133333</td>\n",
       "      <td>0.000000</td>\n",
       "      <td>0.95</td>\n",
       "      <td>0.9</td>\n",
       "      <td>...</td>\n",
       "      <td>1</td>\n",
       "      <td>1</td>\n",
       "      <td>1</td>\n",
       "      <td>0</td>\n",
       "      <td>0</td>\n",
       "      <td>1</td>\n",
       "      <td>0.0</td>\n",
       "      <td>0.0</td>\n",
       "      <td>1.0</td>\n",
       "      <td>0.0</td>\n",
       "    </tr>\n",
       "    <tr>\n",
       "      <th>76686</th>\n",
       "      <td>0</td>\n",
       "      <td>0.000276</td>\n",
       "      <td>1</td>\n",
       "      <td>1</td>\n",
       "      <td>-0.375519</td>\n",
       "      <td>0.840476</td>\n",
       "      <td>0.133333</td>\n",
       "      <td>0.010521</td>\n",
       "      <td>0.98</td>\n",
       "      <td>1.0</td>\n",
       "      <td>...</td>\n",
       "      <td>1</td>\n",
       "      <td>1</td>\n",
       "      <td>1</td>\n",
       "      <td>1</td>\n",
       "      <td>1</td>\n",
       "      <td>1</td>\n",
       "      <td>1.0</td>\n",
       "      <td>0.0</td>\n",
       "      <td>0.0</td>\n",
       "      <td>0.0</td>\n",
       "    </tr>\n",
       "    <tr>\n",
       "      <th>...</th>\n",
       "      <td>...</td>\n",
       "      <td>...</td>\n",
       "      <td>...</td>\n",
       "      <td>...</td>\n",
       "      <td>...</td>\n",
       "      <td>...</td>\n",
       "      <td>...</td>\n",
       "      <td>...</td>\n",
       "      <td>...</td>\n",
       "      <td>...</td>\n",
       "      <td>...</td>\n",
       "      <td>...</td>\n",
       "      <td>...</td>\n",
       "      <td>...</td>\n",
       "      <td>...</td>\n",
       "      <td>...</td>\n",
       "      <td>...</td>\n",
       "      <td>...</td>\n",
       "      <td>...</td>\n",
       "      <td>...</td>\n",
       "      <td>...</td>\n",
       "    </tr>\n",
       "    <tr>\n",
       "      <th>119880</th>\n",
       "      <td>0</td>\n",
       "      <td>0.000276</td>\n",
       "      <td>1</td>\n",
       "      <td>0</td>\n",
       "      <td>0.453488</td>\n",
       "      <td>-0.410847</td>\n",
       "      <td>0.000000</td>\n",
       "      <td>0.000000</td>\n",
       "      <td>0.93</td>\n",
       "      <td>0.9</td>\n",
       "      <td>...</td>\n",
       "      <td>1</td>\n",
       "      <td>1</td>\n",
       "      <td>0</td>\n",
       "      <td>0</td>\n",
       "      <td>0</td>\n",
       "      <td>1</td>\n",
       "      <td>0.0</td>\n",
       "      <td>0.0</td>\n",
       "      <td>1.0</td>\n",
       "      <td>0.0</td>\n",
       "    </tr>\n",
       "    <tr>\n",
       "      <th>259291</th>\n",
       "      <td>0</td>\n",
       "      <td>0.000138</td>\n",
       "      <td>1</td>\n",
       "      <td>1</td>\n",
       "      <td>0.543058</td>\n",
       "      <td>0.013010</td>\n",
       "      <td>0.333333</td>\n",
       "      <td>0.020408</td>\n",
       "      <td>0.92</td>\n",
       "      <td>0.9</td>\n",
       "      <td>...</td>\n",
       "      <td>1</td>\n",
       "      <td>1</td>\n",
       "      <td>1</td>\n",
       "      <td>1</td>\n",
       "      <td>1</td>\n",
       "      <td>1</td>\n",
       "      <td>1.0</td>\n",
       "      <td>0.0</td>\n",
       "      <td>0.0</td>\n",
       "      <td>0.0</td>\n",
       "    </tr>\n",
       "    <tr>\n",
       "      <th>131933</th>\n",
       "      <td>0</td>\n",
       "      <td>0.000415</td>\n",
       "      <td>1</td>\n",
       "      <td>1</td>\n",
       "      <td>-0.376483</td>\n",
       "      <td>0.840064</td>\n",
       "      <td>0.066667</td>\n",
       "      <td>0.000000</td>\n",
       "      <td>0.96</td>\n",
       "      <td>1.0</td>\n",
       "      <td>...</td>\n",
       "      <td>1</td>\n",
       "      <td>1</td>\n",
       "      <td>1</td>\n",
       "      <td>1</td>\n",
       "      <td>1</td>\n",
       "      <td>1</td>\n",
       "      <td>0.0</td>\n",
       "      <td>0.0</td>\n",
       "      <td>1.0</td>\n",
       "      <td>0.0</td>\n",
       "    </tr>\n",
       "    <tr>\n",
       "      <th>146868</th>\n",
       "      <td>0</td>\n",
       "      <td>0.000276</td>\n",
       "      <td>1</td>\n",
       "      <td>1</td>\n",
       "      <td>0.463658</td>\n",
       "      <td>0.068278</td>\n",
       "      <td>0.066667</td>\n",
       "      <td>0.000000</td>\n",
       "      <td>1.00</td>\n",
       "      <td>1.0</td>\n",
       "      <td>...</td>\n",
       "      <td>1</td>\n",
       "      <td>0</td>\n",
       "      <td>0</td>\n",
       "      <td>1</td>\n",
       "      <td>0</td>\n",
       "      <td>1</td>\n",
       "      <td>0.0</td>\n",
       "      <td>0.0</td>\n",
       "      <td>1.0</td>\n",
       "      <td>0.0</td>\n",
       "    </tr>\n",
       "    <tr>\n",
       "      <th>121959</th>\n",
       "      <td>0</td>\n",
       "      <td>0.000276</td>\n",
       "      <td>1</td>\n",
       "      <td>0</td>\n",
       "      <td>0.153655</td>\n",
       "      <td>0.558490</td>\n",
       "      <td>0.066667</td>\n",
       "      <td>0.000000</td>\n",
       "      <td>0.93</td>\n",
       "      <td>0.9</td>\n",
       "      <td>...</td>\n",
       "      <td>1</td>\n",
       "      <td>1</td>\n",
       "      <td>0</td>\n",
       "      <td>1</td>\n",
       "      <td>1</td>\n",
       "      <td>0</td>\n",
       "      <td>0.0</td>\n",
       "      <td>0.0</td>\n",
       "      <td>1.0</td>\n",
       "      <td>0.0</td>\n",
       "    </tr>\n",
       "  </tbody>\n",
       "</table>\n",
       "<p>209699 rows × 63 columns</p>\n",
       "</div>"
      ],
      "text/plain": [
       "        host_is_superhost  host_total_listings_count  host_has_profile_pic   \n",
       "160755                  0                   0.000968                     1  \\\n",
       "220908                  0                   0.000000                     1   \n",
       "24800                   0                   0.000138                     1   \n",
       "157756                  1                   0.001106                     1   \n",
       "76686                   0                   0.000276                     1   \n",
       "...                   ...                        ...                   ...   \n",
       "119880                  0                   0.000276                     1   \n",
       "259291                  0                   0.000138                     1   \n",
       "131933                  0                   0.000415                     1   \n",
       "146868                  0                   0.000276                     1   \n",
       "121959                  0                   0.000276                     1   \n",
       "\n",
       "        host_identity_verified  latitude  longitude  accommodates  bedrooms   \n",
       "160755                       1  0.465485   0.069388      0.000000  0.000000  \\\n",
       "220908                       1  0.543280   0.013114      0.066667  0.010521   \n",
       "24800                        1  0.453291  -0.410921      0.200000  0.000000   \n",
       "157756                       0  0.453011  -0.410409      0.133333  0.000000   \n",
       "76686                        1 -0.375519   0.840476      0.133333  0.010521   \n",
       "...                        ...       ...        ...           ...       ...   \n",
       "119880                       0  0.453488  -0.410847      0.000000  0.000000   \n",
       "259291                       1  0.543058   0.013010      0.333333  0.020408   \n",
       "131933                       1 -0.376483   0.840064      0.066667  0.000000   \n",
       "146868                       1  0.463658   0.068278      0.066667  0.000000   \n",
       "121959                       0  0.153655   0.558490      0.066667  0.000000   \n",
       "\n",
       "        review_scores_rating  review_scores_accuracy  ...  Shampoo   \n",
       "160755                  0.98                     1.0  ...        1  \\\n",
       "220908                  0.93                     0.9  ...        1   \n",
       "24800                   1.00                     1.0  ...        0   \n",
       "157756                  0.95                     0.9  ...        1   \n",
       "76686                   0.98                     1.0  ...        1   \n",
       "...                      ...                     ...  ...      ...   \n",
       "119880                  0.93                     0.9  ...        1   \n",
       "259291                  0.92                     0.9  ...        1   \n",
       "131933                  0.96                     1.0  ...        1   \n",
       "146868                  1.00                     1.0  ...        1   \n",
       "121959                  0.93                     0.9  ...        1   \n",
       "\n",
       "        Smoke alarm  Stove  TV  Washer  Wifi  Entire place  Hotel room   \n",
       "160755            0      1   1       0     1           0.0         0.0  \\\n",
       "220908            1      0   0       1     1           1.0         0.0   \n",
       "24800             1      1   1       1     1           1.0         0.0   \n",
       "157756            1      1   0       0     1           0.0         0.0   \n",
       "76686             1      1   1       1     1           1.0         0.0   \n",
       "...             ...    ...  ..     ...   ...           ...         ...   \n",
       "119880            1      0   0       0     1           0.0         0.0   \n",
       "259291            1      1   1       1     1           1.0         0.0   \n",
       "131933            1      1   1       1     1           0.0         0.0   \n",
       "146868            0      0   1       0     1           0.0         0.0   \n",
       "121959            1      0   1       1     0           0.0         0.0   \n",
       "\n",
       "        Private room  Shared room  \n",
       "160755           1.0          0.0  \n",
       "220908           0.0          0.0  \n",
       "24800            0.0          0.0  \n",
       "157756           1.0          0.0  \n",
       "76686            0.0          0.0  \n",
       "...              ...          ...  \n",
       "119880           1.0          0.0  \n",
       "259291           0.0          0.0  \n",
       "131933           1.0          0.0  \n",
       "146868           1.0          0.0  \n",
       "121959           1.0          0.0  \n",
       "\n",
       "[209699 rows x 63 columns]"
      ]
     },
     "execution_count": 7,
     "metadata": {},
     "output_type": "execute_result"
    }
   ],
   "source": [
    "X_train"
   ]
  },
  {
   "cell_type": "code",
   "execution_count": 8,
   "id": "3ee4e59a-41b5-43d0-92e9-4aca8f1ad741",
   "metadata": {
    "tags": []
   },
   "outputs": [
    {
     "data": {
      "text/plain": [
       "160755     65\n",
       "220908     30\n",
       "24800     148\n",
       "157756     47\n",
       "76686     175\n",
       "         ... \n",
       "119880     80\n",
       "259291    193\n",
       "131933     69\n",
       "146868     51\n",
       "121959    950\n",
       "Name: price, Length: 209699, dtype: Int64"
      ]
     },
     "execution_count": 8,
     "metadata": {},
     "output_type": "execute_result"
    }
   ],
   "source": [
    "y_train"
   ]
  },
  {
   "cell_type": "markdown",
   "id": "554a0566-9c4b-4b05-966a-c91a5364b898",
   "metadata": {
    "tags": []
   },
   "source": [
    "## 4.2. Model"
   ]
  },
  {
   "cell_type": "code",
   "execution_count": 9,
   "id": "f0efdcf7-c497-4124-bd8d-a675aa368aed",
   "metadata": {
    "tags": []
   },
   "outputs": [],
   "source": [
    "model_path = \"./pickles/random-forest-regressor.joblib\""
   ]
  },
  {
   "cell_type": "code",
   "execution_count": 10,
   "id": "f4cdf947-8e5f-4f6a-a31d-d7d7f16ef7ac",
   "metadata": {
    "tags": []
   },
   "outputs": [
    {
     "data": {
      "text/plain": [
       "True"
      ]
     },
     "execution_count": 10,
     "metadata": {},
     "output_type": "execute_result"
    }
   ],
   "source": [
    "exists = os.path.exists(model_path)\n",
    "exists"
   ]
  },
  {
   "cell_type": "code",
   "execution_count": 11,
   "id": "048b1fa2-4f37-4ba9-9395-152ebb42a637",
   "metadata": {
    "tags": []
   },
   "outputs": [
    {
     "data": {
      "text/html": [
       "<style>#sk-container-id-1 {color: black;background-color: white;}#sk-container-id-1 pre{padding: 0;}#sk-container-id-1 div.sk-toggleable {background-color: white;}#sk-container-id-1 label.sk-toggleable__label {cursor: pointer;display: block;width: 100%;margin-bottom: 0;padding: 0.3em;box-sizing: border-box;text-align: center;}#sk-container-id-1 label.sk-toggleable__label-arrow:before {content: \"▸\";float: left;margin-right: 0.25em;color: #696969;}#sk-container-id-1 label.sk-toggleable__label-arrow:hover:before {color: black;}#sk-container-id-1 div.sk-estimator:hover label.sk-toggleable__label-arrow:before {color: black;}#sk-container-id-1 div.sk-toggleable__content {max-height: 0;max-width: 0;overflow: hidden;text-align: left;background-color: #f0f8ff;}#sk-container-id-1 div.sk-toggleable__content pre {margin: 0.2em;color: black;border-radius: 0.25em;background-color: #f0f8ff;}#sk-container-id-1 input.sk-toggleable__control:checked~div.sk-toggleable__content {max-height: 200px;max-width: 100%;overflow: auto;}#sk-container-id-1 input.sk-toggleable__control:checked~label.sk-toggleable__label-arrow:before {content: \"▾\";}#sk-container-id-1 div.sk-estimator input.sk-toggleable__control:checked~label.sk-toggleable__label {background-color: #d4ebff;}#sk-container-id-1 div.sk-label input.sk-toggleable__control:checked~label.sk-toggleable__label {background-color: #d4ebff;}#sk-container-id-1 input.sk-hidden--visually {border: 0;clip: rect(1px 1px 1px 1px);clip: rect(1px, 1px, 1px, 1px);height: 1px;margin: -1px;overflow: hidden;padding: 0;position: absolute;width: 1px;}#sk-container-id-1 div.sk-estimator {font-family: monospace;background-color: #f0f8ff;border: 1px dotted black;border-radius: 0.25em;box-sizing: border-box;margin-bottom: 0.5em;}#sk-container-id-1 div.sk-estimator:hover {background-color: #d4ebff;}#sk-container-id-1 div.sk-parallel-item::after {content: \"\";width: 100%;border-bottom: 1px solid gray;flex-grow: 1;}#sk-container-id-1 div.sk-label:hover label.sk-toggleable__label {background-color: #d4ebff;}#sk-container-id-1 div.sk-serial::before {content: \"\";position: absolute;border-left: 1px solid gray;box-sizing: border-box;top: 0;bottom: 0;left: 50%;z-index: 0;}#sk-container-id-1 div.sk-serial {display: flex;flex-direction: column;align-items: center;background-color: white;padding-right: 0.2em;padding-left: 0.2em;position: relative;}#sk-container-id-1 div.sk-item {position: relative;z-index: 1;}#sk-container-id-1 div.sk-parallel {display: flex;align-items: stretch;justify-content: center;background-color: white;position: relative;}#sk-container-id-1 div.sk-item::before, #sk-container-id-1 div.sk-parallel-item::before {content: \"\";position: absolute;border-left: 1px solid gray;box-sizing: border-box;top: 0;bottom: 0;left: 50%;z-index: -1;}#sk-container-id-1 div.sk-parallel-item {display: flex;flex-direction: column;z-index: 1;position: relative;background-color: white;}#sk-container-id-1 div.sk-parallel-item:first-child::after {align-self: flex-end;width: 50%;}#sk-container-id-1 div.sk-parallel-item:last-child::after {align-self: flex-start;width: 50%;}#sk-container-id-1 div.sk-parallel-item:only-child::after {width: 0;}#sk-container-id-1 div.sk-dashed-wrapped {border: 1px dashed gray;margin: 0 0.4em 0.5em 0.4em;box-sizing: border-box;padding-bottom: 0.4em;background-color: white;}#sk-container-id-1 div.sk-label label {font-family: monospace;font-weight: bold;display: inline-block;line-height: 1.2em;}#sk-container-id-1 div.sk-label-container {text-align: center;}#sk-container-id-1 div.sk-container {/* jupyter's `normalize.less` sets `[hidden] { display: none; }` but bootstrap.min.css set `[hidden] { display: none !important; }` so we also need the `!important` here to be able to override the default hidden behavior on the sphinx rendered scikit-learn.org. See: https://github.com/scikit-learn/scikit-learn/issues/21755 */display: inline-block !important;position: relative;}#sk-container-id-1 div.sk-text-repr-fallback {display: none;}</style><div id=\"sk-container-id-1\" class=\"sk-top-container\"><div class=\"sk-text-repr-fallback\"><pre>RandomForestRegressor(criterion=&#x27;absolute_error&#x27;, n_estimators=25, n_jobs=-1,\n",
       "                      random_state=42, verbose=2)</pre><b>In a Jupyter environment, please rerun this cell to show the HTML representation or trust the notebook. <br />On GitHub, the HTML representation is unable to render, please try loading this page with nbviewer.org.</b></div><div class=\"sk-container\" hidden><div class=\"sk-item\"><div class=\"sk-estimator sk-toggleable\"><input class=\"sk-toggleable__control sk-hidden--visually\" id=\"sk-estimator-id-1\" type=\"checkbox\" checked><label for=\"sk-estimator-id-1\" class=\"sk-toggleable__label sk-toggleable__label-arrow\">RandomForestRegressor</label><div class=\"sk-toggleable__content\"><pre>RandomForestRegressor(criterion=&#x27;absolute_error&#x27;, n_estimators=25, n_jobs=-1,\n",
       "                      random_state=42, verbose=2)</pre></div></div></div></div></div>"
      ],
      "text/plain": [
       "RandomForestRegressor(criterion='absolute_error', n_estimators=25, n_jobs=-1,\n",
       "                      random_state=42, verbose=2)"
      ]
     },
     "execution_count": 11,
     "metadata": {},
     "output_type": "execute_result"
    }
   ],
   "source": [
    "if exists:\n",
    "    reg = joblib.load(model_path)\n",
    "else:\n",
    "    reg = RandomForestRegressor(n_estimators=25, criterion='absolute_error', n_jobs=-1, verbose=2, random_state=42)\n",
    "\n",
    "reg"
   ]
  },
  {
   "cell_type": "code",
   "execution_count": 12,
   "id": "d0d256a3-3d53-4339-a3f8-6dd4bcfcb15a",
   "metadata": {
    "tags": []
   },
   "outputs": [
    {
     "name": "stdout",
     "output_type": "stream",
     "text": [
      "Already fitted\n"
     ]
    }
   ],
   "source": [
    "if exists:\n",
    "    print(\"Already fitted\")\n",
    "else:\n",
    "    reg.fit(X_train, y_train)"
   ]
  },
  {
   "cell_type": "code",
   "execution_count": 13,
   "id": "97cea253-6d82-457c-ab51-46763afb404a",
   "metadata": {
    "tags": []
   },
   "outputs": [
    {
     "data": {
      "text/plain": [
       "['./pickles/random-forest-regressor.joblib']"
      ]
     },
     "execution_count": 13,
     "metadata": {},
     "output_type": "execute_result"
    }
   ],
   "source": [
    "joblib.dump(reg, model_path)"
   ]
  },
  {
   "cell_type": "markdown",
   "id": "3f58e3c2-2a28-482b-ae01-e30554e9fb1a",
   "metadata": {},
   "source": [
    "### 4.2.1. Score"
   ]
  },
  {
   "cell_type": "code",
   "execution_count": 14,
   "id": "26116192-51f4-45e6-88f5-6dc823077a1d",
   "metadata": {
    "tags": []
   },
   "outputs": [
    {
     "name": "stderr",
     "output_type": "stream",
     "text": [
      "[Parallel(n_jobs=16)]: Using backend ThreadingBackend with 16 concurrent workers.\n",
      "[Parallel(n_jobs=16)]: Done   7 out of  25 | elapsed:    0.0s remaining:    0.1s\n",
      "[Parallel(n_jobs=16)]: Done  20 out of  25 | elapsed:    0.0s remaining:    0.0s\n",
      "[Parallel(n_jobs=16)]: Done  25 out of  25 | elapsed:    0.0s finished\n"
     ]
    },
    {
     "data": {
      "text/plain": [
       "0.17005260677233336"
      ]
     },
     "execution_count": 14,
     "metadata": {},
     "output_type": "execute_result"
    }
   ],
   "source": [
    "score = reg.score(X_test, y_test)\n",
    "score"
   ]
  },
  {
   "cell_type": "code",
   "execution_count": 15,
   "id": "7a8a467d-bd45-4a54-bf4c-06542b5e7393",
   "metadata": {
    "tags": []
   },
   "outputs": [
    {
     "name": "stderr",
     "output_type": "stream",
     "text": [
      "[Parallel(n_jobs=16)]: Using backend ThreadingBackend with 16 concurrent workers.\n",
      "[Parallel(n_jobs=16)]: Done   7 out of  25 | elapsed:    0.0s remaining:    0.1s\n",
      "[Parallel(n_jobs=16)]: Done  20 out of  25 | elapsed:    0.0s remaining:    0.0s\n",
      "[Parallel(n_jobs=16)]: Done  25 out of  25 | elapsed:    0.0s finished\n"
     ]
    }
   ],
   "source": [
    "pred = reg.predict(X_test)"
   ]
  },
  {
   "cell_type": "code",
   "execution_count": 16,
   "id": "d541703b-1da4-46f6-9e2d-378b2241bf94",
   "metadata": {
    "tags": []
   },
   "outputs": [
    {
     "data": {
      "text/plain": [
       "387.30830643776824"
      ]
     },
     "execution_count": 16,
     "metadata": {},
     "output_type": "execute_result"
    }
   ],
   "source": [
    "mae = mean_absolute_error(y_test, pred)\n",
    "mae"
   ]
  },
  {
   "cell_type": "code",
   "execution_count": 17,
   "id": "32c3345c-2f07-45b2-98ae-efab8c07181c",
   "metadata": {
    "tags": []
   },
   "outputs": [],
   "source": [
    "setattr(reg, \"verbose\", 0)"
   ]
  },
  {
   "cell_type": "code",
   "execution_count": 18,
   "id": "f03f90d2-12bc-4b68-a913-db016b417229",
   "metadata": {
    "tags": []
   },
   "outputs": [
    {
     "name": "stdout",
     "output_type": "stream",
     "text": [
      "atomic_benchmark runtimes: 0.003998279571533203 0.011995077133178711 0.3325798511505127\n"
     ]
    },
    {
     "data": {
      "text/plain": [
       "array([0.00599837, 0.00599909, 0.00600195, ..., 0.01100135, 0.01199961,\n",
       "       0.01499867])"
      ]
     },
     "execution_count": 18,
     "metadata": {},
     "output_type": "execute_result"
    }
   ],
   "source": [
    "results = atomic_benchmark_estimator(reg, X_test[:5000], verbose=True)\n",
    "results"
   ]
  },
  {
   "cell_type": "code",
   "execution_count": 19,
   "id": "423f9932-dc6b-4379-b868-843aaabf3a22",
   "metadata": {
    "tags": []
   },
   "outputs": [
    {
     "data": {
      "text/plain": [
       "<Axes: >"
      ]
     },
     "execution_count": 19,
     "metadata": {},
     "output_type": "execute_result"
    },
    {
     "data": {
      "image/png": "[encoded data removed]",
      "text/plain": [
       "<Figure size 640x480 with 1 Axes>"
      ]
     },
     "metadata": {},
     "output_type": "display_data"
    }
   ],
   "source": [
    "sns.boxplot(results, orient=\"h\")"
   ]
  },
  {
   "cell_type": "code",
   "execution_count": 20,
   "id": "5e436649-fa03-40dd-91c3-20fdb58d1ff7",
   "metadata": {
    "tags": []
   },
   "outputs": [
    {
     "data": {
      "text/plain": [
       "'1.5422534982363383 min'"
      ]
     },
     "execution_count": 20,
     "metadata": {},
     "output_type": "execute_result"
    }
   ],
   "source": [
    "f\"{results.sum() / 60} min\""
   ]
  },
  {
   "cell_type": "code",
   "execution_count": 21,
   "id": "be1c5570-5533-4390-8f25-a35d57509d49",
   "metadata": {
    "tags": []
   },
   "outputs": [],
   "source": [
    "store_model_performance(\n",
    "    model_name=\"RandomForestRegressor\",\n",
    "    R2_score=score,\n",
    "    mae=mae,\n",
    "    avarage_predication_time=results.mean(),\n",
    "    parameters={n: getattr(reg, n) for n in [\"n_estimators\", \"criterion\"]},\n",
    ")"
   ]
  },
  {
   "cell_type": "code",
   "execution_count": 22,
   "id": "af0b8db8-3e2d-420e-b716-0e9035d82810",
   "metadata": {
    "tags": []
   },
   "outputs": [
    {
     "data": {
      "text/plain": [
       "[<matplotlib.lines.Line2D at 0x26f4bfd4bd0>]"
      ]
     },
     "execution_count": 22,
     "metadata": {},
     "output_type": "execute_result"
    },
    {
     "data": {
      "image/png": "[encoded data removed]",
      "text/plain": [
       "<Figure size 2500x700 with 1 Axes>"
      ]
     },
     "metadata": {},
     "output_type": "display_data"
    }
   ],
   "source": [
    "rng = slice(340, 380)\n",
    "\n",
    "plt.figure(figsize=(25, 7))\n",
    "plt.plot(y_test[rng].values)\n",
    "plt.plot(pred[rng])"
   ]
  }
 ],
 "metadata": {
  "kernelspec": {
   "display_name": "Python 3 (ipykernel)",
   "language": "python",
   "name": "python3"
  },
  "language_info": {
   "codemirror_mode": {
    "name": "ipython",
    "version": 3
   },
   "file_extension": ".py",
   "mimetype": "text/x-python",
   "name": "python",
   "nbconvert_exporter": "python",
   "pygments_lexer": "ipython3",
   "version": "3.11.3"
  }
 },
 "nbformat": 4,
 "nbformat_minor": 5
}
