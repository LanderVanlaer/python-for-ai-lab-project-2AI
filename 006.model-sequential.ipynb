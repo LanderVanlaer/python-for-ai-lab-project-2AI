{
 "cells": [
  {
   "cell_type": "markdown",
   "id": "65157f26-8d66-4e88-8719-79cebd02db49",
   "metadata": {},
   "source": [
    "# 6. Sequential"
   ]
  },
  {
   "cell_type": "code",
   "execution_count": 46,
   "id": "c9a39d4f-a047-4485-9fed-0613834e0d67",
   "metadata": {
    "tags": []
   },
   "outputs": [],
   "source": [
    "import joblib\n",
    "import os\n",
    "\n",
    "import pandas as pd\n",
    "\n",
    "from sklearn.model_selection import train_test_split\n",
    "from sklearn.model_selection import GridSearchCV\n",
    "from sklearn.metrics import mean_absolute_error, r2_score\n",
    "from sklearn.preprocessing import StandardScaler\n",
    "\n",
    "import tensorflow as tf\n",
    "from tensorflow import keras\n",
    "from tensorflow.keras import layers\n",
    "\n",
    "from scikeras.wrappers import KerasRegressor\n",
    "\n",
    "import matplotlib.pyplot as plt\n",
    "\n",
    "import seaborn as sns"
   ]
  },
  {
   "cell_type": "code",
   "execution_count": 69,
   "id": "7714e08f-741a-4171-ace5-a5244573bf48",
   "metadata": {
    "tags": []
   },
   "outputs": [],
   "source": [
    "%run ./scripts/store_model_performance.py\n",
    "%run ./scripts/atomic_benchmark_estimator.py"
   ]
  },
  {
   "cell_type": "code",
   "execution_count": 3,
   "id": "25e20507-277b-4aa8-9130-afeda3ca5063",
   "metadata": {
    "tags": []
   },
   "outputs": [],
   "source": [
    "df = pd.read_pickle(\"./pickles/003.dataframe.data-preprocessing.pkl\")"
   ]
  },
  {
   "cell_type": "code",
   "execution_count": 4,
   "id": "131a2e6e-e403-4cdb-95de-9b38f12d8027",
   "metadata": {
    "tags": []
   },
   "outputs": [
    {
     "data": {
      "text/html": [
       "<div>\n",
       "<style scoped>\n",
       "    .dataframe tbody tr th:only-of-type {\n",
       "        vertical-align: middle;\n",
       "    }\n",
       "\n",
       "    .dataframe tbody tr th {\n",
       "        vertical-align: top;\n",
       "    }\n",
       "\n",
       "    .dataframe thead th {\n",
       "        text-align: right;\n",
       "    }\n",
       "</style>\n",
       "<table border=\"1\" class=\"dataframe\">\n",
       "  <thead>\n",
       "    <tr style=\"text-align: right;\">\n",
       "      <th></th>\n",
       "      <th>price</th>\n",
       "      <th>host_is_superhost</th>\n",
       "      <th>host_total_listings_count</th>\n",
       "      <th>host_has_profile_pic</th>\n",
       "      <th>host_identity_verified</th>\n",
       "      <th>latitude</th>\n",
       "      <th>longitude</th>\n",
       "      <th>accommodates</th>\n",
       "      <th>bedrooms</th>\n",
       "      <th>review_scores_rating</th>\n",
       "      <th>...</th>\n",
       "      <th>Shampoo</th>\n",
       "      <th>Smoke alarm</th>\n",
       "      <th>Stove</th>\n",
       "      <th>TV</th>\n",
       "      <th>Washer</th>\n",
       "      <th>Wifi</th>\n",
       "      <th>Entire place</th>\n",
       "      <th>Hotel room</th>\n",
       "      <th>Private room</th>\n",
       "      <th>Shared room</th>\n",
       "    </tr>\n",
       "  </thead>\n",
       "  <tbody>\n",
       "    <tr>\n",
       "      <th>0</th>\n",
       "      <td>53</td>\n",
       "      <td>0</td>\n",
       "      <td>0.000138</td>\n",
       "      <td>1</td>\n",
       "      <td>0</td>\n",
       "      <td>0.543185</td>\n",
       "      <td>0.012963</td>\n",
       "      <td>0.066667</td>\n",
       "      <td>0.0</td>\n",
       "      <td>1.0</td>\n",
       "      <td>...</td>\n",
       "      <td>0</td>\n",
       "      <td>0</td>\n",
       "      <td>0</td>\n",
       "      <td>0</td>\n",
       "      <td>1</td>\n",
       "      <td>1</td>\n",
       "      <td>1.0</td>\n",
       "      <td>0.0</td>\n",
       "      <td>0.0</td>\n",
       "      <td>0.0</td>\n",
       "    </tr>\n",
       "    <tr>\n",
       "      <th>1</th>\n",
       "      <td>120</td>\n",
       "      <td>0</td>\n",
       "      <td>0.000138</td>\n",
       "      <td>1</td>\n",
       "      <td>1</td>\n",
       "      <td>0.543180</td>\n",
       "      <td>0.013029</td>\n",
       "      <td>0.066667</td>\n",
       "      <td>0.0</td>\n",
       "      <td>1.0</td>\n",
       "      <td>...</td>\n",
       "      <td>1</td>\n",
       "      <td>0</td>\n",
       "      <td>0</td>\n",
       "      <td>0</td>\n",
       "      <td>1</td>\n",
       "      <td>1</td>\n",
       "      <td>1.0</td>\n",
       "      <td>0.0</td>\n",
       "      <td>0.0</td>\n",
       "      <td>0.0</td>\n",
       "    </tr>\n",
       "    <tr>\n",
       "      <th>2</th>\n",
       "      <td>89</td>\n",
       "      <td>0</td>\n",
       "      <td>0.000138</td>\n",
       "      <td>1</td>\n",
       "      <td>0</td>\n",
       "      <td>0.543124</td>\n",
       "      <td>0.012873</td>\n",
       "      <td>0.066667</td>\n",
       "      <td>0.0</td>\n",
       "      <td>1.0</td>\n",
       "      <td>...</td>\n",
       "      <td>0</td>\n",
       "      <td>0</td>\n",
       "      <td>0</td>\n",
       "      <td>1</td>\n",
       "      <td>1</td>\n",
       "      <td>1</td>\n",
       "      <td>1.0</td>\n",
       "      <td>0.0</td>\n",
       "      <td>0.0</td>\n",
       "      <td>0.0</td>\n",
       "    </tr>\n",
       "    <tr>\n",
       "      <th>3</th>\n",
       "      <td>58</td>\n",
       "      <td>0</td>\n",
       "      <td>0.000138</td>\n",
       "      <td>1</td>\n",
       "      <td>1</td>\n",
       "      <td>0.542730</td>\n",
       "      <td>0.012810</td>\n",
       "      <td>0.066667</td>\n",
       "      <td>0.0</td>\n",
       "      <td>1.0</td>\n",
       "      <td>...</td>\n",
       "      <td>0</td>\n",
       "      <td>0</td>\n",
       "      <td>0</td>\n",
       "      <td>1</td>\n",
       "      <td>0</td>\n",
       "      <td>1</td>\n",
       "      <td>1.0</td>\n",
       "      <td>0.0</td>\n",
       "      <td>0.0</td>\n",
       "      <td>0.0</td>\n",
       "    </tr>\n",
       "    <tr>\n",
       "      <th>4</th>\n",
       "      <td>60</td>\n",
       "      <td>0</td>\n",
       "      <td>0.000138</td>\n",
       "      <td>1</td>\n",
       "      <td>0</td>\n",
       "      <td>0.542833</td>\n",
       "      <td>0.012610</td>\n",
       "      <td>0.066667</td>\n",
       "      <td>0.0</td>\n",
       "      <td>1.0</td>\n",
       "      <td>...</td>\n",
       "      <td>0</td>\n",
       "      <td>0</td>\n",
       "      <td>0</td>\n",
       "      <td>1</td>\n",
       "      <td>1</td>\n",
       "      <td>1</td>\n",
       "      <td>1.0</td>\n",
       "      <td>0.0</td>\n",
       "      <td>0.0</td>\n",
       "      <td>0.0</td>\n",
       "    </tr>\n",
       "    <tr>\n",
       "      <th>...</th>\n",
       "      <td>...</td>\n",
       "      <td>...</td>\n",
       "      <td>...</td>\n",
       "      <td>...</td>\n",
       "      <td>...</td>\n",
       "      <td>...</td>\n",
       "      <td>...</td>\n",
       "      <td>...</td>\n",
       "      <td>...</td>\n",
       "      <td>...</td>\n",
       "      <td>...</td>\n",
       "      <td>...</td>\n",
       "      <td>...</td>\n",
       "      <td>...</td>\n",
       "      <td>...</td>\n",
       "      <td>...</td>\n",
       "      <td>...</td>\n",
       "      <td>...</td>\n",
       "      <td>...</td>\n",
       "      <td>...</td>\n",
       "      <td>...</td>\n",
       "    </tr>\n",
       "    <tr>\n",
       "      <th>279707</th>\n",
       "      <td>120</td>\n",
       "      <td>0</td>\n",
       "      <td>0.000138</td>\n",
       "      <td>1</td>\n",
       "      <td>1</td>\n",
       "      <td>0.542522</td>\n",
       "      <td>0.012857</td>\n",
       "      <td>0.066667</td>\n",
       "      <td>0.0</td>\n",
       "      <td>1.0</td>\n",
       "      <td>...</td>\n",
       "      <td>0</td>\n",
       "      <td>1</td>\n",
       "      <td>0</td>\n",
       "      <td>1</td>\n",
       "      <td>1</td>\n",
       "      <td>1</td>\n",
       "      <td>1.0</td>\n",
       "      <td>0.0</td>\n",
       "      <td>0.0</td>\n",
       "      <td>0.0</td>\n",
       "    </tr>\n",
       "    <tr>\n",
       "      <th>279708</th>\n",
       "      <td>60</td>\n",
       "      <td>0</td>\n",
       "      <td>0.000138</td>\n",
       "      <td>1</td>\n",
       "      <td>1</td>\n",
       "      <td>0.543257</td>\n",
       "      <td>0.012956</td>\n",
       "      <td>0.066667</td>\n",
       "      <td>0.0</td>\n",
       "      <td>1.0</td>\n",
       "      <td>...</td>\n",
       "      <td>1</td>\n",
       "      <td>0</td>\n",
       "      <td>0</td>\n",
       "      <td>1</td>\n",
       "      <td>1</td>\n",
       "      <td>1</td>\n",
       "      <td>1.0</td>\n",
       "      <td>0.0</td>\n",
       "      <td>0.0</td>\n",
       "      <td>0.0</td>\n",
       "    </tr>\n",
       "    <tr>\n",
       "      <th>279709</th>\n",
       "      <td>50</td>\n",
       "      <td>0</td>\n",
       "      <td>0.000138</td>\n",
       "      <td>1</td>\n",
       "      <td>1</td>\n",
       "      <td>0.543189</td>\n",
       "      <td>0.013051</td>\n",
       "      <td>0.066667</td>\n",
       "      <td>0.0</td>\n",
       "      <td>1.0</td>\n",
       "      <td>...</td>\n",
       "      <td>1</td>\n",
       "      <td>0</td>\n",
       "      <td>0</td>\n",
       "      <td>0</td>\n",
       "      <td>1</td>\n",
       "      <td>1</td>\n",
       "      <td>1.0</td>\n",
       "      <td>0.0</td>\n",
       "      <td>0.0</td>\n",
       "      <td>0.0</td>\n",
       "    </tr>\n",
       "    <tr>\n",
       "      <th>279710</th>\n",
       "      <td>105</td>\n",
       "      <td>0</td>\n",
       "      <td>0.000138</td>\n",
       "      <td>1</td>\n",
       "      <td>1</td>\n",
       "      <td>0.542965</td>\n",
       "      <td>0.013229</td>\n",
       "      <td>0.066667</td>\n",
       "      <td>0.0</td>\n",
       "      <td>1.0</td>\n",
       "      <td>...</td>\n",
       "      <td>1</td>\n",
       "      <td>1</td>\n",
       "      <td>0</td>\n",
       "      <td>1</td>\n",
       "      <td>1</td>\n",
       "      <td>1</td>\n",
       "      <td>1.0</td>\n",
       "      <td>0.0</td>\n",
       "      <td>0.0</td>\n",
       "      <td>0.0</td>\n",
       "    </tr>\n",
       "    <tr>\n",
       "      <th>279711</th>\n",
       "      <td>70</td>\n",
       "      <td>0</td>\n",
       "      <td>0.000138</td>\n",
       "      <td>1</td>\n",
       "      <td>1</td>\n",
       "      <td>0.543024</td>\n",
       "      <td>0.013129</td>\n",
       "      <td>0.066667</td>\n",
       "      <td>0.0</td>\n",
       "      <td>1.0</td>\n",
       "      <td>...</td>\n",
       "      <td>1</td>\n",
       "      <td>0</td>\n",
       "      <td>0</td>\n",
       "      <td>0</td>\n",
       "      <td>1</td>\n",
       "      <td>1</td>\n",
       "      <td>1.0</td>\n",
       "      <td>0.0</td>\n",
       "      <td>0.0</td>\n",
       "      <td>0.0</td>\n",
       "    </tr>\n",
       "  </tbody>\n",
       "</table>\n",
       "<p>279599 rows × 64 columns</p>\n",
       "</div>"
      ],
      "text/plain": [
       "        price  host_is_superhost  host_total_listings_count   \n",
       "0          53                  0                   0.000138  \\\n",
       "1         120                  0                   0.000138   \n",
       "2          89                  0                   0.000138   \n",
       "3          58                  0                   0.000138   \n",
       "4          60                  0                   0.000138   \n",
       "...       ...                ...                        ...   \n",
       "279707    120                  0                   0.000138   \n",
       "279708     60                  0                   0.000138   \n",
       "279709     50                  0                   0.000138   \n",
       "279710    105                  0                   0.000138   \n",
       "279711     70                  0                   0.000138   \n",
       "\n",
       "        host_has_profile_pic  host_identity_verified  latitude  longitude   \n",
       "0                          1                       0  0.543185   0.012963  \\\n",
       "1                          1                       1  0.543180   0.013029   \n",
       "2                          1                       0  0.543124   0.012873   \n",
       "3                          1                       1  0.542730   0.012810   \n",
       "4                          1                       0  0.542833   0.012610   \n",
       "...                      ...                     ...       ...        ...   \n",
       "279707                     1                       1  0.542522   0.012857   \n",
       "279708                     1                       1  0.543257   0.012956   \n",
       "279709                     1                       1  0.543189   0.013051   \n",
       "279710                     1                       1  0.542965   0.013229   \n",
       "279711                     1                       1  0.543024   0.013129   \n",
       "\n",
       "        accommodates  bedrooms  review_scores_rating  ...  Shampoo   \n",
       "0           0.066667       0.0                   1.0  ...        0  \\\n",
       "1           0.066667       0.0                   1.0  ...        1   \n",
       "2           0.066667       0.0                   1.0  ...        0   \n",
       "3           0.066667       0.0                   1.0  ...        0   \n",
       "4           0.066667       0.0                   1.0  ...        0   \n",
       "...              ...       ...                   ...  ...      ...   \n",
       "279707      0.066667       0.0                   1.0  ...        0   \n",
       "279708      0.066667       0.0                   1.0  ...        1   \n",
       "279709      0.066667       0.0                   1.0  ...        1   \n",
       "279710      0.066667       0.0                   1.0  ...        1   \n",
       "279711      0.066667       0.0                   1.0  ...        1   \n",
       "\n",
       "        Smoke alarm  Stove  TV  Washer  Wifi  Entire place  Hotel room   \n",
       "0                 0      0   0       1     1           1.0         0.0  \\\n",
       "1                 0      0   0       1     1           1.0         0.0   \n",
       "2                 0      0   1       1     1           1.0         0.0   \n",
       "3                 0      0   1       0     1           1.0         0.0   \n",
       "4                 0      0   1       1     1           1.0         0.0   \n",
       "...             ...    ...  ..     ...   ...           ...         ...   \n",
       "279707            1      0   1       1     1           1.0         0.0   \n",
       "279708            0      0   1       1     1           1.0         0.0   \n",
       "279709            0      0   0       1     1           1.0         0.0   \n",
       "279710            1      0   1       1     1           1.0         0.0   \n",
       "279711            0      0   0       1     1           1.0         0.0   \n",
       "\n",
       "        Private room  Shared room  \n",
       "0                0.0          0.0  \n",
       "1                0.0          0.0  \n",
       "2                0.0          0.0  \n",
       "3                0.0          0.0  \n",
       "4                0.0          0.0  \n",
       "...              ...          ...  \n",
       "279707           0.0          0.0  \n",
       "279708           0.0          0.0  \n",
       "279709           0.0          0.0  \n",
       "279710           0.0          0.0  \n",
       "279711           0.0          0.0  \n",
       "\n",
       "[279599 rows x 64 columns]"
      ]
     },
     "execution_count": 4,
     "metadata": {},
     "output_type": "execute_result"
    }
   ],
   "source": [
    "df"
   ]
  },
  {
   "cell_type": "markdown",
   "id": "d9a812c0-a120-4780-bfa0-31b272b0c99a",
   "metadata": {},
   "source": [
    "## 6.1. Split train test"
   ]
  },
  {
   "cell_type": "code",
   "execution_count": 5,
   "id": "a5711274-c3c4-4fa1-8fc2-7960ea5bf281",
   "metadata": {
    "tags": []
   },
   "outputs": [],
   "source": [
    "X_train, X_test, y_train, y_test = train_test_split(df.iloc[:, 1:], df.iloc[:, 0], random_state=42, train_size=.75)"
   ]
  },
  {
   "cell_type": "code",
   "execution_count": 6,
   "id": "e091ced9-9d36-4dab-93a0-db394680e3fd",
   "metadata": {
    "tags": []
   },
   "outputs": [
    {
     "data": {
      "text/plain": [
       "((209699, 63), (69900, 63), (209699,), (69900,))"
      ]
     },
     "execution_count": 6,
     "metadata": {},
     "output_type": "execute_result"
    }
   ],
   "source": [
    "X_train.shape, X_test.shape, y_train.shape, y_test.shape"
   ]
  },
  {
   "cell_type": "code",
   "execution_count": 7,
   "id": "7b1a514d-cc19-4b4a-8cca-751d21ee77ed",
   "metadata": {
    "tags": []
   },
   "outputs": [
    {
     "data": {
      "text/html": [
       "<div>\n",
       "<style scoped>\n",
       "    .dataframe tbody tr th:only-of-type {\n",
       "        vertical-align: middle;\n",
       "    }\n",
       "\n",
       "    .dataframe tbody tr th {\n",
       "        vertical-align: top;\n",
       "    }\n",
       "\n",
       "    .dataframe thead th {\n",
       "        text-align: right;\n",
       "    }\n",
       "</style>\n",
       "<table border=\"1\" class=\"dataframe\">\n",
       "  <thead>\n",
       "    <tr style=\"text-align: right;\">\n",
       "      <th></th>\n",
       "      <th>host_is_superhost</th>\n",
       "      <th>host_total_listings_count</th>\n",
       "      <th>host_has_profile_pic</th>\n",
       "      <th>host_identity_verified</th>\n",
       "      <th>latitude</th>\n",
       "      <th>longitude</th>\n",
       "      <th>accommodates</th>\n",
       "      <th>bedrooms</th>\n",
       "      <th>review_scores_rating</th>\n",
       "      <th>review_scores_accuracy</th>\n",
       "      <th>...</th>\n",
       "      <th>Shampoo</th>\n",
       "      <th>Smoke alarm</th>\n",
       "      <th>Stove</th>\n",
       "      <th>TV</th>\n",
       "      <th>Washer</th>\n",
       "      <th>Wifi</th>\n",
       "      <th>Entire place</th>\n",
       "      <th>Hotel room</th>\n",
       "      <th>Private room</th>\n",
       "      <th>Shared room</th>\n",
       "    </tr>\n",
       "  </thead>\n",
       "  <tbody>\n",
       "    <tr>\n",
       "      <th>160755</th>\n",
       "      <td>0</td>\n",
       "      <td>0.000968</td>\n",
       "      <td>1</td>\n",
       "      <td>1</td>\n",
       "      <td>0.465485</td>\n",
       "      <td>0.069388</td>\n",
       "      <td>0.000000</td>\n",
       "      <td>0.000000</td>\n",
       "      <td>0.98</td>\n",
       "      <td>1.0</td>\n",
       "      <td>...</td>\n",
       "      <td>1</td>\n",
       "      <td>0</td>\n",
       "      <td>1</td>\n",
       "      <td>1</td>\n",
       "      <td>0</td>\n",
       "      <td>1</td>\n",
       "      <td>0.0</td>\n",
       "      <td>0.0</td>\n",
       "      <td>1.0</td>\n",
       "      <td>0.0</td>\n",
       "    </tr>\n",
       "    <tr>\n",
       "      <th>220908</th>\n",
       "      <td>0</td>\n",
       "      <td>0.000000</td>\n",
       "      <td>1</td>\n",
       "      <td>1</td>\n",
       "      <td>0.543280</td>\n",
       "      <td>0.013114</td>\n",
       "      <td>0.066667</td>\n",
       "      <td>0.010521</td>\n",
       "      <td>0.93</td>\n",
       "      <td>0.9</td>\n",
       "      <td>...</td>\n",
       "      <td>1</td>\n",
       "      <td>1</td>\n",
       "      <td>0</td>\n",
       "      <td>0</td>\n",
       "      <td>1</td>\n",
       "      <td>1</td>\n",
       "      <td>1.0</td>\n",
       "      <td>0.0</td>\n",
       "      <td>0.0</td>\n",
       "      <td>0.0</td>\n",
       "    </tr>\n",
       "    <tr>\n",
       "      <th>24800</th>\n",
       "      <td>0</td>\n",
       "      <td>0.000138</td>\n",
       "      <td>1</td>\n",
       "      <td>1</td>\n",
       "      <td>0.453291</td>\n",
       "      <td>-0.410921</td>\n",
       "      <td>0.200000</td>\n",
       "      <td>0.000000</td>\n",
       "      <td>1.00</td>\n",
       "      <td>1.0</td>\n",
       "      <td>...</td>\n",
       "      <td>0</td>\n",
       "      <td>1</td>\n",
       "      <td>1</td>\n",
       "      <td>1</td>\n",
       "      <td>1</td>\n",
       "      <td>1</td>\n",
       "      <td>1.0</td>\n",
       "      <td>0.0</td>\n",
       "      <td>0.0</td>\n",
       "      <td>0.0</td>\n",
       "    </tr>\n",
       "    <tr>\n",
       "      <th>157756</th>\n",
       "      <td>1</td>\n",
       "      <td>0.001106</td>\n",
       "      <td>1</td>\n",
       "      <td>0</td>\n",
       "      <td>0.453011</td>\n",
       "      <td>-0.410409</td>\n",
       "      <td>0.133333</td>\n",
       "      <td>0.000000</td>\n",
       "      <td>0.95</td>\n",
       "      <td>0.9</td>\n",
       "      <td>...</td>\n",
       "      <td>1</td>\n",
       "      <td>1</td>\n",
       "      <td>1</td>\n",
       "      <td>0</td>\n",
       "      <td>0</td>\n",
       "      <td>1</td>\n",
       "      <td>0.0</td>\n",
       "      <td>0.0</td>\n",
       "      <td>1.0</td>\n",
       "      <td>0.0</td>\n",
       "    </tr>\n",
       "    <tr>\n",
       "      <th>76686</th>\n",
       "      <td>0</td>\n",
       "      <td>0.000276</td>\n",
       "      <td>1</td>\n",
       "      <td>1</td>\n",
       "      <td>-0.375519</td>\n",
       "      <td>0.840476</td>\n",
       "      <td>0.133333</td>\n",
       "      <td>0.010521</td>\n",
       "      <td>0.98</td>\n",
       "      <td>1.0</td>\n",
       "      <td>...</td>\n",
       "      <td>1</td>\n",
       "      <td>1</td>\n",
       "      <td>1</td>\n",
       "      <td>1</td>\n",
       "      <td>1</td>\n",
       "      <td>1</td>\n",
       "      <td>1.0</td>\n",
       "      <td>0.0</td>\n",
       "      <td>0.0</td>\n",
       "      <td>0.0</td>\n",
       "    </tr>\n",
       "    <tr>\n",
       "      <th>...</th>\n",
       "      <td>...</td>\n",
       "      <td>...</td>\n",
       "      <td>...</td>\n",
       "      <td>...</td>\n",
       "      <td>...</td>\n",
       "      <td>...</td>\n",
       "      <td>...</td>\n",
       "      <td>...</td>\n",
       "      <td>...</td>\n",
       "      <td>...</td>\n",
       "      <td>...</td>\n",
       "      <td>...</td>\n",
       "      <td>...</td>\n",
       "      <td>...</td>\n",
       "      <td>...</td>\n",
       "      <td>...</td>\n",
       "      <td>...</td>\n",
       "      <td>...</td>\n",
       "      <td>...</td>\n",
       "      <td>...</td>\n",
       "      <td>...</td>\n",
       "    </tr>\n",
       "    <tr>\n",
       "      <th>119880</th>\n",
       "      <td>0</td>\n",
       "      <td>0.000276</td>\n",
       "      <td>1</td>\n",
       "      <td>0</td>\n",
       "      <td>0.453488</td>\n",
       "      <td>-0.410847</td>\n",
       "      <td>0.000000</td>\n",
       "      <td>0.000000</td>\n",
       "      <td>0.93</td>\n",
       "      <td>0.9</td>\n",
       "      <td>...</td>\n",
       "      <td>1</td>\n",
       "      <td>1</td>\n",
       "      <td>0</td>\n",
       "      <td>0</td>\n",
       "      <td>0</td>\n",
       "      <td>1</td>\n",
       "      <td>0.0</td>\n",
       "      <td>0.0</td>\n",
       "      <td>1.0</td>\n",
       "      <td>0.0</td>\n",
       "    </tr>\n",
       "    <tr>\n",
       "      <th>259291</th>\n",
       "      <td>0</td>\n",
       "      <td>0.000138</td>\n",
       "      <td>1</td>\n",
       "      <td>1</td>\n",
       "      <td>0.543058</td>\n",
       "      <td>0.013010</td>\n",
       "      <td>0.333333</td>\n",
       "      <td>0.020408</td>\n",
       "      <td>0.92</td>\n",
       "      <td>0.9</td>\n",
       "      <td>...</td>\n",
       "      <td>1</td>\n",
       "      <td>1</td>\n",
       "      <td>1</td>\n",
       "      <td>1</td>\n",
       "      <td>1</td>\n",
       "      <td>1</td>\n",
       "      <td>1.0</td>\n",
       "      <td>0.0</td>\n",
       "      <td>0.0</td>\n",
       "      <td>0.0</td>\n",
       "    </tr>\n",
       "    <tr>\n",
       "      <th>131933</th>\n",
       "      <td>0</td>\n",
       "      <td>0.000415</td>\n",
       "      <td>1</td>\n",
       "      <td>1</td>\n",
       "      <td>-0.376483</td>\n",
       "      <td>0.840064</td>\n",
       "      <td>0.066667</td>\n",
       "      <td>0.000000</td>\n",
       "      <td>0.96</td>\n",
       "      <td>1.0</td>\n",
       "      <td>...</td>\n",
       "      <td>1</td>\n",
       "      <td>1</td>\n",
       "      <td>1</td>\n",
       "      <td>1</td>\n",
       "      <td>1</td>\n",
       "      <td>1</td>\n",
       "      <td>0.0</td>\n",
       "      <td>0.0</td>\n",
       "      <td>1.0</td>\n",
       "      <td>0.0</td>\n",
       "    </tr>\n",
       "    <tr>\n",
       "      <th>146868</th>\n",
       "      <td>0</td>\n",
       "      <td>0.000276</td>\n",
       "      <td>1</td>\n",
       "      <td>1</td>\n",
       "      <td>0.463658</td>\n",
       "      <td>0.068278</td>\n",
       "      <td>0.066667</td>\n",
       "      <td>0.000000</td>\n",
       "      <td>1.00</td>\n",
       "      <td>1.0</td>\n",
       "      <td>...</td>\n",
       "      <td>1</td>\n",
       "      <td>0</td>\n",
       "      <td>0</td>\n",
       "      <td>1</td>\n",
       "      <td>0</td>\n",
       "      <td>1</td>\n",
       "      <td>0.0</td>\n",
       "      <td>0.0</td>\n",
       "      <td>1.0</td>\n",
       "      <td>0.0</td>\n",
       "    </tr>\n",
       "    <tr>\n",
       "      <th>121959</th>\n",
       "      <td>0</td>\n",
       "      <td>0.000276</td>\n",
       "      <td>1</td>\n",
       "      <td>0</td>\n",
       "      <td>0.153655</td>\n",
       "      <td>0.558490</td>\n",
       "      <td>0.066667</td>\n",
       "      <td>0.000000</td>\n",
       "      <td>0.93</td>\n",
       "      <td>0.9</td>\n",
       "      <td>...</td>\n",
       "      <td>1</td>\n",
       "      <td>1</td>\n",
       "      <td>0</td>\n",
       "      <td>1</td>\n",
       "      <td>1</td>\n",
       "      <td>0</td>\n",
       "      <td>0.0</td>\n",
       "      <td>0.0</td>\n",
       "      <td>1.0</td>\n",
       "      <td>0.0</td>\n",
       "    </tr>\n",
       "  </tbody>\n",
       "</table>\n",
       "<p>209699 rows × 63 columns</p>\n",
       "</div>"
      ],
      "text/plain": [
       "        host_is_superhost  host_total_listings_count  host_has_profile_pic   \n",
       "160755                  0                   0.000968                     1  \\\n",
       "220908                  0                   0.000000                     1   \n",
       "24800                   0                   0.000138                     1   \n",
       "157756                  1                   0.001106                     1   \n",
       "76686                   0                   0.000276                     1   \n",
       "...                   ...                        ...                   ...   \n",
       "119880                  0                   0.000276                     1   \n",
       "259291                  0                   0.000138                     1   \n",
       "131933                  0                   0.000415                     1   \n",
       "146868                  0                   0.000276                     1   \n",
       "121959                  0                   0.000276                     1   \n",
       "\n",
       "        host_identity_verified  latitude  longitude  accommodates  bedrooms   \n",
       "160755                       1  0.465485   0.069388      0.000000  0.000000  \\\n",
       "220908                       1  0.543280   0.013114      0.066667  0.010521   \n",
       "24800                        1  0.453291  -0.410921      0.200000  0.000000   \n",
       "157756                       0  0.453011  -0.410409      0.133333  0.000000   \n",
       "76686                        1 -0.375519   0.840476      0.133333  0.010521   \n",
       "...                        ...       ...        ...           ...       ...   \n",
       "119880                       0  0.453488  -0.410847      0.000000  0.000000   \n",
       "259291                       1  0.543058   0.013010      0.333333  0.020408   \n",
       "131933                       1 -0.376483   0.840064      0.066667  0.000000   \n",
       "146868                       1  0.463658   0.068278      0.066667  0.000000   \n",
       "121959                       0  0.153655   0.558490      0.066667  0.000000   \n",
       "\n",
       "        review_scores_rating  review_scores_accuracy  ...  Shampoo   \n",
       "160755                  0.98                     1.0  ...        1  \\\n",
       "220908                  0.93                     0.9  ...        1   \n",
       "24800                   1.00                     1.0  ...        0   \n",
       "157756                  0.95                     0.9  ...        1   \n",
       "76686                   0.98                     1.0  ...        1   \n",
       "...                      ...                     ...  ...      ...   \n",
       "119880                  0.93                     0.9  ...        1   \n",
       "259291                  0.92                     0.9  ...        1   \n",
       "131933                  0.96                     1.0  ...        1   \n",
       "146868                  1.00                     1.0  ...        1   \n",
       "121959                  0.93                     0.9  ...        1   \n",
       "\n",
       "        Smoke alarm  Stove  TV  Washer  Wifi  Entire place  Hotel room   \n",
       "160755            0      1   1       0     1           0.0         0.0  \\\n",
       "220908            1      0   0       1     1           1.0         0.0   \n",
       "24800             1      1   1       1     1           1.0         0.0   \n",
       "157756            1      1   0       0     1           0.0         0.0   \n",
       "76686             1      1   1       1     1           1.0         0.0   \n",
       "...             ...    ...  ..     ...   ...           ...         ...   \n",
       "119880            1      0   0       0     1           0.0         0.0   \n",
       "259291            1      1   1       1     1           1.0         0.0   \n",
       "131933            1      1   1       1     1           0.0         0.0   \n",
       "146868            0      0   1       0     1           0.0         0.0   \n",
       "121959            1      0   1       1     0           0.0         0.0   \n",
       "\n",
       "        Private room  Shared room  \n",
       "160755           1.0          0.0  \n",
       "220908           0.0          0.0  \n",
       "24800            0.0          0.0  \n",
       "157756           1.0          0.0  \n",
       "76686            0.0          0.0  \n",
       "...              ...          ...  \n",
       "119880           1.0          0.0  \n",
       "259291           0.0          0.0  \n",
       "131933           1.0          0.0  \n",
       "146868           1.0          0.0  \n",
       "121959           1.0          0.0  \n",
       "\n",
       "[209699 rows x 63 columns]"
      ]
     },
     "execution_count": 7,
     "metadata": {},
     "output_type": "execute_result"
    }
   ],
   "source": [
    "X_train"
   ]
  },
  {
   "cell_type": "code",
   "execution_count": 8,
   "id": "27c0f5c8-f07b-48ea-b7cb-5d9d84e0ef2e",
   "metadata": {
    "tags": []
   },
   "outputs": [
    {
     "data": {
      "text/plain": [
       "160755     65\n",
       "220908     30\n",
       "24800     148\n",
       "157756     47\n",
       "76686     175\n",
       "         ... \n",
       "119880     80\n",
       "259291    193\n",
       "131933     69\n",
       "146868     51\n",
       "121959    950\n",
       "Name: price, Length: 209699, dtype: Int64"
      ]
     },
     "execution_count": 8,
     "metadata": {},
     "output_type": "execute_result"
    }
   ],
   "source": [
    "y_train"
   ]
  },
  {
   "cell_type": "markdown",
   "id": "34f143c2-79d8-4358-95e6-5870f1396b04",
   "metadata": {},
   "source": [
    "## 6.2. Model"
   ]
  },
  {
   "cell_type": "code",
   "execution_count": 9,
   "id": "25c5eb20-215c-4967-bb9d-77224f7b8234",
   "metadata": {
    "tags": []
   },
   "outputs": [],
   "source": [
    "model_path = \"./pickles/sequential.h5\""
   ]
  },
  {
   "cell_type": "code",
   "execution_count": 10,
   "id": "2a17c323-85b6-4e9d-8a21-d46b8414595a",
   "metadata": {
    "tags": []
   },
   "outputs": [
    {
     "data": {
      "text/plain": [
       "False"
      ]
     },
     "execution_count": 10,
     "metadata": {},
     "output_type": "execute_result"
    }
   ],
   "source": [
    "exists = os.path.exists(model_path)\n",
    "exists"
   ]
  },
  {
   "cell_type": "code",
   "execution_count": 11,
   "id": "5d25a1ce-cdcf-4d6e-82e4-2490a03339f1",
   "metadata": {
    "tags": []
   },
   "outputs": [
    {
     "name": "stdout",
     "output_type": "stream",
     "text": [
      "Model: \"sequential\"\n",
      "_________________________________________________________________\n",
      " Layer (type)                Output Shape              Param #   \n",
      "=================================================================\n",
      " dense (Dense)               (None, 64)                4096      \n",
      "                                                                 \n",
      " dense_1 (Dense)             (None, 64)                4160      \n",
      "                                                                 \n",
      " dense_2 (Dense)             (None, 32)                2080      \n",
      "                                                                 \n",
      " dense_3 (Dense)             (None, 32)                1056      \n",
      "                                                                 \n",
      " dense_4 (Dense)             (None, 1)                 33        \n",
      "                                                                 \n",
      "=================================================================\n",
      "Total params: 11,425\n",
      "Trainable params: 11,425\n",
      "Non-trainable params: 0\n",
      "_________________________________________________________________\n"
     ]
    }
   ],
   "source": [
    "if exists:\n",
    "    model = keras.models.load_model(model_path)\n",
    "else:\n",
    "    model = keras.Sequential([\n",
    "        layers.Dense(64, input_shape=(X_train.shape[1], ), activation=\"tanh\"),\n",
    "        layers.Dense(64, activation=\"tanh\"),\n",
    "        layers.Dense(32, activation=\"tanh\"),\n",
    "        layers.Dense(32, activation=\"sigmoid\"),\n",
    "        layers.Dense(1, activation=\"linear\"),\n",
    "    ])\n",
    "\n",
    "model.summary()"
   ]
  },
  {
   "cell_type": "code",
   "execution_count": 12,
   "id": "f27956d2-8773-4ac2-8115-2e6c4b0e764b",
   "metadata": {
    "tags": []
   },
   "outputs": [
    {
     "data": {
      "image/png": "[encoded data removed]",
      "text/plain": [
       "<IPython.core.display.Image object>"
      ]
     },
     "execution_count": 12,
     "metadata": {},
     "output_type": "execute_result"
    }
   ],
   "source": [
    "keras.utils.plot_model(model, show_shapes=True)"
   ]
  },
  {
   "cell_type": "code",
   "execution_count": 13,
   "id": "9a7e366b-29ca-4efd-9e52-c773fc923f09",
   "metadata": {
    "tags": []
   },
   "outputs": [],
   "source": [
    "model.compile(\n",
    "    optimizer=\"adam\",\n",
    "    loss=\"mae\",\n",
    ")"
   ]
  },
  {
   "cell_type": "code",
   "execution_count": 14,
   "id": "52b75348-c5f4-4b3b-99d5-6437713fc919",
   "metadata": {
    "tags": []
   },
   "outputs": [],
   "source": [
    "early_stopping_cb = keras.callbacks.EarlyStopping(monitor=\"loss\", patience=5, restore_best_weights=True)\n",
    "backup_and_restore_cb = tf.keras.callbacks.BackupAndRestore(backup_dir=\"./pickles/backup\")\n",
    "tensorboard_cb = keras.callbacks.TensorBoard(\"./TensorBoardLogs\")"
   ]
  },
  {
   "cell_type": "code",
   "execution_count": 15,
   "id": "73f5200a-d854-4fb8-b2d2-7273ec4d81ca",
   "metadata": {
    "tags": []
   },
   "outputs": [],
   "source": [
    "X_train_arr = np.asarray(X_train).astype('float32')"
   ]
  },
  {
   "cell_type": "code",
   "execution_count": 16,
   "id": "6d2c712a-2a83-4bc9-84f6-034ade1b0843",
   "metadata": {
    "tags": []
   },
   "outputs": [],
   "source": [
    "y_train_arr = np.asarray(y_train).astype('float32')"
   ]
  },
  {
   "cell_type": "code",
   "execution_count": 32,
   "id": "c26cfb5d-39d0-4d85-8dfc-93335c65ac75",
   "metadata": {
    "tags": []
   },
   "outputs": [],
   "source": [
    "history_path = \"./pickles/sequential-history.joblib\""
   ]
  },
  {
   "cell_type": "code",
   "execution_count": 17,
   "id": "5467c50b-3584-4ada-a882-3329af827b55",
   "metadata": {
    "tags": []
   },
   "outputs": [
    {
     "name": "stdout",
     "output_type": "stream",
     "text": [
      "Epoch 1/60\n",
      "10485/10485 [==============================] - 9s 818us/step - loss: 548.7249\n",
      "Epoch 2/60\n",
      "10485/10485 [==============================] - 8s 760us/step - loss: 485.1802\n",
      "Epoch 3/60\n",
      "10485/10485 [==============================] - 8s 752us/step - loss: 429.0359\n",
      "Epoch 4/60\n",
      "10485/10485 [==============================] - 8s 764us/step - loss: 401.9027\n",
      "Epoch 5/60\n",
      "10485/10485 [==============================] - 8s 779us/step - loss: 387.3674\n",
      "Epoch 6/60\n",
      "10485/10485 [==============================] - 8s 726us/step - loss: 378.7080\n",
      "Epoch 7/60\n",
      "10485/10485 [==============================] - 8s 759us/step - loss: 373.0976\n",
      "Epoch 8/60\n",
      "10485/10485 [==============================] - 8s 755us/step - loss: 368.8094\n",
      "Epoch 9/60\n",
      "10485/10485 [==============================] - 8s 744us/step - loss: 365.4346\n",
      "Epoch 10/60\n",
      "10485/10485 [==============================] - 8s 735us/step - loss: 362.4702\n",
      "Epoch 11/60\n",
      "10485/10485 [==============================] - 8s 756us/step - loss: 360.0874\n",
      "Epoch 12/60\n",
      "10485/10485 [==============================] - 8s 742us/step - loss: 357.5488\n",
      "Epoch 13/60\n",
      "10485/10485 [==============================] - 8s 760us/step - loss: 355.5246\n",
      "Epoch 14/60\n",
      "10485/10485 [==============================] - 8s 727us/step - loss: 353.4051\n",
      "Epoch 15/60\n",
      "10485/10485 [==============================] - 8s 757us/step - loss: 351.7177\n",
      "Epoch 16/60\n",
      "10485/10485 [==============================] - 8s 746us/step - loss: 350.0255\n",
      "Epoch 17/60\n",
      "10485/10485 [==============================] - 8s 740us/step - loss: 348.4551\n",
      "Epoch 18/60\n",
      "10485/10485 [==============================] - 8s 749us/step - loss: 346.9572\n",
      "Epoch 19/60\n",
      "10485/10485 [==============================] - 8s 736us/step - loss: 345.3051\n",
      "Epoch 20/60\n",
      "10485/10485 [==============================] - 8s 743us/step - loss: 344.1034\n",
      "Epoch 21/60\n",
      "10485/10485 [==============================] - 8s 732us/step - loss: 342.8853\n",
      "Epoch 22/60\n",
      "10485/10485 [==============================] - 8s 743us/step - loss: 341.7760\n",
      "Epoch 23/60\n",
      "10485/10485 [==============================] - 8s 741us/step - loss: 340.6974\n",
      "Epoch 24/60\n",
      "10485/10485 [==============================] - 8s 735us/step - loss: 339.5271\n",
      "Epoch 25/60\n",
      "10485/10485 [==============================] - 8s 737us/step - loss: 338.3832\n",
      "Epoch 26/60\n",
      "10485/10485 [==============================] - 8s 748us/step - loss: 337.5023\n",
      "Epoch 27/60\n",
      "10485/10485 [==============================] - 8s 732us/step - loss: 336.5616\n",
      "Epoch 28/60\n",
      "10485/10485 [==============================] - 8s 735us/step - loss: 335.7479\n",
      "Epoch 29/60\n",
      "10485/10485 [==============================] - 8s 727us/step - loss: 334.8815\n",
      "Epoch 30/60\n",
      "10485/10485 [==============================] - 8s 757us/step - loss: 334.2591\n",
      "Epoch 31/60\n",
      "10485/10485 [==============================] - 8s 745us/step - loss: 333.6637\n",
      "Epoch 32/60\n",
      "10485/10485 [==============================] - 8s 740us/step - loss: 332.7649\n",
      "Epoch 33/60\n",
      "10485/10485 [==============================] - 8s 745us/step - loss: 331.9492\n",
      "Epoch 34/60\n",
      "10485/10485 [==============================] - 8s 745us/step - loss: 331.4124\n",
      "Epoch 35/60\n",
      "10485/10485 [==============================] - 8s 734us/step - loss: 330.6726\n",
      "Epoch 36/60\n",
      "10485/10485 [==============================] - 8s 745us/step - loss: 329.6624\n",
      "Epoch 37/60\n",
      "10485/10485 [==============================] - 8s 742us/step - loss: 329.5794\n",
      "Epoch 38/60\n",
      "10485/10485 [==============================] - 8s 745us/step - loss: 328.6966\n",
      "Epoch 39/60\n",
      "10485/10485 [==============================] - 8s 734us/step - loss: 328.1608\n",
      "Epoch 40/60\n",
      "10485/10485 [==============================] - 8s 744us/step - loss: 327.4397\n",
      "Epoch 41/60\n",
      "10485/10485 [==============================] - 8s 751us/step - loss: 326.8812\n",
      "Epoch 42/60\n",
      "10485/10485 [==============================] - 8s 741us/step - loss: 325.9471\n",
      "Epoch 43/60\n",
      "10485/10485 [==============================] - 8s 738us/step - loss: 325.9000\n",
      "Epoch 44/60\n",
      "10485/10485 [==============================] - 8s 738us/step - loss: 325.3927\n",
      "Epoch 45/60\n",
      "10485/10485 [==============================] - 8s 743us/step - loss: 325.2137\n",
      "Epoch 46/60\n",
      "10485/10485 [==============================] - 8s 756us/step - loss: 324.6357\n",
      "Epoch 47/60\n",
      "10485/10485 [==============================] - 8s 741us/step - loss: 324.1522\n",
      "Epoch 48/60\n",
      "10485/10485 [==============================] - 8s 743us/step - loss: 323.6380\n",
      "Epoch 49/60\n",
      "10485/10485 [==============================] - 8s 747us/step - loss: 323.1704\n",
      "Epoch 50/60\n",
      "10485/10485 [==============================] - 8s 750us/step - loss: 322.7028\n",
      "Epoch 51/60\n",
      "10485/10485 [==============================] - 8s 737us/step - loss: 322.2834\n",
      "Epoch 52/60\n",
      "10485/10485 [==============================] - 8s 740us/step - loss: 321.7451\n",
      "Epoch 53/60\n",
      "10485/10485 [==============================] - 8s 764us/step - loss: 321.6163\n",
      "Epoch 54/60\n",
      "10485/10485 [==============================] - 8s 752us/step - loss: 321.3666\n",
      "Epoch 55/60\n",
      "10485/10485 [==============================] - 8s 745us/step - loss: 320.7226\n",
      "Epoch 56/60\n",
      "10485/10485 [==============================] - 8s 738us/step - loss: 320.2724\n",
      "Epoch 57/60\n",
      "10485/10485 [==============================] - 8s 737us/step - loss: 319.8364\n",
      "Epoch 58/60\n",
      "10485/10485 [==============================] - 8s 736us/step - loss: 319.4338\n",
      "Epoch 59/60\n",
      "10485/10485 [==============================] - 8s 737us/step - loss: 319.5832\n",
      "Epoch 60/60\n",
      "10485/10485 [==============================] - 8s 743us/step - loss: 318.8640\n"
     ]
    }
   ],
   "source": [
    "if exists:\n",
    "    print(\"Already fitted\")\n",
    "    history = joblib.load(history_path)\n",
    "else:\n",
    "    history = model.fit(\n",
    "        X_train_arr, y_train_arr,\n",
    "        epochs=60,\n",
    "        batch_size=20,\n",
    "        #validation_data=(X_val, y_val),\n",
    "        callbacks=[\n",
    "            early_stopping_cb,\n",
    "            backup_and_restore_cb,\n",
    "            tensorboard_cb,\n",
    "        ])\n",
    "    history = history.history"
   ]
  },
  {
   "cell_type": "code",
   "execution_count": 33,
   "id": "6bcefe24-905c-4819-9ff8-f0a79d3495f6",
   "metadata": {
    "tags": []
   },
   "outputs": [
    {
     "data": {
      "text/plain": [
       "['./pickles/sequential-history.joblib']"
      ]
     },
     "execution_count": 33,
     "metadata": {},
     "output_type": "execute_result"
    }
   ],
   "source": [
    "joblib.dump(history.history, history_path)"
   ]
  },
  {
   "cell_type": "code",
   "execution_count": 35,
   "id": "69dc4c05-1d07-45fc-9206-25f951b5759f",
   "metadata": {
    "tags": []
   },
   "outputs": [
    {
     "data": {
      "text/plain": [
       "[<matplotlib.lines.Line2D at 0x1610ca21a10>]"
      ]
     },
     "execution_count": 35,
     "metadata": {},
     "output_type": "execute_result"
    },
    {
     "data": {
      "image/png": "[encoded data removed]",
      "text/plain": [
       "<Figure size 640x480 with 1 Axes>"
      ]
     },
     "metadata": {},
     "output_type": "display_data"
    }
   ],
   "source": [
    "plt.plot(history[\"loss\"])"
   ]
  },
  {
   "cell_type": "code",
   "execution_count": 36,
   "id": "960cd1b2-5824-4b9d-bab8-16ecc078950f",
   "metadata": {
    "tags": []
   },
   "outputs": [],
   "source": [
    "model.save(model_path)"
   ]
  },
  {
   "cell_type": "code",
   "execution_count": 38,
   "id": "110cc254-3565-4b0f-9604-02400b50297b",
   "metadata": {
    "tags": []
   },
   "outputs": [
    {
     "name": "stdout",
     "output_type": "stream",
     "text": [
      "2185/2185 [==============================] - 1s 428us/step\n"
     ]
    },
    {
     "data": {
      "text/plain": [
       "array([[162.37395],\n",
       "       [ 81.48377],\n",
       "       [529.3301 ],\n",
       "       ...,\n",
       "       [194.08566],\n",
       "       [ 99.75981],\n",
       "       [905.30664]], dtype=float32)"
      ]
     },
     "execution_count": 38,
     "metadata": {},
     "output_type": "execute_result"
    }
   ],
   "source": [
    "pred = model.predict(X_test)\n",
    "pred"
   ]
  },
  {
   "cell_type": "code",
   "execution_count": 39,
   "id": "5f0dac1c-f486-45e7-a43b-105095773914",
   "metadata": {
    "tags": []
   },
   "outputs": [
    {
     "data": {
      "text/plain": [
       "[<matplotlib.lines.Line2D at 0x1610cd19990>]"
      ]
     },
     "execution_count": 39,
     "metadata": {},
     "output_type": "execute_result"
    },
    {
     "data": {
      "image/png": "[encoded data removed]",
      "text/plain": [
       "<Figure size 2500x700 with 1 Axes>"
      ]
     },
     "metadata": {},
     "output_type": "display_data"
    }
   ],
   "source": [
    "rng = slice(340, 380)\n",
    "\n",
    "plt.figure(figsize=(25, 7))\n",
    "plt.plot(y_test[rng].values)\n",
    "plt.plot(pred[rng])"
   ]
  },
  {
   "cell_type": "code",
   "execution_count": 70,
   "id": "74464518-769c-428a-af4e-edcfe42421ed",
   "metadata": {
    "tags": []
   },
   "outputs": [
    {
     "name": "stdout",
     "output_type": "stream",
     "text": [
      "atomic_benchmark runtimes: 0.024998903274536133 0.028478145599365234 0.1793370246887207\n"
     ]
    }
   ],
   "source": [
    "results = atomic_benchmark_estimator(model, X_test[:5000], verbose=True, kwargs_estimator_predict=dict(verbose=0))"
   ]
  },
  {
   "cell_type": "code",
   "execution_count": 71,
   "id": "dac626a3-8460-42d9-9151-51180614dc79",
   "metadata": {
    "tags": []
   },
   "outputs": [
    {
     "data": {
      "text/plain": [
       "<Axes: >"
      ]
     },
     "execution_count": 71,
     "metadata": {},
     "output_type": "execute_result"
    },
    {
     "data": {
      "image/png": "[encoded data removed]",
      "text/plain": [
       "<Figure size 640x480 with 1 Axes>"
      ]
     },
     "metadata": {},
     "output_type": "display_data"
    }
   ],
   "source": [
    "sns.boxplot(results, orient=\"h\")"
   ]
  },
  {
   "cell_type": "code",
   "execution_count": 72,
   "id": "11cf115c-0952-4295-9dac-1a4814be7eab",
   "metadata": {
    "tags": []
   },
   "outputs": [
    {
     "data": {
      "text/plain": [
       "0.08181196211098984"
      ]
     },
     "execution_count": 72,
     "metadata": {},
     "output_type": "execute_result"
    }
   ],
   "source": [
    "score = r2_score(y_test, pred)\n",
    "score"
   ]
  },
  {
   "cell_type": "code",
   "execution_count": 73,
   "id": "f9af684d-c382-4ed9-bdb8-ed2bc63f143b",
   "metadata": {
    "tags": []
   },
   "outputs": [
    {
     "data": {
      "text/plain": [
       "328.4954358352203"
      ]
     },
     "execution_count": 73,
     "metadata": {},
     "output_type": "execute_result"
    }
   ],
   "source": [
    "mae = mean_absolute_error(y_test, pred)\n",
    "mae"
   ]
  },
  {
   "cell_type": "code",
   "execution_count": 75,
   "id": "c9d87e31-b7fc-4730-a096-63feb34848e2",
   "metadata": {
    "tags": []
   },
   "outputs": [
    {
     "name": "stdout",
     "output_type": "stream",
     "text": [
      "2185/2185 [==============================] - 1s 472us/step - loss: 328.4954\n"
     ]
    },
    {
     "data": {
      "text/plain": [
       "328.49542236328125"
      ]
     },
     "execution_count": 75,
     "metadata": {},
     "output_type": "execute_result"
    }
   ],
   "source": [
    "model.evaluate(np.asarray(X_test).astype('float32'), np.asarray(y_test).astype('float32'))"
   ]
  },
  {
   "cell_type": "code",
   "execution_count": 94,
   "id": "f93a6ec7-e5e6-4fae-8833-8521b024009b",
   "metadata": {
    "tags": []
   },
   "outputs": [],
   "source": [
    "store_model_performance(\n",
    "    model_name=\"sequential\",\n",
    "    R2_score=score,\n",
    "    mae=mae,\n",
    "    avarage_predication_time=results.mean(),\n",
    "    parameters={\n",
    "        \"layers\": [(l.__class__.__name__, l.units, l.activation.__name__) for l in model.layers]\n",
    "    },\n",
    ")"
   ]
  }
 ],
 "metadata": {
  "kernelspec": {
   "display_name": "Python 3 (ipykernel)",
   "language": "python",
   "name": "python3"
  },
  "language_info": {
   "codemirror_mode": {
    "name": "ipython",
    "version": 3
   },
   "file_extension": ".py",
   "mimetype": "text/x-python",
   "name": "python",
   "nbconvert_exporter": "python",
   "pygments_lexer": "ipython3",
   "version": "3.11.3"
  }
 },
 "nbformat": 4,
 "nbformat_minor": 5
}
