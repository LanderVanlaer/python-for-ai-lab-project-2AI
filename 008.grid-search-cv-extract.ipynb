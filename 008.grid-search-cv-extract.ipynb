{
 "cells": [
  {
   "cell_type": "code",
   "execution_count": 44,
   "id": "ad978054-0d64-4fa8-8163-4a79f8f1f783",
   "metadata": {
    "tags": []
   },
   "outputs": [],
   "source": [
    "import re\n",
    "import ast\n",
    "import os\n",
    "\n",
    "import pandas as pd\n",
    "\n",
    "import numpy as np\n",
    "\n",
    "import tensorflow as tf\n",
    "from tensorflow import keras\n",
    "from tensorflow.keras import layers\n",
    "from keras.layers import Dense\n",
    "from keras.callbacks import EarlyStopping\n",
    "\n",
    "from sklearn.model_selection import train_test_split\n",
    "from sklearn.metrics import mean_absolute_error, r2_score\n",
    "\n",
    "import matplotlib.pyplot as plt\n",
    "\n",
    "import seaborn as sns"
   ]
  },
  {
   "cell_type": "code",
   "execution_count": 32,
   "id": "9add3317-cc56-4cfd-a12b-c4f028cb7cb6",
   "metadata": {
    "tags": []
   },
   "outputs": [],
   "source": [
    "%run ./scripts/store_model_performance.py\n",
    "%run ./scripts/atomic_benchmark_estimator.py"
   ]
  },
  {
   "cell_type": "markdown",
   "id": "c70c1689-e5c5-42cf-986a-dd5111e2542e",
   "metadata": {},
   "source": [
    "# 8. GridSearchCV extract\n",
    "```python\n",
    "\"[CV 1/6] END batch_size=10, epochs=10, first_activation=tanh, first_n_nodes=128, layers=[['tanh', 'tanh'], [128, 64]], model_opt=adam;, score=-187.800 total time= 6.1min\"\n",
    "```"
   ]
  },
  {
   "cell_type": "code",
   "execution_count": 2,
   "id": "517e8ab2-ac90-4ac3-9019-1778b7ad965c",
   "metadata": {
    "tags": []
   },
   "outputs": [],
   "source": [
    "pattern = re.compile(\"^\\[CV \\d\\/\\d\\] END batch_size=(\\d+), epochs=(\\d+), first_activation=(.+), first_n_nodes=(\\d+), layers=(\\[.*]), model_opt=(.+);, score=(-?[\\d.]+) total time= ([\\d.]+)min$\")"
   ]
  },
  {
   "cell_type": "code",
   "execution_count": 3,
   "id": "d156e474-64b2-49ce-b346-e62a89bf45f9",
   "metadata": {
    "tags": []
   },
   "outputs": [
    {
     "data": {
      "text/html": [
       "<div>\n",
       "<style scoped>\n",
       "    .dataframe tbody tr th:only-of-type {\n",
       "        vertical-align: middle;\n",
       "    }\n",
       "\n",
       "    .dataframe tbody tr th {\n",
       "        vertical-align: top;\n",
       "    }\n",
       "\n",
       "    .dataframe thead th {\n",
       "        text-align: right;\n",
       "    }\n",
       "</style>\n",
       "<table border=\"1\" class=\"dataframe\">\n",
       "  <thead>\n",
       "    <tr style=\"text-align: right;\">\n",
       "      <th></th>\n",
       "      <th>batch_size</th>\n",
       "      <th>epochs</th>\n",
       "      <th>first_activation</th>\n",
       "      <th>first_n_nodes</th>\n",
       "      <th>layers</th>\n",
       "      <th>model_opt</th>\n",
       "      <th>score</th>\n",
       "      <th>time</th>\n",
       "    </tr>\n",
       "  </thead>\n",
       "  <tbody>\n",
       "    <tr>\n",
       "      <th>86</th>\n",
       "      <td>10</td>\n",
       "      <td>10</td>\n",
       "      <td>tanh</td>\n",
       "      <td>64</td>\n",
       "      <td>[['tanh', 'tanh'], [64, 128]]</td>\n",
       "      <td>adam</td>\n",
       "      <td>-186.759</td>\n",
       "      <td>6.2</td>\n",
       "    </tr>\n",
       "    <tr>\n",
       "      <th>139</th>\n",
       "      <td>10</td>\n",
       "      <td>10</td>\n",
       "      <td>tanh</td>\n",
       "      <td>128</td>\n",
       "      <td>[['tanh', 'tanh'], [64, 128]]</td>\n",
       "      <td>adam</td>\n",
       "      <td>-187.076</td>\n",
       "      <td>6.5</td>\n",
       "    </tr>\n",
       "    <tr>\n",
       "      <th>109</th>\n",
       "      <td>10</td>\n",
       "      <td>10</td>\n",
       "      <td>tanh</td>\n",
       "      <td>64</td>\n",
       "      <td>[['tanh', 'tanh'], [128, 128]]</td>\n",
       "      <td>adam</td>\n",
       "      <td>-187.289</td>\n",
       "      <td>6.8</td>\n",
       "    </tr>\n",
       "    <tr>\n",
       "      <th>121</th>\n",
       "      <td>10</td>\n",
       "      <td>10</td>\n",
       "      <td>tanh</td>\n",
       "      <td>128</td>\n",
       "      <td>[['tanh', 'tanh'], [10, 64]]</td>\n",
       "      <td>adam</td>\n",
       "      <td>-187.334</td>\n",
       "      <td>6.1</td>\n",
       "    </tr>\n",
       "    <tr>\n",
       "      <th>102</th>\n",
       "      <td>10</td>\n",
       "      <td>10</td>\n",
       "      <td>tanh</td>\n",
       "      <td>64</td>\n",
       "      <td>[['tanh', 'tanh'], [128, 128]]</td>\n",
       "      <td>adam</td>\n",
       "      <td>-187.348</td>\n",
       "      <td>7.6</td>\n",
       "    </tr>\n",
       "    <tr>\n",
       "      <th>...</th>\n",
       "      <td>...</td>\n",
       "      <td>...</td>\n",
       "      <td>...</td>\n",
       "      <td>...</td>\n",
       "      <td>...</td>\n",
       "      <td>...</td>\n",
       "      <td>...</td>\n",
       "      <td>...</td>\n",
       "    </tr>\n",
       "    <tr>\n",
       "      <th>127</th>\n",
       "      <td>10</td>\n",
       "      <td>10</td>\n",
       "      <td>tanh</td>\n",
       "      <td>128</td>\n",
       "      <td>[['tanh', 'tanh'], [64, 10]]</td>\n",
       "      <td>adam</td>\n",
       "      <td>-791.972</td>\n",
       "      <td>3.7</td>\n",
       "    </tr>\n",
       "    <tr>\n",
       "      <th>87</th>\n",
       "      <td>10</td>\n",
       "      <td>10</td>\n",
       "      <td>tanh</td>\n",
       "      <td>64</td>\n",
       "      <td>[['tanh', 'tanh'], [128, 10]]</td>\n",
       "      <td>adam</td>\n",
       "      <td>-792.031</td>\n",
       "      <td>3.0</td>\n",
       "    </tr>\n",
       "    <tr>\n",
       "      <th>180</th>\n",
       "      <td>10</td>\n",
       "      <td>30</td>\n",
       "      <td>tanh</td>\n",
       "      <td>128</td>\n",
       "      <td>[['tanh', 'tanh'], [10, 10]]</td>\n",
       "      <td>adam</td>\n",
       "      <td>-792.082</td>\n",
       "      <td>4.1</td>\n",
       "    </tr>\n",
       "    <tr>\n",
       "      <th>30</th>\n",
       "      <td>10</td>\n",
       "      <td>10</td>\n",
       "      <td>tanh</td>\n",
       "      <td>10</td>\n",
       "      <td>[['tanh', 'tanh'], [128, 10]]</td>\n",
       "      <td>adam</td>\n",
       "      <td>-792.127</td>\n",
       "      <td>3.0</td>\n",
       "    </tr>\n",
       "    <tr>\n",
       "      <th>178</th>\n",
       "      <td>10</td>\n",
       "      <td>30</td>\n",
       "      <td>tanh</td>\n",
       "      <td>64</td>\n",
       "      <td>[['tanh', 'tanh'], [128, 10]]</td>\n",
       "      <td>adam</td>\n",
       "      <td>-792.261</td>\n",
       "      <td>4.1</td>\n",
       "    </tr>\n",
       "  </tbody>\n",
       "</table>\n",
       "<p>190 rows × 8 columns</p>\n",
       "</div>"
      ],
      "text/plain": [
       "    batch_size epochs first_activation first_n_nodes   \n",
       "86          10     10             tanh            64  \\\n",
       "139         10     10             tanh           128   \n",
       "109         10     10             tanh            64   \n",
       "121         10     10             tanh           128   \n",
       "102         10     10             tanh            64   \n",
       "..         ...    ...              ...           ...   \n",
       "127         10     10             tanh           128   \n",
       "87          10     10             tanh            64   \n",
       "180         10     30             tanh           128   \n",
       "30          10     10             tanh            10   \n",
       "178         10     30             tanh            64   \n",
       "\n",
       "                             layers model_opt     score time  \n",
       "86    [['tanh', 'tanh'], [64, 128]]      adam  -186.759  6.2  \n",
       "139   [['tanh', 'tanh'], [64, 128]]      adam  -187.076  6.5  \n",
       "109  [['tanh', 'tanh'], [128, 128]]      adam  -187.289  6.8  \n",
       "121    [['tanh', 'tanh'], [10, 64]]      adam  -187.334  6.1  \n",
       "102  [['tanh', 'tanh'], [128, 128]]      adam  -187.348  7.6  \n",
       "..                              ...       ...       ...  ...  \n",
       "127    [['tanh', 'tanh'], [64, 10]]      adam  -791.972  3.7  \n",
       "87    [['tanh', 'tanh'], [128, 10]]      adam  -792.031  3.0  \n",
       "180    [['tanh', 'tanh'], [10, 10]]      adam  -792.082  4.1  \n",
       "30    [['tanh', 'tanh'], [128, 10]]      adam  -792.127  3.0  \n",
       "178   [['tanh', 'tanh'], [128, 10]]      adam  -792.261  4.1  \n",
       "\n",
       "[190 rows x 8 columns]"
      ]
     },
     "execution_count": 3,
     "metadata": {},
     "output_type": "execute_result"
    }
   ],
   "source": [
    "item_names = [\"batch_size\", \"epochs\", \"first_activation\", \"first_n_nodes\", \"layers\", \"model_opt\", \"score\", \"time\"]\n",
    "lst = []\n",
    "\n",
    "with open(\"data/007.gridsearchcv-output.log\") as file:\n",
    "    for line in file.readlines():\n",
    "        if groups := pattern.findall(line):\n",
    "            lst.append({name: value for name, value in zip(item_names, groups[0])})\n",
    "\n",
    "df_grid_search = pd.DataFrame(lst).sort_values(\"score\")\n",
    "df_grid_search"
   ]
  },
  {
   "cell_type": "code",
   "execution_count": 4,
   "id": "f8f3fb18-3f3a-44f1-b9ac-19e8bd618db2",
   "metadata": {
    "tags": []
   },
   "outputs": [
    {
     "data": {
      "text/plain": [
       "batch_size          object\n",
       "epochs              object\n",
       "first_activation    object\n",
       "first_n_nodes       object\n",
       "layers              object\n",
       "model_opt           object\n",
       "score               object\n",
       "time                object\n",
       "dtype: object"
      ]
     },
     "execution_count": 4,
     "metadata": {},
     "output_type": "execute_result"
    }
   ],
   "source": [
    "df_grid_search.dtypes"
   ]
  },
  {
   "cell_type": "code",
   "execution_count": 5,
   "id": "01ee7648-1040-4d9c-83dc-c16fae198c47",
   "metadata": {
    "tags": []
   },
   "outputs": [],
   "source": [
    "df_grid_search[[\"score\", \"time\"]] = df_grid_search[[\"score\", \"time\"]].astype(float)"
   ]
  },
  {
   "cell_type": "code",
   "execution_count": 6,
   "id": "0b217e2b-6ba9-487f-8fe6-505f7eaf516d",
   "metadata": {
    "tags": []
   },
   "outputs": [],
   "source": [
    "df_grid_search[[\"batch_size\", \"epochs\", \"first_n_nodes\"]] = df_grid_search[[\"batch_size\", \"epochs\", \"first_n_nodes\"]].astype(int)"
   ]
  },
  {
   "cell_type": "code",
   "execution_count": 7,
   "id": "6806f805-2ab3-490a-bf0c-2b45e3c5a4b5",
   "metadata": {
    "tags": []
   },
   "outputs": [],
   "source": [
    "df_grid_search[\"layers\"] = df_grid_search[\"layers\"].map(ast.literal_eval)"
   ]
  },
  {
   "cell_type": "code",
   "execution_count": 8,
   "id": "cec0142c-2e71-4bc1-a912-59ba441a1b8d",
   "metadata": {
    "tags": []
   },
   "outputs": [
    {
     "data": {
      "text/plain": [
       "batch_size            int32\n",
       "epochs                int32\n",
       "first_activation     object\n",
       "first_n_nodes         int32\n",
       "layers               object\n",
       "model_opt            object\n",
       "score               float64\n",
       "time                float64\n",
       "dtype: object"
      ]
     },
     "execution_count": 8,
     "metadata": {},
     "output_type": "execute_result"
    }
   ],
   "source": [
    "df_grid_search.dtypes"
   ]
  },
  {
   "cell_type": "code",
   "execution_count": 9,
   "id": "c9826b9f-bf14-4d82-a063-21c9d69f830f",
   "metadata": {
    "tags": []
   },
   "outputs": [
    {
     "data": {
      "text/plain": [
       "batch_size                                 10\n",
       "epochs                                     10\n",
       "first_activation                         tanh\n",
       "first_n_nodes                              64\n",
       "layers              [[tanh, tanh], [64, 128]]\n",
       "model_opt                                adam\n",
       "score                                -186.759\n",
       "time                                      6.2\n",
       "Name: 86, dtype: object"
      ]
     },
     "execution_count": 9,
     "metadata": {},
     "output_type": "execute_result"
    }
   ],
   "source": [
    "df_grid_search.iloc[0]"
   ]
  },
  {
   "cell_type": "markdown",
   "id": "5db8691c-5f9b-4297-be96-d8d2d14aa4ae",
   "metadata": {
    "tags": []
   },
   "source": [
    "## 8.1. Load data"
   ]
  },
  {
   "cell_type": "code",
   "execution_count": 10,
   "id": "8309bf3f-3149-447b-b0c4-4f8fa69e790b",
   "metadata": {
    "tags": []
   },
   "outputs": [
    {
     "data": {
      "text/html": [
       "<div>\n",
       "<style scoped>\n",
       "    .dataframe tbody tr th:only-of-type {\n",
       "        vertical-align: middle;\n",
       "    }\n",
       "\n",
       "    .dataframe tbody tr th {\n",
       "        vertical-align: top;\n",
       "    }\n",
       "\n",
       "    .dataframe thead th {\n",
       "        text-align: right;\n",
       "    }\n",
       "</style>\n",
       "<table border=\"1\" class=\"dataframe\">\n",
       "  <thead>\n",
       "    <tr style=\"text-align: right;\">\n",
       "      <th></th>\n",
       "      <th>price</th>\n",
       "      <th>host_is_superhost</th>\n",
       "      <th>host_total_listings_count</th>\n",
       "      <th>host_has_profile_pic</th>\n",
       "      <th>host_identity_verified</th>\n",
       "      <th>latitude</th>\n",
       "      <th>longitude</th>\n",
       "      <th>accommodates</th>\n",
       "      <th>bedrooms</th>\n",
       "      <th>review_scores_rating</th>\n",
       "      <th>...</th>\n",
       "      <th>Shampoo</th>\n",
       "      <th>Smoke alarm</th>\n",
       "      <th>Stove</th>\n",
       "      <th>TV</th>\n",
       "      <th>Washer</th>\n",
       "      <th>Wifi</th>\n",
       "      <th>Entire place</th>\n",
       "      <th>Hotel room</th>\n",
       "      <th>Private room</th>\n",
       "      <th>Shared room</th>\n",
       "    </tr>\n",
       "  </thead>\n",
       "  <tbody>\n",
       "    <tr>\n",
       "      <th>0</th>\n",
       "      <td>53</td>\n",
       "      <td>0</td>\n",
       "      <td>0.000138</td>\n",
       "      <td>1</td>\n",
       "      <td>0</td>\n",
       "      <td>0.543185</td>\n",
       "      <td>0.012963</td>\n",
       "      <td>0.066667</td>\n",
       "      <td>0.0</td>\n",
       "      <td>1.0</td>\n",
       "      <td>...</td>\n",
       "      <td>0</td>\n",
       "      <td>0</td>\n",
       "      <td>0</td>\n",
       "      <td>0</td>\n",
       "      <td>1</td>\n",
       "      <td>1</td>\n",
       "      <td>1.0</td>\n",
       "      <td>0.0</td>\n",
       "      <td>0.0</td>\n",
       "      <td>0.0</td>\n",
       "    </tr>\n",
       "    <tr>\n",
       "      <th>1</th>\n",
       "      <td>120</td>\n",
       "      <td>0</td>\n",
       "      <td>0.000138</td>\n",
       "      <td>1</td>\n",
       "      <td>1</td>\n",
       "      <td>0.543180</td>\n",
       "      <td>0.013029</td>\n",
       "      <td>0.066667</td>\n",
       "      <td>0.0</td>\n",
       "      <td>1.0</td>\n",
       "      <td>...</td>\n",
       "      <td>1</td>\n",
       "      <td>0</td>\n",
       "      <td>0</td>\n",
       "      <td>0</td>\n",
       "      <td>1</td>\n",
       "      <td>1</td>\n",
       "      <td>1.0</td>\n",
       "      <td>0.0</td>\n",
       "      <td>0.0</td>\n",
       "      <td>0.0</td>\n",
       "    </tr>\n",
       "    <tr>\n",
       "      <th>2</th>\n",
       "      <td>89</td>\n",
       "      <td>0</td>\n",
       "      <td>0.000138</td>\n",
       "      <td>1</td>\n",
       "      <td>0</td>\n",
       "      <td>0.543124</td>\n",
       "      <td>0.012873</td>\n",
       "      <td>0.066667</td>\n",
       "      <td>0.0</td>\n",
       "      <td>1.0</td>\n",
       "      <td>...</td>\n",
       "      <td>0</td>\n",
       "      <td>0</td>\n",
       "      <td>0</td>\n",
       "      <td>1</td>\n",
       "      <td>1</td>\n",
       "      <td>1</td>\n",
       "      <td>1.0</td>\n",
       "      <td>0.0</td>\n",
       "      <td>0.0</td>\n",
       "      <td>0.0</td>\n",
       "    </tr>\n",
       "    <tr>\n",
       "      <th>3</th>\n",
       "      <td>58</td>\n",
       "      <td>0</td>\n",
       "      <td>0.000138</td>\n",
       "      <td>1</td>\n",
       "      <td>1</td>\n",
       "      <td>0.542730</td>\n",
       "      <td>0.012810</td>\n",
       "      <td>0.066667</td>\n",
       "      <td>0.0</td>\n",
       "      <td>1.0</td>\n",
       "      <td>...</td>\n",
       "      <td>0</td>\n",
       "      <td>0</td>\n",
       "      <td>0</td>\n",
       "      <td>1</td>\n",
       "      <td>0</td>\n",
       "      <td>1</td>\n",
       "      <td>1.0</td>\n",
       "      <td>0.0</td>\n",
       "      <td>0.0</td>\n",
       "      <td>0.0</td>\n",
       "    </tr>\n",
       "    <tr>\n",
       "      <th>4</th>\n",
       "      <td>60</td>\n",
       "      <td>0</td>\n",
       "      <td>0.000138</td>\n",
       "      <td>1</td>\n",
       "      <td>0</td>\n",
       "      <td>0.542833</td>\n",
       "      <td>0.012610</td>\n",
       "      <td>0.066667</td>\n",
       "      <td>0.0</td>\n",
       "      <td>1.0</td>\n",
       "      <td>...</td>\n",
       "      <td>0</td>\n",
       "      <td>0</td>\n",
       "      <td>0</td>\n",
       "      <td>1</td>\n",
       "      <td>1</td>\n",
       "      <td>1</td>\n",
       "      <td>1.0</td>\n",
       "      <td>0.0</td>\n",
       "      <td>0.0</td>\n",
       "      <td>0.0</td>\n",
       "    </tr>\n",
       "    <tr>\n",
       "      <th>...</th>\n",
       "      <td>...</td>\n",
       "      <td>...</td>\n",
       "      <td>...</td>\n",
       "      <td>...</td>\n",
       "      <td>...</td>\n",
       "      <td>...</td>\n",
       "      <td>...</td>\n",
       "      <td>...</td>\n",
       "      <td>...</td>\n",
       "      <td>...</td>\n",
       "      <td>...</td>\n",
       "      <td>...</td>\n",
       "      <td>...</td>\n",
       "      <td>...</td>\n",
       "      <td>...</td>\n",
       "      <td>...</td>\n",
       "      <td>...</td>\n",
       "      <td>...</td>\n",
       "      <td>...</td>\n",
       "      <td>...</td>\n",
       "      <td>...</td>\n",
       "    </tr>\n",
       "    <tr>\n",
       "      <th>279707</th>\n",
       "      <td>120</td>\n",
       "      <td>0</td>\n",
       "      <td>0.000138</td>\n",
       "      <td>1</td>\n",
       "      <td>1</td>\n",
       "      <td>0.542522</td>\n",
       "      <td>0.012857</td>\n",
       "      <td>0.066667</td>\n",
       "      <td>0.0</td>\n",
       "      <td>1.0</td>\n",
       "      <td>...</td>\n",
       "      <td>0</td>\n",
       "      <td>1</td>\n",
       "      <td>0</td>\n",
       "      <td>1</td>\n",
       "      <td>1</td>\n",
       "      <td>1</td>\n",
       "      <td>1.0</td>\n",
       "      <td>0.0</td>\n",
       "      <td>0.0</td>\n",
       "      <td>0.0</td>\n",
       "    </tr>\n",
       "    <tr>\n",
       "      <th>279708</th>\n",
       "      <td>60</td>\n",
       "      <td>0</td>\n",
       "      <td>0.000138</td>\n",
       "      <td>1</td>\n",
       "      <td>1</td>\n",
       "      <td>0.543257</td>\n",
       "      <td>0.012956</td>\n",
       "      <td>0.066667</td>\n",
       "      <td>0.0</td>\n",
       "      <td>1.0</td>\n",
       "      <td>...</td>\n",
       "      <td>1</td>\n",
       "      <td>0</td>\n",
       "      <td>0</td>\n",
       "      <td>1</td>\n",
       "      <td>1</td>\n",
       "      <td>1</td>\n",
       "      <td>1.0</td>\n",
       "      <td>0.0</td>\n",
       "      <td>0.0</td>\n",
       "      <td>0.0</td>\n",
       "    </tr>\n",
       "    <tr>\n",
       "      <th>279709</th>\n",
       "      <td>50</td>\n",
       "      <td>0</td>\n",
       "      <td>0.000138</td>\n",
       "      <td>1</td>\n",
       "      <td>1</td>\n",
       "      <td>0.543189</td>\n",
       "      <td>0.013051</td>\n",
       "      <td>0.066667</td>\n",
       "      <td>0.0</td>\n",
       "      <td>1.0</td>\n",
       "      <td>...</td>\n",
       "      <td>1</td>\n",
       "      <td>0</td>\n",
       "      <td>0</td>\n",
       "      <td>0</td>\n",
       "      <td>1</td>\n",
       "      <td>1</td>\n",
       "      <td>1.0</td>\n",
       "      <td>0.0</td>\n",
       "      <td>0.0</td>\n",
       "      <td>0.0</td>\n",
       "    </tr>\n",
       "    <tr>\n",
       "      <th>279710</th>\n",
       "      <td>105</td>\n",
       "      <td>0</td>\n",
       "      <td>0.000138</td>\n",
       "      <td>1</td>\n",
       "      <td>1</td>\n",
       "      <td>0.542965</td>\n",
       "      <td>0.013229</td>\n",
       "      <td>0.066667</td>\n",
       "      <td>0.0</td>\n",
       "      <td>1.0</td>\n",
       "      <td>...</td>\n",
       "      <td>1</td>\n",
       "      <td>1</td>\n",
       "      <td>0</td>\n",
       "      <td>1</td>\n",
       "      <td>1</td>\n",
       "      <td>1</td>\n",
       "      <td>1.0</td>\n",
       "      <td>0.0</td>\n",
       "      <td>0.0</td>\n",
       "      <td>0.0</td>\n",
       "    </tr>\n",
       "    <tr>\n",
       "      <th>279711</th>\n",
       "      <td>70</td>\n",
       "      <td>0</td>\n",
       "      <td>0.000138</td>\n",
       "      <td>1</td>\n",
       "      <td>1</td>\n",
       "      <td>0.543024</td>\n",
       "      <td>0.013129</td>\n",
       "      <td>0.066667</td>\n",
       "      <td>0.0</td>\n",
       "      <td>1.0</td>\n",
       "      <td>...</td>\n",
       "      <td>1</td>\n",
       "      <td>0</td>\n",
       "      <td>0</td>\n",
       "      <td>0</td>\n",
       "      <td>1</td>\n",
       "      <td>1</td>\n",
       "      <td>1.0</td>\n",
       "      <td>0.0</td>\n",
       "      <td>0.0</td>\n",
       "      <td>0.0</td>\n",
       "    </tr>\n",
       "  </tbody>\n",
       "</table>\n",
       "<p>279599 rows × 64 columns</p>\n",
       "</div>"
      ],
      "text/plain": [
       "        price  host_is_superhost  host_total_listings_count   \n",
       "0          53                  0                   0.000138  \\\n",
       "1         120                  0                   0.000138   \n",
       "2          89                  0                   0.000138   \n",
       "3          58                  0                   0.000138   \n",
       "4          60                  0                   0.000138   \n",
       "...       ...                ...                        ...   \n",
       "279707    120                  0                   0.000138   \n",
       "279708     60                  0                   0.000138   \n",
       "279709     50                  0                   0.000138   \n",
       "279710    105                  0                   0.000138   \n",
       "279711     70                  0                   0.000138   \n",
       "\n",
       "        host_has_profile_pic  host_identity_verified  latitude  longitude   \n",
       "0                          1                       0  0.543185   0.012963  \\\n",
       "1                          1                       1  0.543180   0.013029   \n",
       "2                          1                       0  0.543124   0.012873   \n",
       "3                          1                       1  0.542730   0.012810   \n",
       "4                          1                       0  0.542833   0.012610   \n",
       "...                      ...                     ...       ...        ...   \n",
       "279707                     1                       1  0.542522   0.012857   \n",
       "279708                     1                       1  0.543257   0.012956   \n",
       "279709                     1                       1  0.543189   0.013051   \n",
       "279710                     1                       1  0.542965   0.013229   \n",
       "279711                     1                       1  0.543024   0.013129   \n",
       "\n",
       "        accommodates  bedrooms  review_scores_rating  ...  Shampoo   \n",
       "0           0.066667       0.0                   1.0  ...        0  \\\n",
       "1           0.066667       0.0                   1.0  ...        1   \n",
       "2           0.066667       0.0                   1.0  ...        0   \n",
       "3           0.066667       0.0                   1.0  ...        0   \n",
       "4           0.066667       0.0                   1.0  ...        0   \n",
       "...              ...       ...                   ...  ...      ...   \n",
       "279707      0.066667       0.0                   1.0  ...        0   \n",
       "279708      0.066667       0.0                   1.0  ...        1   \n",
       "279709      0.066667       0.0                   1.0  ...        1   \n",
       "279710      0.066667       0.0                   1.0  ...        1   \n",
       "279711      0.066667       0.0                   1.0  ...        1   \n",
       "\n",
       "        Smoke alarm  Stove  TV  Washer  Wifi  Entire place  Hotel room   \n",
       "0                 0      0   0       1     1           1.0         0.0  \\\n",
       "1                 0      0   0       1     1           1.0         0.0   \n",
       "2                 0      0   1       1     1           1.0         0.0   \n",
       "3                 0      0   1       0     1           1.0         0.0   \n",
       "4                 0      0   1       1     1           1.0         0.0   \n",
       "...             ...    ...  ..     ...   ...           ...         ...   \n",
       "279707            1      0   1       1     1           1.0         0.0   \n",
       "279708            0      0   1       1     1           1.0         0.0   \n",
       "279709            0      0   0       1     1           1.0         0.0   \n",
       "279710            1      0   1       1     1           1.0         0.0   \n",
       "279711            0      0   0       1     1           1.0         0.0   \n",
       "\n",
       "        Private room  Shared room  \n",
       "0                0.0          0.0  \n",
       "1                0.0          0.0  \n",
       "2                0.0          0.0  \n",
       "3                0.0          0.0  \n",
       "4                0.0          0.0  \n",
       "...              ...          ...  \n",
       "279707           0.0          0.0  \n",
       "279708           0.0          0.0  \n",
       "279709           0.0          0.0  \n",
       "279710           0.0          0.0  \n",
       "279711           0.0          0.0  \n",
       "\n",
       "[279599 rows x 64 columns]"
      ]
     },
     "execution_count": 10,
     "metadata": {},
     "output_type": "execute_result"
    }
   ],
   "source": [
    "df = pd.read_pickle(\"./pickles/003.dataframe.data-preprocessing.pkl\")\n",
    "df"
   ]
  },
  {
   "cell_type": "markdown",
   "id": "4ecd9553-f88d-42dd-8037-7f358d711df8",
   "metadata": {},
   "source": [
    "## 8.2. Create model"
   ]
  },
  {
   "cell_type": "code",
   "execution_count": 11,
   "id": "0ffe8e26-c72d-4aa4-af68-d11f4a3a4c1a",
   "metadata": {
    "tags": []
   },
   "outputs": [
    {
     "data": {
      "text/plain": [
       "63"
      ]
     },
     "execution_count": 11,
     "metadata": {},
     "output_type": "execute_result"
    }
   ],
   "source": [
    "input_size = df.shape[1] - 1\n",
    "input_size"
   ]
  },
  {
   "cell_type": "code",
   "execution_count": 12,
   "id": "cc2560ed-21d0-48be-8dba-3371d9127905",
   "metadata": {
    "tags": []
   },
   "outputs": [],
   "source": [
    "def create_model(layers, model_opt, first_activation, first_n_nodes):\n",
    "    model = keras.models.Sequential()\n",
    "\n",
    "    model.add(Dense(first_n_nodes, input_shape=(input_size,), activation=first_activation))\n",
    "\n",
    "    for act, n_nodes in zip(*layers):\n",
    "        model.add(Dense(n_nodes, activation=act))\n",
    "\n",
    "    model.add(Dense(1, activation=\"linear\"))\n",
    "\n",
    "    model.compile(\n",
    "        optimizer=model_opt,\n",
    "        loss=\"mae\",\n",
    "    )\n",
    "    \n",
    "    return model"
   ]
  },
  {
   "cell_type": "code",
   "execution_count": 13,
   "id": "855c7d3f-6b7e-4eb2-bf9d-718e3214d259",
   "metadata": {
    "tags": []
   },
   "outputs": [],
   "source": [
    "model = create_model(**{k: df_grid_search.iloc[0][k] for k in [\"layers\", \"model_opt\", \"first_activation\", \"first_n_nodes\"]})"
   ]
  },
  {
   "cell_type": "code",
   "execution_count": 14,
   "id": "c2122a38-3b0a-4e45-821a-c302b416cb83",
   "metadata": {
    "tags": []
   },
   "outputs": [
    {
     "name": "stdout",
     "output_type": "stream",
     "text": [
      "Model: \"sequential\"\n",
      "_________________________________________________________________\n",
      " Layer (type)                Output Shape              Param #   \n",
      "=================================================================\n",
      " dense (Dense)               (None, 64)                4096      \n",
      "                                                                 \n",
      " dense_1 (Dense)             (None, 64)                4160      \n",
      "                                                                 \n",
      " dense_2 (Dense)             (None, 128)               8320      \n",
      "                                                                 \n",
      " dense_3 (Dense)             (None, 1)                 129       \n",
      "                                                                 \n",
      "=================================================================\n",
      "Total params: 16,705\n",
      "Trainable params: 16,705\n",
      "Non-trainable params: 0\n",
      "_________________________________________________________________\n"
     ]
    }
   ],
   "source": [
    "model.summary()"
   ]
  },
  {
   "cell_type": "code",
   "execution_count": 15,
   "id": "9ec4420a-95cb-4595-9d9e-6a8e846cce80",
   "metadata": {
    "tags": []
   },
   "outputs": [
    {
     "data": {
      "image/png": "[encoded data removed]",
      "text/plain": [
       "<IPython.core.display.Image object>"
      ]
     },
     "execution_count": 15,
     "metadata": {},
     "output_type": "execute_result"
    }
   ],
   "source": [
    "tf.keras.utils.plot_model(model, show_shapes=True)"
   ]
  },
  {
   "cell_type": "markdown",
   "id": "8d11e560-da71-4254-89c3-d45ceb0372a5",
   "metadata": {},
   "source": [
    "## 8.3. Split train validate test"
   ]
  },
  {
   "cell_type": "code",
   "execution_count": 16,
   "id": "1efea544-8bec-4f31-aa59-c948176ebc02",
   "metadata": {
    "tags": []
   },
   "outputs": [],
   "source": [
    "train_size = .8\n",
    "validate_size = .1\n",
    "test_size = .1"
   ]
  },
  {
   "cell_type": "code",
   "execution_count": 17,
   "id": "ae09334a-d186-4ac7-a4ef-40756da17de2",
   "metadata": {
    "tags": []
   },
   "outputs": [],
   "source": [
    "X_train_val, X_test, y_train_val, y_test = train_test_split(df.iloc[:, 1:], df.iloc[:, 0], random_state=42, train_size=train_size+test_size)"
   ]
  },
  {
   "cell_type": "code",
   "execution_count": 18,
   "id": "f5a89dc3-2f49-4ce7-9730-531593aac645",
   "metadata": {
    "tags": []
   },
   "outputs": [],
   "source": [
    "X_train, X_val, y_train, y_val = train_test_split(X_train_val, y_train_val, random_state=42, train_size=train_size/(train_size+test_size))"
   ]
  },
  {
   "cell_type": "code",
   "execution_count": 19,
   "id": "c1c1619f-c43f-4d85-9980-2ad2d9d6672c",
   "metadata": {
    "tags": []
   },
   "outputs": [
    {
     "data": {
      "text/plain": [
       "(223679, 27960, 27960, 279599)"
      ]
     },
     "execution_count": 19,
     "metadata": {},
     "output_type": "execute_result"
    }
   ],
   "source": [
    "X_train.shape[0], X_val.shape[0], X_test.shape[0], df.shape[0]"
   ]
  },
  {
   "cell_type": "code",
   "execution_count": 20,
   "id": "a7895725-d0b5-4404-a0eb-b98dfee91b53",
   "metadata": {
    "tags": []
   },
   "outputs": [
    {
     "data": {
      "image/png": "[encoded data removed]",
      "text/plain": [
       "<Figure size 640x480 with 1 Axes>"
      ]
     },
     "metadata": {},
     "output_type": "display_data"
    }
   ],
   "source": [
    "plt.pie([X_train.shape[0], X_val.shape[0], X_test.shape[0]], labels=[\"train\", \"validation\", \"test\"], autopct='%1.1f%%')\n",
    "plt.show()"
   ]
  },
  {
   "cell_type": "markdown",
   "id": "23651429-74ab-4559-894b-1ff1ac716daf",
   "metadata": {},
   "source": [
    "## 8.4. Train"
   ]
  },
  {
   "cell_type": "code",
   "execution_count": 21,
   "id": "4ca9ef45-c148-4f11-95f6-7e209a0ef709",
   "metadata": {
    "tags": []
   },
   "outputs": [
    {
     "data": {
      "text/plain": [
       "batch_size                                 10\n",
       "epochs                                     10\n",
       "first_activation                         tanh\n",
       "first_n_nodes                              64\n",
       "layers              [[tanh, tanh], [64, 128]]\n",
       "model_opt                                adam\n",
       "score                                -186.759\n",
       "time                                      6.2\n",
       "Name: 86, dtype: object"
      ]
     },
     "execution_count": 21,
     "metadata": {},
     "output_type": "execute_result"
    }
   ],
   "source": [
    "df_grid_search.iloc[0]"
   ]
  },
  {
   "cell_type": "code",
   "execution_count": 22,
   "id": "c051ca13-87d9-456e-ba20-091de0a2adfb",
   "metadata": {
    "tags": []
   },
   "outputs": [],
   "source": [
    "model_path = \"./pickles/008.sequential-grid-searched.h5\""
   ]
  },
  {
   "cell_type": "code",
   "execution_count": 23,
   "id": "cdbc28b5-8037-4f5b-b481-66fdd577265b",
   "metadata": {
    "tags": []
   },
   "outputs": [],
   "source": [
    "early_stopping_cb = EarlyStopping(patience=3, monitor=\"val_loss\")"
   ]
  },
  {
   "cell_type": "code",
   "execution_count": 24,
   "id": "ade415a6-8284-41ba-b7db-358fc0891565",
   "metadata": {
    "tags": []
   },
   "outputs": [
    {
     "name": "stdout",
     "output_type": "stream",
     "text": [
      "Epoch 1/60\n",
      "22368/22368 [==============================] - 25s 1ms/step - loss: 456.5957 - val_loss: 408.7748\n",
      "Epoch 2/60\n",
      "22368/22368 [==============================] - 25s 1ms/step - loss: 378.1480 - val_loss: 392.0148\n",
      "Epoch 3/60\n",
      "22368/22368 [==============================] - 25s 1ms/step - loss: 366.0435 - val_loss: 380.5559\n",
      "Epoch 4/60\n",
      "22368/22368 [==============================] - 24s 1ms/step - loss: 359.3774 - val_loss: 376.4387\n",
      "Epoch 5/60\n",
      "22368/22368 [==============================] - 24s 1ms/step - loss: 354.8491 - val_loss: 372.7109\n",
      "Epoch 6/60\n",
      "22368/22368 [==============================] - 24s 1ms/step - loss: 351.1687 - val_loss: 376.1659\n",
      "Epoch 7/60\n",
      "22368/22368 [==============================] - 24s 1ms/step - loss: 348.0763 - val_loss: 367.7175\n",
      "Epoch 8/60\n",
      "22368/22368 [==============================] - 24s 1ms/step - loss: 345.6789 - val_loss: 367.3052\n",
      "Epoch 9/60\n",
      "22368/22368 [==============================] - 24s 1ms/step - loss: 343.3500 - val_loss: 363.3373\n",
      "Epoch 10/60\n",
      "22368/22368 [==============================] - 26s 1ms/step - loss: 341.2745 - val_loss: 362.0615\n",
      "Epoch 11/60\n",
      "22368/22368 [==============================] - 26s 1ms/step - loss: 339.7116 - val_loss: 361.3800\n",
      "Epoch 12/60\n",
      "22368/22368 [==============================] - 26s 1ms/step - loss: 338.2439 - val_loss: 361.7436\n",
      "Epoch 13/60\n",
      "22368/22368 [==============================] - 25s 1ms/step - loss: 336.6423 - val_loss: 358.6186\n",
      "Epoch 14/60\n",
      "22368/22368 [==============================] - 24s 1ms/step - loss: 335.4117 - val_loss: 358.3580\n",
      "Epoch 15/60\n",
      "22368/22368 [==============================] - 25s 1ms/step - loss: 334.0184 - val_loss: 357.4883\n",
      "Epoch 16/60\n",
      "22368/22368 [==============================] - 25s 1ms/step - loss: 333.0817 - val_loss: 356.4109\n",
      "Epoch 17/60\n",
      "22368/22368 [==============================] - 24s 1ms/step - loss: 332.1363 - val_loss: 357.4660\n",
      "Epoch 18/60\n",
      "22368/22368 [==============================] - 24s 1ms/step - loss: 331.1790 - val_loss: 356.4225\n",
      "Epoch 19/60\n",
      "22368/22368 [==============================] - 24s 1ms/step - loss: 330.0432 - val_loss: 355.7170\n",
      "Epoch 20/60\n",
      "22368/22368 [==============================] - 24s 1ms/step - loss: 329.2871 - val_loss: 353.7434\n",
      "Epoch 21/60\n",
      "22368/22368 [==============================] - 25s 1ms/step - loss: 328.1391 - val_loss: 354.6078\n",
      "Epoch 22/60\n",
      "22368/22368 [==============================] - 26s 1ms/step - loss: 328.0422 - val_loss: 352.3557\n",
      "Epoch 23/60\n",
      "22368/22368 [==============================] - 26s 1ms/step - loss: 326.7976 - val_loss: 354.1851\n",
      "Epoch 24/60\n",
      "22368/22368 [==============================] - 25s 1ms/step - loss: 326.2189 - val_loss: 352.3517\n",
      "Epoch 25/60\n",
      "22368/22368 [==============================] - 25s 1ms/step - loss: 325.5567 - val_loss: 350.8048\n",
      "Epoch 26/60\n",
      "22368/22368 [==============================] - 25s 1ms/step - loss: 325.1122 - val_loss: 351.2889\n",
      "Epoch 27/60\n",
      "22368/22368 [==============================] - 25s 1ms/step - loss: 324.3845 - val_loss: 351.3795\n",
      "Epoch 28/60\n",
      "22368/22368 [==============================] - 24s 1ms/step - loss: 323.7616 - val_loss: 352.0611\n"
     ]
    }
   ],
   "source": [
    "history = model.fit(\n",
    "    x=X_train.to_numpy().astype(np.float32),\n",
    "    y=y_train.to_numpy().astype(np.float32),\n",
    "    validation_data=(X_val.to_numpy().astype(np.float32), y_val.to_numpy().astype(np.float32)),\n",
    "\n",
    "    batch_size=df_grid_search.iloc[0][\"batch_size\"],\n",
    "    epochs=60,\n",
    "    callbacks=[early_stopping_cb],\n",
    ")"
   ]
  },
  {
   "cell_type": "code",
   "execution_count": 37,
   "id": "46ec7140-372c-4967-8ffe-e38246007282",
   "metadata": {
    "tags": []
   },
   "outputs": [],
   "source": [
    "model.save(model_path)"
   ]
  },
  {
   "cell_type": "code",
   "execution_count": 31,
   "id": "9d0ab77d-9cee-4e16-87fd-86e061ce2ac7",
   "metadata": {
    "tags": []
   },
   "outputs": [
    {
     "data": {
      "text/plain": [
       "<matplotlib.legend.Legend at 0x1326383edd0>"
      ]
     },
     "execution_count": 31,
     "metadata": {},
     "output_type": "execute_result"
    },
    {
     "data": {
      "image/png": "[encoded data removed]",
      "text/plain": [
       "<Figure size 1500x700 with 1 Axes>"
      ]
     },
     "metadata": {},
     "output_type": "display_data"
    }
   ],
   "source": [
    "plt.figure(figsize=(15, 7))\n",
    "\n",
    "for d in history.history.values():\n",
    "    plt.plot(d)\n",
    "\n",
    "plt.legend(history.history.keys())"
   ]
  },
  {
   "cell_type": "markdown",
   "id": "db6ef7ff-10df-405e-8404-24f5a1e28bf3",
   "metadata": {},
   "source": [
    "## 8.5. Score"
   ]
  },
  {
   "cell_type": "code",
   "execution_count": 38,
   "id": "473e00ff-c045-4a32-a02e-ce87d2df7b1f",
   "metadata": {
    "tags": []
   },
   "outputs": [
    {
     "name": "stdout",
     "output_type": "stream",
     "text": [
      "874/874 [==============================] - 1s 781us/step\n"
     ]
    },
    {
     "data": {
      "text/plain": [
       "array([[136.31099 ],\n",
       "       [ 65.85764 ],\n",
       "       [536.8732  ],\n",
       "       ...,\n",
       "       [ 76.5296  ],\n",
       "       [ 67.125786],\n",
       "       [ 93.807014]], dtype=float32)"
      ]
     },
     "execution_count": 38,
     "metadata": {},
     "output_type": "execute_result"
    }
   ],
   "source": [
    "pred = model.predict(X_test)\n",
    "pred"
   ]
  },
  {
   "cell_type": "code",
   "execution_count": 53,
   "id": "4770c4dc-6fbc-4099-b4d6-cac9cf32349c",
   "metadata": {
    "tags": []
   },
   "outputs": [
    {
     "data": {
      "text/plain": [
       "337.28029759649894"
      ]
     },
     "execution_count": 53,
     "metadata": {},
     "output_type": "execute_result"
    }
   ],
   "source": [
    "mae = mean_absolute_error(y_test, pred)\n",
    "mae"
   ]
  },
  {
   "cell_type": "code",
   "execution_count": 40,
   "id": "c46f0564-8e70-49ba-b63c-5ed2c96b5900",
   "metadata": {
    "tags": []
   },
   "outputs": [
    {
     "data": {
      "text/plain": [
       "[<matplotlib.lines.Line2D at 0x1326396a010>]"
      ]
     },
     "execution_count": 40,
     "metadata": {},
     "output_type": "execute_result"
    },
    {
     "data": {
      "image/png": "[encoded data removed]",
      "text/plain": [
       "<Figure size 2500x700 with 1 Axes>"
      ]
     },
     "metadata": {},
     "output_type": "display_data"
    }
   ],
   "source": [
    "rng = slice(340, 380)\n",
    "\n",
    "plt.figure(figsize=(25, 7))\n",
    "plt.plot(y_test[rng].values)\n",
    "plt.plot(pred[rng])"
   ]
  },
  {
   "cell_type": "code",
   "execution_count": 41,
   "id": "275ff095-3c39-41f6-b25c-e64d869adc1e",
   "metadata": {
    "tags": []
   },
   "outputs": [
    {
     "name": "stdout",
     "output_type": "stream",
     "text": [
      "atomic_benchmark runtimes: 0.05338335037231445 0.057189106941223145 0.26746559143066406\n"
     ]
    }
   ],
   "source": [
    "results = atomic_benchmark_estimator(model, X_test[:5000], verbose=True, kwargs_estimator_predict=dict(verbose=0))"
   ]
  },
  {
   "cell_type": "code",
   "execution_count": 43,
   "id": "d111aea2-7590-40ec-a46a-88bdbdaf2e6c",
   "metadata": {
    "tags": []
   },
   "outputs": [
    {
     "data": {
      "text/plain": [
       "<Axes: >"
      ]
     },
     "execution_count": 43,
     "metadata": {},
     "output_type": "execute_result"
    },
    {
     "data": {
      "image/png": "[encoded data removed]",
      "text/plain": [
       "<Figure size 640x480 with 1 Axes>"
      ]
     },
     "metadata": {},
     "output_type": "display_data"
    }
   ],
   "source": [
    "sns.boxplot(results, orient=\"h\")"
   ]
  },
  {
   "cell_type": "code",
   "execution_count": 45,
   "id": "f7fa7f6a-8594-4e2f-b7a6-19f938a26267",
   "metadata": {
    "tags": []
   },
   "outputs": [
    {
     "data": {
      "text/plain": [
       "0.09750080090539315"
      ]
     },
     "execution_count": 45,
     "metadata": {},
     "output_type": "execute_result"
    }
   ],
   "source": [
    "score = r2_score(y_test, pred)\n",
    "score"
   ]
  },
  {
   "cell_type": "code",
   "execution_count": 54,
   "id": "2bf84697-fba6-4d1f-8c9e-9c88f8bfdefa",
   "metadata": {
    "tags": []
   },
   "outputs": [],
   "source": [
    "store_model_performance(\n",
    "    model_name=\"grid-searched-2\",\n",
    "    R2_score=score,\n",
    "    mae=mae,\n",
    "    avarage_predication_time=results.mean(),\n",
    "    parameters=df_grid_search.iloc[0][[\"batch_size\", \"first_activation\", \"first_n_nodes\", \"layers\", \"model_opt\"]].to_dict(),\n",
    ")"
   ]
  }
 ],
 "metadata": {
  "kernelspec": {
   "display_name": "Python 3 (ipykernel)",
   "language": "python",
   "name": "python3"
  },
  "language_info": {
   "codemirror_mode": {
    "name": "ipython",
    "version": 3
   },
   "file_extension": ".py",
   "mimetype": "text/x-python",
   "name": "python",
   "nbconvert_exporter": "python",
   "pygments_lexer": "ipython3",
   "version": "3.11.3"
  }
 },
 "nbformat": 4,
 "nbformat_minor": 5
}
