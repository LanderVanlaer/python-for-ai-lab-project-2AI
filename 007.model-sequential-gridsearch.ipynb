{
 "cells": [
  {
   "cell_type": "markdown",
   "id": "676078e9-ce73-4aa6-9fa2-3ba629dbeef5",
   "metadata": {},
   "source": [
    "# 7. Sequential GridSearchCV"
   ]
  },
  {
   "cell_type": "code",
   "execution_count": 1,
   "id": "77e5cc45-6563-411c-8e53-d357d9b8205b",
   "metadata": {
    "tags": []
   },
   "outputs": [],
   "source": [
    "import joblib\n",
    "import os\n",
    "\n",
    "import pandas as pd\n",
    "\n",
    "from sklearn.model_selection import GridSearchCV\n",
    "from sklearn.metrics import mean_absolute_error, r2_score\n",
    "from sklearn.preprocessing import StandardScaler\n",
    "\n",
    "import tensorflow as tf\n",
    "from tensorflow import keras\n",
    "from tensorflow.keras import layers\n",
    "\n",
    "from keras.layers import Dense\n",
    "from keras.callbacks import EarlyStopping\n",
    "\n",
    "from scikeras.wrappers import KerasRegressor\n",
    "\n",
    "import matplotlib.pyplot as plt\n",
    "\n",
    "import seaborn as sns"
   ]
  },
  {
   "cell_type": "code",
   "execution_count": 2,
   "id": "9dd6ce72-443d-4b77-b0b4-2091bafa3049",
   "metadata": {
    "tags": []
   },
   "outputs": [],
   "source": [
    "%run ./scripts/store_model_performance.py\n",
    "%run ./scripts/atomic_benchmark_estimator.py\n",
    "%run ./scripts/get_all_possible_combinations.py"
   ]
  },
  {
   "cell_type": "code",
   "execution_count": 3,
   "id": "bec1979e-987a-4c57-8126-d135afb33da1",
   "metadata": {
    "tags": []
   },
   "outputs": [
    {
     "data": {
      "text/html": [
       "<div>\n",
       "<style scoped>\n",
       "    .dataframe tbody tr th:only-of-type {\n",
       "        vertical-align: middle;\n",
       "    }\n",
       "\n",
       "    .dataframe tbody tr th {\n",
       "        vertical-align: top;\n",
       "    }\n",
       "\n",
       "    .dataframe thead th {\n",
       "        text-align: right;\n",
       "    }\n",
       "</style>\n",
       "<table border=\"1\" class=\"dataframe\">\n",
       "  <thead>\n",
       "    <tr style=\"text-align: right;\">\n",
       "      <th></th>\n",
       "      <th>price</th>\n",
       "      <th>host_is_superhost</th>\n",
       "      <th>host_total_listings_count</th>\n",
       "      <th>host_has_profile_pic</th>\n",
       "      <th>host_identity_verified</th>\n",
       "      <th>latitude</th>\n",
       "      <th>longitude</th>\n",
       "      <th>accommodates</th>\n",
       "      <th>bedrooms</th>\n",
       "      <th>review_scores_rating</th>\n",
       "      <th>...</th>\n",
       "      <th>Shampoo</th>\n",
       "      <th>Smoke alarm</th>\n",
       "      <th>Stove</th>\n",
       "      <th>TV</th>\n",
       "      <th>Washer</th>\n",
       "      <th>Wifi</th>\n",
       "      <th>Entire place</th>\n",
       "      <th>Hotel room</th>\n",
       "      <th>Private room</th>\n",
       "      <th>Shared room</th>\n",
       "    </tr>\n",
       "  </thead>\n",
       "  <tbody>\n",
       "    <tr>\n",
       "      <th>0</th>\n",
       "      <td>53</td>\n",
       "      <td>0</td>\n",
       "      <td>0.000138</td>\n",
       "      <td>1</td>\n",
       "      <td>0</td>\n",
       "      <td>0.543185</td>\n",
       "      <td>0.012963</td>\n",
       "      <td>0.066667</td>\n",
       "      <td>0.0</td>\n",
       "      <td>1.0</td>\n",
       "      <td>...</td>\n",
       "      <td>0</td>\n",
       "      <td>0</td>\n",
       "      <td>0</td>\n",
       "      <td>0</td>\n",
       "      <td>1</td>\n",
       "      <td>1</td>\n",
       "      <td>1.0</td>\n",
       "      <td>0.0</td>\n",
       "      <td>0.0</td>\n",
       "      <td>0.0</td>\n",
       "    </tr>\n",
       "    <tr>\n",
       "      <th>1</th>\n",
       "      <td>120</td>\n",
       "      <td>0</td>\n",
       "      <td>0.000138</td>\n",
       "      <td>1</td>\n",
       "      <td>1</td>\n",
       "      <td>0.543180</td>\n",
       "      <td>0.013029</td>\n",
       "      <td>0.066667</td>\n",
       "      <td>0.0</td>\n",
       "      <td>1.0</td>\n",
       "      <td>...</td>\n",
       "      <td>1</td>\n",
       "      <td>0</td>\n",
       "      <td>0</td>\n",
       "      <td>0</td>\n",
       "      <td>1</td>\n",
       "      <td>1</td>\n",
       "      <td>1.0</td>\n",
       "      <td>0.0</td>\n",
       "      <td>0.0</td>\n",
       "      <td>0.0</td>\n",
       "    </tr>\n",
       "    <tr>\n",
       "      <th>2</th>\n",
       "      <td>89</td>\n",
       "      <td>0</td>\n",
       "      <td>0.000138</td>\n",
       "      <td>1</td>\n",
       "      <td>0</td>\n",
       "      <td>0.543124</td>\n",
       "      <td>0.012873</td>\n",
       "      <td>0.066667</td>\n",
       "      <td>0.0</td>\n",
       "      <td>1.0</td>\n",
       "      <td>...</td>\n",
       "      <td>0</td>\n",
       "      <td>0</td>\n",
       "      <td>0</td>\n",
       "      <td>1</td>\n",
       "      <td>1</td>\n",
       "      <td>1</td>\n",
       "      <td>1.0</td>\n",
       "      <td>0.0</td>\n",
       "      <td>0.0</td>\n",
       "      <td>0.0</td>\n",
       "    </tr>\n",
       "    <tr>\n",
       "      <th>3</th>\n",
       "      <td>58</td>\n",
       "      <td>0</td>\n",
       "      <td>0.000138</td>\n",
       "      <td>1</td>\n",
       "      <td>1</td>\n",
       "      <td>0.542730</td>\n",
       "      <td>0.012810</td>\n",
       "      <td>0.066667</td>\n",
       "      <td>0.0</td>\n",
       "      <td>1.0</td>\n",
       "      <td>...</td>\n",
       "      <td>0</td>\n",
       "      <td>0</td>\n",
       "      <td>0</td>\n",
       "      <td>1</td>\n",
       "      <td>0</td>\n",
       "      <td>1</td>\n",
       "      <td>1.0</td>\n",
       "      <td>0.0</td>\n",
       "      <td>0.0</td>\n",
       "      <td>0.0</td>\n",
       "    </tr>\n",
       "    <tr>\n",
       "      <th>4</th>\n",
       "      <td>60</td>\n",
       "      <td>0</td>\n",
       "      <td>0.000138</td>\n",
       "      <td>1</td>\n",
       "      <td>0</td>\n",
       "      <td>0.542833</td>\n",
       "      <td>0.012610</td>\n",
       "      <td>0.066667</td>\n",
       "      <td>0.0</td>\n",
       "      <td>1.0</td>\n",
       "      <td>...</td>\n",
       "      <td>0</td>\n",
       "      <td>0</td>\n",
       "      <td>0</td>\n",
       "      <td>1</td>\n",
       "      <td>1</td>\n",
       "      <td>1</td>\n",
       "      <td>1.0</td>\n",
       "      <td>0.0</td>\n",
       "      <td>0.0</td>\n",
       "      <td>0.0</td>\n",
       "    </tr>\n",
       "    <tr>\n",
       "      <th>...</th>\n",
       "      <td>...</td>\n",
       "      <td>...</td>\n",
       "      <td>...</td>\n",
       "      <td>...</td>\n",
       "      <td>...</td>\n",
       "      <td>...</td>\n",
       "      <td>...</td>\n",
       "      <td>...</td>\n",
       "      <td>...</td>\n",
       "      <td>...</td>\n",
       "      <td>...</td>\n",
       "      <td>...</td>\n",
       "      <td>...</td>\n",
       "      <td>...</td>\n",
       "      <td>...</td>\n",
       "      <td>...</td>\n",
       "      <td>...</td>\n",
       "      <td>...</td>\n",
       "      <td>...</td>\n",
       "      <td>...</td>\n",
       "      <td>...</td>\n",
       "    </tr>\n",
       "    <tr>\n",
       "      <th>279707</th>\n",
       "      <td>120</td>\n",
       "      <td>0</td>\n",
       "      <td>0.000138</td>\n",
       "      <td>1</td>\n",
       "      <td>1</td>\n",
       "      <td>0.542522</td>\n",
       "      <td>0.012857</td>\n",
       "      <td>0.066667</td>\n",
       "      <td>0.0</td>\n",
       "      <td>1.0</td>\n",
       "      <td>...</td>\n",
       "      <td>0</td>\n",
       "      <td>1</td>\n",
       "      <td>0</td>\n",
       "      <td>1</td>\n",
       "      <td>1</td>\n",
       "      <td>1</td>\n",
       "      <td>1.0</td>\n",
       "      <td>0.0</td>\n",
       "      <td>0.0</td>\n",
       "      <td>0.0</td>\n",
       "    </tr>\n",
       "    <tr>\n",
       "      <th>279708</th>\n",
       "      <td>60</td>\n",
       "      <td>0</td>\n",
       "      <td>0.000138</td>\n",
       "      <td>1</td>\n",
       "      <td>1</td>\n",
       "      <td>0.543257</td>\n",
       "      <td>0.012956</td>\n",
       "      <td>0.066667</td>\n",
       "      <td>0.0</td>\n",
       "      <td>1.0</td>\n",
       "      <td>...</td>\n",
       "      <td>1</td>\n",
       "      <td>0</td>\n",
       "      <td>0</td>\n",
       "      <td>1</td>\n",
       "      <td>1</td>\n",
       "      <td>1</td>\n",
       "      <td>1.0</td>\n",
       "      <td>0.0</td>\n",
       "      <td>0.0</td>\n",
       "      <td>0.0</td>\n",
       "    </tr>\n",
       "    <tr>\n",
       "      <th>279709</th>\n",
       "      <td>50</td>\n",
       "      <td>0</td>\n",
       "      <td>0.000138</td>\n",
       "      <td>1</td>\n",
       "      <td>1</td>\n",
       "      <td>0.543189</td>\n",
       "      <td>0.013051</td>\n",
       "      <td>0.066667</td>\n",
       "      <td>0.0</td>\n",
       "      <td>1.0</td>\n",
       "      <td>...</td>\n",
       "      <td>1</td>\n",
       "      <td>0</td>\n",
       "      <td>0</td>\n",
       "      <td>0</td>\n",
       "      <td>1</td>\n",
       "      <td>1</td>\n",
       "      <td>1.0</td>\n",
       "      <td>0.0</td>\n",
       "      <td>0.0</td>\n",
       "      <td>0.0</td>\n",
       "    </tr>\n",
       "    <tr>\n",
       "      <th>279710</th>\n",
       "      <td>105</td>\n",
       "      <td>0</td>\n",
       "      <td>0.000138</td>\n",
       "      <td>1</td>\n",
       "      <td>1</td>\n",
       "      <td>0.542965</td>\n",
       "      <td>0.013229</td>\n",
       "      <td>0.066667</td>\n",
       "      <td>0.0</td>\n",
       "      <td>1.0</td>\n",
       "      <td>...</td>\n",
       "      <td>1</td>\n",
       "      <td>1</td>\n",
       "      <td>0</td>\n",
       "      <td>1</td>\n",
       "      <td>1</td>\n",
       "      <td>1</td>\n",
       "      <td>1.0</td>\n",
       "      <td>0.0</td>\n",
       "      <td>0.0</td>\n",
       "      <td>0.0</td>\n",
       "    </tr>\n",
       "    <tr>\n",
       "      <th>279711</th>\n",
       "      <td>70</td>\n",
       "      <td>0</td>\n",
       "      <td>0.000138</td>\n",
       "      <td>1</td>\n",
       "      <td>1</td>\n",
       "      <td>0.543024</td>\n",
       "      <td>0.013129</td>\n",
       "      <td>0.066667</td>\n",
       "      <td>0.0</td>\n",
       "      <td>1.0</td>\n",
       "      <td>...</td>\n",
       "      <td>1</td>\n",
       "      <td>0</td>\n",
       "      <td>0</td>\n",
       "      <td>0</td>\n",
       "      <td>1</td>\n",
       "      <td>1</td>\n",
       "      <td>1.0</td>\n",
       "      <td>0.0</td>\n",
       "      <td>0.0</td>\n",
       "      <td>0.0</td>\n",
       "    </tr>\n",
       "  </tbody>\n",
       "</table>\n",
       "<p>279599 rows × 64 columns</p>\n",
       "</div>"
      ],
      "text/plain": [
       "        price  host_is_superhost  host_total_listings_count   \n",
       "0          53                  0                   0.000138  \\\n",
       "1         120                  0                   0.000138   \n",
       "2          89                  0                   0.000138   \n",
       "3          58                  0                   0.000138   \n",
       "4          60                  0                   0.000138   \n",
       "...       ...                ...                        ...   \n",
       "279707    120                  0                   0.000138   \n",
       "279708     60                  0                   0.000138   \n",
       "279709     50                  0                   0.000138   \n",
       "279710    105                  0                   0.000138   \n",
       "279711     70                  0                   0.000138   \n",
       "\n",
       "        host_has_profile_pic  host_identity_verified  latitude  longitude   \n",
       "0                          1                       0  0.543185   0.012963  \\\n",
       "1                          1                       1  0.543180   0.013029   \n",
       "2                          1                       0  0.543124   0.012873   \n",
       "3                          1                       1  0.542730   0.012810   \n",
       "4                          1                       0  0.542833   0.012610   \n",
       "...                      ...                     ...       ...        ...   \n",
       "279707                     1                       1  0.542522   0.012857   \n",
       "279708                     1                       1  0.543257   0.012956   \n",
       "279709                     1                       1  0.543189   0.013051   \n",
       "279710                     1                       1  0.542965   0.013229   \n",
       "279711                     1                       1  0.543024   0.013129   \n",
       "\n",
       "        accommodates  bedrooms  review_scores_rating  ...  Shampoo   \n",
       "0           0.066667       0.0                   1.0  ...        0  \\\n",
       "1           0.066667       0.0                   1.0  ...        1   \n",
       "2           0.066667       0.0                   1.0  ...        0   \n",
       "3           0.066667       0.0                   1.0  ...        0   \n",
       "4           0.066667       0.0                   1.0  ...        0   \n",
       "...              ...       ...                   ...  ...      ...   \n",
       "279707      0.066667       0.0                   1.0  ...        0   \n",
       "279708      0.066667       0.0                   1.0  ...        1   \n",
       "279709      0.066667       0.0                   1.0  ...        1   \n",
       "279710      0.066667       0.0                   1.0  ...        1   \n",
       "279711      0.066667       0.0                   1.0  ...        1   \n",
       "\n",
       "        Smoke alarm  Stove  TV  Washer  Wifi  Entire place  Hotel room   \n",
       "0                 0      0   0       1     1           1.0         0.0  \\\n",
       "1                 0      0   0       1     1           1.0         0.0   \n",
       "2                 0      0   1       1     1           1.0         0.0   \n",
       "3                 0      0   1       0     1           1.0         0.0   \n",
       "4                 0      0   1       1     1           1.0         0.0   \n",
       "...             ...    ...  ..     ...   ...           ...         ...   \n",
       "279707            1      0   1       1     1           1.0         0.0   \n",
       "279708            0      0   1       1     1           1.0         0.0   \n",
       "279709            0      0   0       1     1           1.0         0.0   \n",
       "279710            1      0   1       1     1           1.0         0.0   \n",
       "279711            0      0   0       1     1           1.0         0.0   \n",
       "\n",
       "        Private room  Shared room  \n",
       "0                0.0          0.0  \n",
       "1                0.0          0.0  \n",
       "2                0.0          0.0  \n",
       "3                0.0          0.0  \n",
       "4                0.0          0.0  \n",
       "...              ...          ...  \n",
       "279707           0.0          0.0  \n",
       "279708           0.0          0.0  \n",
       "279709           0.0          0.0  \n",
       "279710           0.0          0.0  \n",
       "279711           0.0          0.0  \n",
       "\n",
       "[279599 rows x 64 columns]"
      ]
     },
     "execution_count": 3,
     "metadata": {},
     "output_type": "execute_result"
    }
   ],
   "source": [
    "df = pd.read_pickle(\"./pickles/003.dataframe.data-preprocessing.pkl\")\n",
    "df"
   ]
  },
  {
   "cell_type": "markdown",
   "id": "45996a5a-f612-4af0-ad2e-f079291e359d",
   "metadata": {
    "tags": []
   },
   "source": [
    "## 7.1. GridSearch"
   ]
  },
  {
   "cell_type": "code",
   "execution_count": 4,
   "id": "f944d341-a870-408f-95f5-9c2d24b29ebb",
   "metadata": {
    "tags": []
   },
   "outputs": [
    {
     "data": {
      "text/plain": [
       "63"
      ]
     },
     "execution_count": 4,
     "metadata": {},
     "output_type": "execute_result"
    }
   ],
   "source": [
    "input_size = df.shape[1] - 1\n",
    "input_size"
   ]
  },
  {
   "cell_type": "code",
   "execution_count": 6,
   "id": "5bdaf10a-1a4d-410d-aaad-7d25832c5fe8",
   "metadata": {
    "tags": []
   },
   "outputs": [],
   "source": [
    "def create_model(layers, model_opt, first_activation, first_n_nodes):\n",
    "    model = keras.models.Sequential()\n",
    "\n",
    "    model.add(Dense(first_n_nodes, input_shape=(input_size,), activation=first_activation))\n",
    "\n",
    "    for act, n_nodes in zip(*layers):\n",
    "        model.add(Dense(n_nodes, activation=act))\n",
    "\n",
    "    model.add(Dense(1, activation=\"linear\"))\n",
    "\n",
    "    model.compile(\n",
    "        optimizer=model_opt,\n",
    "        loss=\"mae\",\n",
    "    )\n",
    "    \n",
    "    return model"
   ]
  },
  {
   "cell_type": "code",
   "execution_count": 6,
   "id": "30cefce6-db9f-440d-aa20-6bbe98ba1945",
   "metadata": {
    "tags": []
   },
   "outputs": [],
   "source": [
    "activations = [\"tanh\"]"
   ]
  },
  {
   "cell_type": "code",
   "execution_count": 7,
   "id": "c2937a7d-b47c-4569-9a1d-04e06038472f",
   "metadata": {
    "tags": []
   },
   "outputs": [],
   "source": [
    "n_nodes = [10, 64, 64 * 2]"
   ]
  },
  {
   "cell_type": "code",
   "execution_count": 8,
   "id": "63c85890-eced-4d1f-93e6-4d5c8d2560c1",
   "metadata": {
    "tags": []
   },
   "outputs": [
    {
     "data": {
      "text/html": [
       "<div>\n",
       "<style scoped>\n",
       "    .dataframe tbody tr th:only-of-type {\n",
       "        vertical-align: middle;\n",
       "    }\n",
       "\n",
       "    .dataframe tbody tr th {\n",
       "        vertical-align: top;\n",
       "    }\n",
       "\n",
       "    .dataframe thead th {\n",
       "        text-align: right;\n",
       "    }\n",
       "</style>\n",
       "<table border=\"1\" class=\"dataframe\">\n",
       "  <thead>\n",
       "    <tr style=\"text-align: right;\">\n",
       "      <th></th>\n",
       "      <th>0</th>\n",
       "      <th>1</th>\n",
       "    </tr>\n",
       "  </thead>\n",
       "  <tbody>\n",
       "    <tr>\n",
       "      <th>0</th>\n",
       "      <td>[tanh, tanh]</td>\n",
       "      <td>[10, 10]</td>\n",
       "    </tr>\n",
       "    <tr>\n",
       "      <th>1</th>\n",
       "      <td>[tanh, tanh]</td>\n",
       "      <td>[10, 64]</td>\n",
       "    </tr>\n",
       "    <tr>\n",
       "      <th>2</th>\n",
       "      <td>[tanh, tanh]</td>\n",
       "      <td>[10, 128]</td>\n",
       "    </tr>\n",
       "    <tr>\n",
       "      <th>3</th>\n",
       "      <td>[tanh, tanh]</td>\n",
       "      <td>[64, 10]</td>\n",
       "    </tr>\n",
       "    <tr>\n",
       "      <th>4</th>\n",
       "      <td>[tanh, tanh]</td>\n",
       "      <td>[64, 64]</td>\n",
       "    </tr>\n",
       "    <tr>\n",
       "      <th>5</th>\n",
       "      <td>[tanh, tanh]</td>\n",
       "      <td>[64, 128]</td>\n",
       "    </tr>\n",
       "    <tr>\n",
       "      <th>6</th>\n",
       "      <td>[tanh, tanh]</td>\n",
       "      <td>[128, 10]</td>\n",
       "    </tr>\n",
       "    <tr>\n",
       "      <th>7</th>\n",
       "      <td>[tanh, tanh]</td>\n",
       "      <td>[128, 64]</td>\n",
       "    </tr>\n",
       "    <tr>\n",
       "      <th>8</th>\n",
       "      <td>[tanh, tanh]</td>\n",
       "      <td>[128, 128]</td>\n",
       "    </tr>\n",
       "  </tbody>\n",
       "</table>\n",
       "</div>"
      ],
      "text/plain": [
       "              0           1\n",
       "0  [tanh, tanh]    [10, 10]\n",
       "1  [tanh, tanh]    [10, 64]\n",
       "2  [tanh, tanh]   [10, 128]\n",
       "3  [tanh, tanh]    [64, 10]\n",
       "4  [tanh, tanh]    [64, 64]\n",
       "5  [tanh, tanh]   [64, 128]\n",
       "6  [tanh, tanh]   [128, 10]\n",
       "7  [tanh, tanh]   [128, 64]\n",
       "8  [tanh, tanh]  [128, 128]"
      ]
     },
     "execution_count": 8,
     "metadata": {},
     "output_type": "execute_result"
    }
   ],
   "source": [
    "pd.DataFrame(r_get_all_combinations(2, [activations, n_nodes]))"
   ]
  },
  {
   "cell_type": "code",
   "execution_count": 9,
   "id": "1faeaeb8-2092-46c4-95bb-b7a4434e2a9a",
   "metadata": {},
   "outputs": [
    {
     "data": {
      "text/plain": [
       "[5, 8, 11]"
      ]
     },
     "execution_count": 9,
     "metadata": {},
     "output_type": "execute_result"
    }
   ],
   "source": [
    "list(range(5, 13, 3))"
   ]
  },
  {
   "cell_type": "code",
   "execution_count": 10,
   "id": "b2144117-4b72-4d23-b3c0-09de6ec6d05e",
   "metadata": {
    "tags": []
   },
   "outputs": [],
   "source": [
    "params = {\n",
    "    \"layers\": r_get_all_combinations(2, [activations, n_nodes]), # layers\n",
    "    \"model_opt\": [\"adam\"],\n",
    "    \"epochs\": list(range(10, 60, 20)),\n",
    "    \"first_activation\": activations,\n",
    "    \"first_n_nodes\": n_nodes,\n",
    "    \"batch_size\": [10],\n",
    "}"
   ]
  },
  {
   "cell_type": "code",
   "execution_count": 11,
   "id": "45039489-a668-45ea-b5d0-ec32e44db725",
   "metadata": {
    "tags": []
   },
   "outputs": [
    {
     "data": {
      "text/plain": [
       "486"
      ]
     },
     "execution_count": 11,
     "metadata": {},
     "output_type": "execute_result"
    }
   ],
   "source": [
    "np.product([len(p) for p in params.values()]) * 6 # CV"
   ]
  },
  {
   "cell_type": "code",
   "execution_count": 13,
   "id": "d31c7167-0005-40c7-9c30-da819dfdc82c",
   "metadata": {
    "tags": []
   },
   "outputs": [
    {
     "data": {
      "text/plain": [
       "<keras.callbacks.EarlyStopping at 0x2192d492690>"
      ]
     },
     "execution_count": 13,
     "metadata": {},
     "output_type": "execute_result"
    }
   ],
   "source": [
    "early_stopping_monitor = EarlyStopping(patience=2, monitor=\"loss\")\n",
    "early_stopping_monitor"
   ]
  },
  {
   "cell_type": "code",
   "execution_count": 14,
   "id": "cdb14604-713e-4319-9a41-651210df2edc",
   "metadata": {
    "tags": []
   },
   "outputs": [],
   "source": [
    "keras_regressor = KerasRegressor(\n",
    "    model=create_model,\n",
    "    verbose=3,\n",
    "    callbacks=[early_stopping_monitor],\n",
    "    **{n: params[n][0] for n in params},\n",
    ")"
   ]
  },
  {
   "cell_type": "code",
   "execution_count": 15,
   "id": "f048c803-8c9a-4f47-8062-a0b729d123ad",
   "metadata": {
    "tags": []
   },
   "outputs": [],
   "source": [
    "grid = GridSearchCV(\n",
    "    estimator=keras_regressor,\n",
    "    param_grid=params,\n",
    "    n_jobs=15,\n",
    "    cv=6,\n",
    "    scoring=\"neg_mean_absolute_error\",\n",
    "    verbose=3,\n",
    "    error_score=\"raise\",\n",
    ")"
   ]
  },
  {
   "cell_type": "code",
   "execution_count": 16,
   "id": "7ee33880-b2f4-4350-906a-691990a00395",
   "metadata": {
    "tags": []
   },
   "outputs": [
    {
     "data": {
      "text/plain": [
       "array([[0.00000000e+00, 1.38217001e-04, 1.00000000e+00, ...,\n",
       "        0.00000000e+00, 0.00000000e+00, 0.00000000e+00],\n",
       "       [0.00000000e+00, 1.38217001e-04, 1.00000000e+00, ...,\n",
       "        0.00000000e+00, 0.00000000e+00, 0.00000000e+00],\n",
       "       [0.00000000e+00, 1.38217001e-04, 1.00000000e+00, ...,\n",
       "        0.00000000e+00, 0.00000000e+00, 0.00000000e+00],\n",
       "       ...,\n",
       "       [0.00000000e+00, 1.38217001e-04, 1.00000000e+00, ...,\n",
       "        0.00000000e+00, 0.00000000e+00, 0.00000000e+00],\n",
       "       [0.00000000e+00, 1.38217001e-04, 1.00000000e+00, ...,\n",
       "        0.00000000e+00, 0.00000000e+00, 0.00000000e+00],\n",
       "       [0.00000000e+00, 1.38217001e-04, 1.00000000e+00, ...,\n",
       "        0.00000000e+00, 0.00000000e+00, 0.00000000e+00]])"
      ]
     },
     "execution_count": 16,
     "metadata": {},
     "output_type": "execute_result"
    }
   ],
   "source": [
    "df.iloc[:, 1:].to_numpy()"
   ]
  },
  {
   "cell_type": "code",
   "execution_count": 17,
   "id": "c4d8f0cf-a61f-4cc3-9cca-9c06efcca198",
   "metadata": {
    "tags": []
   },
   "outputs": [
    {
     "data": {
      "text/plain": [
       "array([[53],\n",
       "       [120],\n",
       "       [89],\n",
       "       ...,\n",
       "       [50],\n",
       "       [105],\n",
       "       [70]], dtype=object)"
      ]
     },
     "execution_count": 17,
     "metadata": {},
     "output_type": "execute_result"
    }
   ],
   "source": [
    "df.iloc[:, :1].to_numpy()"
   ]
  },
  {
   "cell_type": "code",
   "execution_count": null,
   "id": "7bb28e9e-1f06-49b3-a9b7-53010960912c",
   "metadata": {},
   "outputs": [
    {
     "name": "stdout",
     "output_type": "stream",
     "text": [
      "Fitting 6 folds for each of 81 candidates, totalling 486 fits\n"
     ]
    },
    {
     "name": "stderr",
     "output_type": "stream",
     "text": [
      "C:\\Users\\lande\\AppData\\Local\\Programs\\Python\\Python311\\Lib\\site-packages\\joblib\\externals\\loky\\process_executor.py:700: UserWarning: A worker stopped while some jobs were given to the executor. This can be caused by a too short worker timeout or by a memory leak.\n",
      "  warnings.warn(\n"
     ]
    }
   ],
   "source": [
    "grid.fit(df.iloc[:, 1:].to_numpy(), df.iloc[:, :1].to_numpy(), verbose=3)"
   ]
  },
  {
   "cell_type": "markdown",
   "id": "6cb21a63-7e66-4ca8-a6b6-8fad6ea90db7",
   "metadata": {},
   "source": [
    "Because the grid searchcv took too long, it was stopped while 'training'. The log output is stored in a [separate file](data/007.gridsearchcv-output.log)\n",
    "We will extract the output [here](008.grid-search-cv-extract.ipynb)"
   ]
  },
  {
   "cell_type": "code",
   "execution_count": null,
   "id": "42d340b3-e7ac-44f0-a583-a1a51f00cc25",
   "metadata": {
    "tags": []
   },
   "outputs": [],
   "source": [
    "grid.best_params_"
   ]
  }
 ],
 "metadata": {
  "kernelspec": {
   "display_name": "Python 3 (ipykernel)",
   "language": "python",
   "name": "python3"
  },
  "language_info": {
   "codemirror_mode": {
    "name": "ipython",
    "version": 3
   },
   "file_extension": ".py",
   "mimetype": "text/x-python",
   "name": "python",
   "nbconvert_exporter": "python",
   "pygments_lexer": "ipython3",
   "version": "3.11.3"
  }
 },
 "nbformat": 4,
 "nbformat_minor": 5
}
